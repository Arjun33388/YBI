{
  "nbformat": 4,
  "nbformat_minor": 0,
  "metadata": {
    "colab": {
      "provenance": []
    },
    "kernelspec": {
      "name": "python3",
      "display_name": "Python 3"
    },
    "language_info": {
      "name": "python"
    }
  },
  "cells": [
    {
      "cell_type": "markdown",
      "source": [
        "**Movie Recommendation System**"
      ],
      "metadata": {
        "id": "U22TOVqb9kiY"
      }
    },
    {
      "cell_type": "markdown",
      "source": [
        "Connecting Google Drive and Kaggle Datasets"
      ],
      "metadata": {
        "id": "FAr2hgll9wWO"
      }
    },
    {
      "cell_type": "code",
      "execution_count": 156,
      "metadata": {
        "id": "S95thRWFL7qt"
      },
      "outputs": [],
      "source": [
        "!pip install -q kaggle"
      ]
    },
    {
      "cell_type": "code",
      "source": [
        "from google.colab import drive\n",
        "drive.mount('/content/drive')"
      ],
      "metadata": {
        "id": "GdrP4qvTbir1",
        "colab": {
          "base_uri": "https://localhost:8080/"
        },
        "outputId": "fd40872a-ec59-4e77-eb7c-c986086f4375"
      },
      "execution_count": 157,
      "outputs": [
        {
          "output_type": "stream",
          "name": "stdout",
          "text": [
            "Drive already mounted at /content/drive; to attempt to forcibly remount, call drive.mount(\"/content/drive\", force_remount=True).\n"
          ]
        }
      ]
    },
    {
      "cell_type": "code",
      "source": [
        "! mkdir ~/.kaggle\n",
        "! cp /content/drive/MyDrive/Kaggle/kaggle.json ~/.kaggle/\n",
        "! chmod 600 ~/.kaggle/kaggle.json"
      ],
      "metadata": {
        "id": "tXrmvwUycJJK",
        "colab": {
          "base_uri": "https://localhost:8080/"
        },
        "collapsed": true,
        "outputId": "25ba7912-47f6-4f46-cce4-04c447382504"
      },
      "execution_count": 158,
      "outputs": [
        {
          "output_type": "stream",
          "name": "stdout",
          "text": [
            "mkdir: cannot create directory ‘/root/.kaggle’: File exists\n",
            "cp: cannot stat '/content/drive/MyDrive/Kaggle/kaggle.json': No such file or directory\n"
          ]
        }
      ]
    },
    {
      "cell_type": "code",
      "source": [
        "! kaggle datasets download akshaydattatraykhare/movies-dataset"
      ],
      "metadata": {
        "id": "FLEomclOc5ie",
        "colab": {
          "base_uri": "https://localhost:8080/"
        },
        "outputId": "92ea8411-c30a-4497-fd77-1df4d422aadb"
      },
      "execution_count": 159,
      "outputs": [
        {
          "output_type": "stream",
          "name": "stdout",
          "text": [
            "Dataset URL: https://www.kaggle.com/datasets/akshaydattatraykhare/movies-dataset\n",
            "License(s): other\n",
            "Downloading movies-dataset.zip to /content\n",
            " 90% 8.00M/8.89M [00:01<00:00, 13.0MB/s]\n",
            "100% 8.89M/8.89M [00:01<00:00, 8.57MB/s]\n"
          ]
        }
      ]
    },
    {
      "cell_type": "code",
      "source": [
        "!unzip movies-dataset.zip"
      ],
      "metadata": {
        "id": "Z1h0kdtydXri",
        "colab": {
          "base_uri": "https://localhost:8080/"
        },
        "outputId": "e8e42678-5db1-4104-8b51-9ab67b63cfc5"
      },
      "execution_count": 160,
      "outputs": [
        {
          "output_type": "stream",
          "name": "stdout",
          "text": [
            "Archive:  movies-dataset.zip\n",
            "  inflating: tmdb_5000_credits.csv   \n",
            "  inflating: tmdb_5000_movies.csv    \n"
          ]
        }
      ]
    },
    {
      "cell_type": "markdown",
      "source": [
        "Importing Libraries"
      ],
      "metadata": {
        "id": "iPLEmZL392Vo"
      }
    },
    {
      "source": [
        "import numpy as np\n",
        "import pandas as pd\n",
        "from sklearn.feature_extraction.text import TfidfVectorizer"
      ],
      "cell_type": "code",
      "metadata": {
        "id": "E_xw17fqy0nF"
      },
      "execution_count": 161,
      "outputs": []
    },
    {
      "cell_type": "markdown",
      "source": [
        "Importing Data in the form of a csv file"
      ],
      "metadata": {
        "id": "bfBW0Ssv95Bt"
      }
    },
    {
      "cell_type": "code",
      "source": [
        "df = pd.read_csv('tmdb_5000_movies.csv')"
      ],
      "metadata": {
        "id": "4wvMPLJCzdvX"
      },
      "execution_count": 162,
      "outputs": []
    },
    {
      "cell_type": "code",
      "source": [
        "df.head(2)"
      ],
      "metadata": {
        "colab": {
          "base_uri": "https://localhost:8080/",
          "height": 323
        },
        "id": "Fy0KCwrjjkW3",
        "outputId": "717c1e31-0c74-4432-91aa-66d0023f1bde"
      },
      "execution_count": 163,
      "outputs": [
        {
          "output_type": "execute_result",
          "data": {
            "text/plain": [
              "      budget                                             genres  \\\n",
              "0  237000000  [{\"id\": 28, \"name\": \"Action\"}, {\"id\": 12, \"nam...   \n",
              "1  300000000  [{\"id\": 12, \"name\": \"Adventure\"}, {\"id\": 14, \"...   \n",
              "\n",
              "                                       homepage     id  \\\n",
              "0                   http://www.avatarmovie.com/  19995   \n",
              "1  http://disney.go.com/disneypictures/pirates/    285   \n",
              "\n",
              "                                            keywords original_language  \\\n",
              "0  [{\"id\": 1463, \"name\": \"culture clash\"}, {\"id\":...                en   \n",
              "1  [{\"id\": 270, \"name\": \"ocean\"}, {\"id\": 726, \"na...                en   \n",
              "\n",
              "                             original_title  \\\n",
              "0                                    Avatar   \n",
              "1  Pirates of the Caribbean: At World's End   \n",
              "\n",
              "                                            overview  popularity  \\\n",
              "0  In the 22nd century, a paraplegic Marine is di...  150.437577   \n",
              "1  Captain Barbossa, long believed to be dead, ha...  139.082615   \n",
              "\n",
              "                                production_companies  \\\n",
              "0  [{\"name\": \"Ingenious Film Partners\", \"id\": 289...   \n",
              "1  [{\"name\": \"Walt Disney Pictures\", \"id\": 2}, {\"...   \n",
              "\n",
              "                                production_countries release_date     revenue  \\\n",
              "0  [{\"iso_3166_1\": \"US\", \"name\": \"United States o...   2009-12-10  2787965087   \n",
              "1  [{\"iso_3166_1\": \"US\", \"name\": \"United States o...   2007-05-19   961000000   \n",
              "\n",
              "   runtime                                   spoken_languages    status  \\\n",
              "0    162.0  [{\"iso_639_1\": \"en\", \"name\": \"English\"}, {\"iso...  Released   \n",
              "1    169.0           [{\"iso_639_1\": \"en\", \"name\": \"English\"}]  Released   \n",
              "\n",
              "                                          tagline  \\\n",
              "0                     Enter the World of Pandora.   \n",
              "1  At the end of the world, the adventure begins.   \n",
              "\n",
              "                                      title  vote_average  vote_count  \n",
              "0                                    Avatar           7.2       11800  \n",
              "1  Pirates of the Caribbean: At World's End           6.9        4500  "
            ],
            "text/html": [
              "\n",
              "  <div id=\"df-0fef18c7-df14-4d7a-87bd-a99147736023\" class=\"colab-df-container\">\n",
              "    <div>\n",
              "<style scoped>\n",
              "    .dataframe tbody tr th:only-of-type {\n",
              "        vertical-align: middle;\n",
              "    }\n",
              "\n",
              "    .dataframe tbody tr th {\n",
              "        vertical-align: top;\n",
              "    }\n",
              "\n",
              "    .dataframe thead th {\n",
              "        text-align: right;\n",
              "    }\n",
              "</style>\n",
              "<table border=\"1\" class=\"dataframe\">\n",
              "  <thead>\n",
              "    <tr style=\"text-align: right;\">\n",
              "      <th></th>\n",
              "      <th>budget</th>\n",
              "      <th>genres</th>\n",
              "      <th>homepage</th>\n",
              "      <th>id</th>\n",
              "      <th>keywords</th>\n",
              "      <th>original_language</th>\n",
              "      <th>original_title</th>\n",
              "      <th>overview</th>\n",
              "      <th>popularity</th>\n",
              "      <th>production_companies</th>\n",
              "      <th>production_countries</th>\n",
              "      <th>release_date</th>\n",
              "      <th>revenue</th>\n",
              "      <th>runtime</th>\n",
              "      <th>spoken_languages</th>\n",
              "      <th>status</th>\n",
              "      <th>tagline</th>\n",
              "      <th>title</th>\n",
              "      <th>vote_average</th>\n",
              "      <th>vote_count</th>\n",
              "    </tr>\n",
              "  </thead>\n",
              "  <tbody>\n",
              "    <tr>\n",
              "      <th>0</th>\n",
              "      <td>237000000</td>\n",
              "      <td>[{\"id\": 28, \"name\": \"Action\"}, {\"id\": 12, \"nam...</td>\n",
              "      <td>http://www.avatarmovie.com/</td>\n",
              "      <td>19995</td>\n",
              "      <td>[{\"id\": 1463, \"name\": \"culture clash\"}, {\"id\":...</td>\n",
              "      <td>en</td>\n",
              "      <td>Avatar</td>\n",
              "      <td>In the 22nd century, a paraplegic Marine is di...</td>\n",
              "      <td>150.437577</td>\n",
              "      <td>[{\"name\": \"Ingenious Film Partners\", \"id\": 289...</td>\n",
              "      <td>[{\"iso_3166_1\": \"US\", \"name\": \"United States o...</td>\n",
              "      <td>2009-12-10</td>\n",
              "      <td>2787965087</td>\n",
              "      <td>162.0</td>\n",
              "      <td>[{\"iso_639_1\": \"en\", \"name\": \"English\"}, {\"iso...</td>\n",
              "      <td>Released</td>\n",
              "      <td>Enter the World of Pandora.</td>\n",
              "      <td>Avatar</td>\n",
              "      <td>7.2</td>\n",
              "      <td>11800</td>\n",
              "    </tr>\n",
              "    <tr>\n",
              "      <th>1</th>\n",
              "      <td>300000000</td>\n",
              "      <td>[{\"id\": 12, \"name\": \"Adventure\"}, {\"id\": 14, \"...</td>\n",
              "      <td>http://disney.go.com/disneypictures/pirates/</td>\n",
              "      <td>285</td>\n",
              "      <td>[{\"id\": 270, \"name\": \"ocean\"}, {\"id\": 726, \"na...</td>\n",
              "      <td>en</td>\n",
              "      <td>Pirates of the Caribbean: At World's End</td>\n",
              "      <td>Captain Barbossa, long believed to be dead, ha...</td>\n",
              "      <td>139.082615</td>\n",
              "      <td>[{\"name\": \"Walt Disney Pictures\", \"id\": 2}, {\"...</td>\n",
              "      <td>[{\"iso_3166_1\": \"US\", \"name\": \"United States o...</td>\n",
              "      <td>2007-05-19</td>\n",
              "      <td>961000000</td>\n",
              "      <td>169.0</td>\n",
              "      <td>[{\"iso_639_1\": \"en\", \"name\": \"English\"}]</td>\n",
              "      <td>Released</td>\n",
              "      <td>At the end of the world, the adventure begins.</td>\n",
              "      <td>Pirates of the Caribbean: At World's End</td>\n",
              "      <td>6.9</td>\n",
              "      <td>4500</td>\n",
              "    </tr>\n",
              "  </tbody>\n",
              "</table>\n",
              "</div>\n",
              "    <div class=\"colab-df-buttons\">\n",
              "\n",
              "  <div class=\"colab-df-container\">\n",
              "    <button class=\"colab-df-convert\" onclick=\"convertToInteractive('df-0fef18c7-df14-4d7a-87bd-a99147736023')\"\n",
              "            title=\"Convert this dataframe to an interactive table.\"\n",
              "            style=\"display:none;\">\n",
              "\n",
              "  <svg xmlns=\"http://www.w3.org/2000/svg\" height=\"24px\" viewBox=\"0 -960 960 960\">\n",
              "    <path d=\"M120-120v-720h720v720H120Zm60-500h600v-160H180v160Zm220 220h160v-160H400v160Zm0 220h160v-160H400v160ZM180-400h160v-160H180v160Zm440 0h160v-160H620v160ZM180-180h160v-160H180v160Zm440 0h160v-160H620v160Z\"/>\n",
              "  </svg>\n",
              "    </button>\n",
              "\n",
              "  <style>\n",
              "    .colab-df-container {\n",
              "      display:flex;\n",
              "      gap: 12px;\n",
              "    }\n",
              "\n",
              "    .colab-df-convert {\n",
              "      background-color: #E8F0FE;\n",
              "      border: none;\n",
              "      border-radius: 50%;\n",
              "      cursor: pointer;\n",
              "      display: none;\n",
              "      fill: #1967D2;\n",
              "      height: 32px;\n",
              "      padding: 0 0 0 0;\n",
              "      width: 32px;\n",
              "    }\n",
              "\n",
              "    .colab-df-convert:hover {\n",
              "      background-color: #E2EBFA;\n",
              "      box-shadow: 0px 1px 2px rgba(60, 64, 67, 0.3), 0px 1px 3px 1px rgba(60, 64, 67, 0.15);\n",
              "      fill: #174EA6;\n",
              "    }\n",
              "\n",
              "    .colab-df-buttons div {\n",
              "      margin-bottom: 4px;\n",
              "    }\n",
              "\n",
              "    [theme=dark] .colab-df-convert {\n",
              "      background-color: #3B4455;\n",
              "      fill: #D2E3FC;\n",
              "    }\n",
              "\n",
              "    [theme=dark] .colab-df-convert:hover {\n",
              "      background-color: #434B5C;\n",
              "      box-shadow: 0px 1px 3px 1px rgba(0, 0, 0, 0.15);\n",
              "      filter: drop-shadow(0px 1px 2px rgba(0, 0, 0, 0.3));\n",
              "      fill: #FFFFFF;\n",
              "    }\n",
              "  </style>\n",
              "\n",
              "    <script>\n",
              "      const buttonEl =\n",
              "        document.querySelector('#df-0fef18c7-df14-4d7a-87bd-a99147736023 button.colab-df-convert');\n",
              "      buttonEl.style.display =\n",
              "        google.colab.kernel.accessAllowed ? 'block' : 'none';\n",
              "\n",
              "      async function convertToInteractive(key) {\n",
              "        const element = document.querySelector('#df-0fef18c7-df14-4d7a-87bd-a99147736023');\n",
              "        const dataTable =\n",
              "          await google.colab.kernel.invokeFunction('convertToInteractive',\n",
              "                                                    [key], {});\n",
              "        if (!dataTable) return;\n",
              "\n",
              "        const docLinkHtml = 'Like what you see? Visit the ' +\n",
              "          '<a target=\"_blank\" href=https://colab.research.google.com/notebooks/data_table.ipynb>data table notebook</a>'\n",
              "          + ' to learn more about interactive tables.';\n",
              "        element.innerHTML = '';\n",
              "        dataTable['output_type'] = 'display_data';\n",
              "        await google.colab.output.renderOutput(dataTable, element);\n",
              "        const docLink = document.createElement('div');\n",
              "        docLink.innerHTML = docLinkHtml;\n",
              "        element.appendChild(docLink);\n",
              "      }\n",
              "    </script>\n",
              "  </div>\n",
              "\n",
              "\n",
              "<div id=\"df-ca65742c-91b3-4619-9542-232b7de8b6b1\">\n",
              "  <button class=\"colab-df-quickchart\" onclick=\"quickchart('df-ca65742c-91b3-4619-9542-232b7de8b6b1')\"\n",
              "            title=\"Suggest charts\"\n",
              "            style=\"display:none;\">\n",
              "\n",
              "<svg xmlns=\"http://www.w3.org/2000/svg\" height=\"24px\"viewBox=\"0 0 24 24\"\n",
              "     width=\"24px\">\n",
              "    <g>\n",
              "        <path d=\"M19 3H5c-1.1 0-2 .9-2 2v14c0 1.1.9 2 2 2h14c1.1 0 2-.9 2-2V5c0-1.1-.9-2-2-2zM9 17H7v-7h2v7zm4 0h-2V7h2v10zm4 0h-2v-4h2v4z\"/>\n",
              "    </g>\n",
              "</svg>\n",
              "  </button>\n",
              "\n",
              "<style>\n",
              "  .colab-df-quickchart {\n",
              "      --bg-color: #E8F0FE;\n",
              "      --fill-color: #1967D2;\n",
              "      --hover-bg-color: #E2EBFA;\n",
              "      --hover-fill-color: #174EA6;\n",
              "      --disabled-fill-color: #AAA;\n",
              "      --disabled-bg-color: #DDD;\n",
              "  }\n",
              "\n",
              "  [theme=dark] .colab-df-quickchart {\n",
              "      --bg-color: #3B4455;\n",
              "      --fill-color: #D2E3FC;\n",
              "      --hover-bg-color: #434B5C;\n",
              "      --hover-fill-color: #FFFFFF;\n",
              "      --disabled-bg-color: #3B4455;\n",
              "      --disabled-fill-color: #666;\n",
              "  }\n",
              "\n",
              "  .colab-df-quickchart {\n",
              "    background-color: var(--bg-color);\n",
              "    border: none;\n",
              "    border-radius: 50%;\n",
              "    cursor: pointer;\n",
              "    display: none;\n",
              "    fill: var(--fill-color);\n",
              "    height: 32px;\n",
              "    padding: 0;\n",
              "    width: 32px;\n",
              "  }\n",
              "\n",
              "  .colab-df-quickchart:hover {\n",
              "    background-color: var(--hover-bg-color);\n",
              "    box-shadow: 0 1px 2px rgba(60, 64, 67, 0.3), 0 1px 3px 1px rgba(60, 64, 67, 0.15);\n",
              "    fill: var(--button-hover-fill-color);\n",
              "  }\n",
              "\n",
              "  .colab-df-quickchart-complete:disabled,\n",
              "  .colab-df-quickchart-complete:disabled:hover {\n",
              "    background-color: var(--disabled-bg-color);\n",
              "    fill: var(--disabled-fill-color);\n",
              "    box-shadow: none;\n",
              "  }\n",
              "\n",
              "  .colab-df-spinner {\n",
              "    border: 2px solid var(--fill-color);\n",
              "    border-color: transparent;\n",
              "    border-bottom-color: var(--fill-color);\n",
              "    animation:\n",
              "      spin 1s steps(1) infinite;\n",
              "  }\n",
              "\n",
              "  @keyframes spin {\n",
              "    0% {\n",
              "      border-color: transparent;\n",
              "      border-bottom-color: var(--fill-color);\n",
              "      border-left-color: var(--fill-color);\n",
              "    }\n",
              "    20% {\n",
              "      border-color: transparent;\n",
              "      border-left-color: var(--fill-color);\n",
              "      border-top-color: var(--fill-color);\n",
              "    }\n",
              "    30% {\n",
              "      border-color: transparent;\n",
              "      border-left-color: var(--fill-color);\n",
              "      border-top-color: var(--fill-color);\n",
              "      border-right-color: var(--fill-color);\n",
              "    }\n",
              "    40% {\n",
              "      border-color: transparent;\n",
              "      border-right-color: var(--fill-color);\n",
              "      border-top-color: var(--fill-color);\n",
              "    }\n",
              "    60% {\n",
              "      border-color: transparent;\n",
              "      border-right-color: var(--fill-color);\n",
              "    }\n",
              "    80% {\n",
              "      border-color: transparent;\n",
              "      border-right-color: var(--fill-color);\n",
              "      border-bottom-color: var(--fill-color);\n",
              "    }\n",
              "    90% {\n",
              "      border-color: transparent;\n",
              "      border-bottom-color: var(--fill-color);\n",
              "    }\n",
              "  }\n",
              "</style>\n",
              "\n",
              "  <script>\n",
              "    async function quickchart(key) {\n",
              "      const quickchartButtonEl =\n",
              "        document.querySelector('#' + key + ' button');\n",
              "      quickchartButtonEl.disabled = true;  // To prevent multiple clicks.\n",
              "      quickchartButtonEl.classList.add('colab-df-spinner');\n",
              "      try {\n",
              "        const charts = await google.colab.kernel.invokeFunction(\n",
              "            'suggestCharts', [key], {});\n",
              "      } catch (error) {\n",
              "        console.error('Error during call to suggestCharts:', error);\n",
              "      }\n",
              "      quickchartButtonEl.classList.remove('colab-df-spinner');\n",
              "      quickchartButtonEl.classList.add('colab-df-quickchart-complete');\n",
              "    }\n",
              "    (() => {\n",
              "      let quickchartButtonEl =\n",
              "        document.querySelector('#df-ca65742c-91b3-4619-9542-232b7de8b6b1 button');\n",
              "      quickchartButtonEl.style.display =\n",
              "        google.colab.kernel.accessAllowed ? 'block' : 'none';\n",
              "    })();\n",
              "  </script>\n",
              "</div>\n",
              "\n",
              "    </div>\n",
              "  </div>\n"
            ],
            "application/vnd.google.colaboratory.intrinsic+json": {
              "type": "dataframe",
              "variable_name": "df",
              "summary": "{\n  \"name\": \"df\",\n  \"rows\": 4803,\n  \"fields\": [\n    {\n      \"column\": \"budget\",\n      \"properties\": {\n        \"dtype\": \"number\",\n        \"std\": 40722391,\n        \"min\": 0,\n        \"max\": 380000000,\n        \"num_unique_values\": 436,\n        \"samples\": [\n          439000,\n          68000000,\n          700000\n        ],\n        \"semantic_type\": \"\",\n        \"description\": \"\"\n      }\n    },\n    {\n      \"column\": \"genres\",\n      \"properties\": {\n        \"dtype\": \"category\",\n        \"num_unique_values\": 1175,\n        \"samples\": [\n          \"[{\\\"id\\\": 14, \\\"name\\\": \\\"Fantasy\\\"}, {\\\"id\\\": 12, \\\"name\\\": \\\"Adventure\\\"}, {\\\"id\\\": 16, \\\"name\\\": \\\"Animation\\\"}]\",\n          \"[{\\\"id\\\": 28, \\\"name\\\": \\\"Action\\\"}, {\\\"id\\\": 35, \\\"name\\\": \\\"Comedy\\\"}, {\\\"id\\\": 80, \\\"name\\\": \\\"Crime\\\"}, {\\\"id\\\": 18, \\\"name\\\": \\\"Drama\\\"}]\",\n          \"[{\\\"id\\\": 12, \\\"name\\\": \\\"Adventure\\\"}, {\\\"id\\\": 16, \\\"name\\\": \\\"Animation\\\"}, {\\\"id\\\": 10751, \\\"name\\\": \\\"Family\\\"}, {\\\"id\\\": 14, \\\"name\\\": \\\"Fantasy\\\"}, {\\\"id\\\": 878, \\\"name\\\": \\\"Science Fiction\\\"}]\"\n        ],\n        \"semantic_type\": \"\",\n        \"description\": \"\"\n      }\n    },\n    {\n      \"column\": \"homepage\",\n      \"properties\": {\n        \"dtype\": \"category\",\n        \"num_unique_values\": 1691,\n        \"samples\": [\n          \"https://www.warnerbros.com/running-scared\",\n          \"http://www.51birchstreet.com/index.php\",\n          \"http://movies2.foxjapan.com/glee/\"\n        ],\n        \"semantic_type\": \"\",\n        \"description\": \"\"\n      }\n    },\n    {\n      \"column\": \"id\",\n      \"properties\": {\n        \"dtype\": \"number\",\n        \"std\": 88694,\n        \"min\": 5,\n        \"max\": 459488,\n        \"num_unique_values\": 4803,\n        \"samples\": [\n          8427,\n          13006,\n          18041\n        ],\n        \"semantic_type\": \"\",\n        \"description\": \"\"\n      }\n    },\n    {\n      \"column\": \"keywords\",\n      \"properties\": {\n        \"dtype\": \"string\",\n        \"num_unique_values\": 4222,\n        \"samples\": [\n          \"[{\\\"id\\\": 782, \\\"name\\\": \\\"assassin\\\"}, {\\\"id\\\": 1872, \\\"name\\\": \\\"loss of father\\\"}, {\\\"id\\\": 2908, \\\"name\\\": \\\"secret society\\\"}, {\\\"id\\\": 3045, \\\"name\\\": \\\"mission of murder\\\"}, {\\\"id\\\": 9748, \\\"name\\\": \\\"revenge\\\"}]\",\n          \"[{\\\"id\\\": 2987, \\\"name\\\": \\\"gang war\\\"}, {\\\"id\\\": 4942, \\\"name\\\": \\\"victim of murder\\\"}, {\\\"id\\\": 5332, \\\"name\\\": \\\"greed\\\"}, {\\\"id\\\": 6062, \\\"name\\\": \\\"hostility\\\"}, {\\\"id\\\": 156212, \\\"name\\\": \\\"spaghetti western\\\"}]\",\n          \"[{\\\"id\\\": 703, \\\"name\\\": \\\"detective\\\"}, {\\\"id\\\": 1299, \\\"name\\\": \\\"monster\\\"}, {\\\"id\\\": 6101, \\\"name\\\": \\\"engine\\\"}, {\\\"id\\\": 10988, \\\"name\\\": \\\"based on tv series\\\"}, {\\\"id\\\": 15162, \\\"name\\\": \\\"dog\\\"}]\"\n        ],\n        \"semantic_type\": \"\",\n        \"description\": \"\"\n      }\n    },\n    {\n      \"column\": \"original_language\",\n      \"properties\": {\n        \"dtype\": \"category\",\n        \"num_unique_values\": 37,\n        \"samples\": [\n          \"xx\",\n          \"ta\",\n          \"es\"\n        ],\n        \"semantic_type\": \"\",\n        \"description\": \"\"\n      }\n    },\n    {\n      \"column\": \"original_title\",\n      \"properties\": {\n        \"dtype\": \"string\",\n        \"num_unique_values\": 4801,\n        \"samples\": [\n          \"I Spy\",\n          \"Love Letters\",\n          \"Sleepover\"\n        ],\n        \"semantic_type\": \"\",\n        \"description\": \"\"\n      }\n    },\n    {\n      \"column\": \"overview\",\n      \"properties\": {\n        \"dtype\": \"string\",\n        \"num_unique_values\": 4800,\n        \"samples\": [\n          \"When the Switchblade, the most sophisticated prototype stealth fighter created yet, is stolen from the U.S. government, one of the United States' top spies, Alex Scott, is called to action. What he doesn't expect is to get teamed up with a cocky civilian, World Class Boxing Champion Kelly Robinson, on a dangerous top secret espionage mission. Their assignment: using equal parts skill and humor, catch Arnold Gundars, one of the world's most successful arms dealers.\",\n          \"When \\\"street smart\\\" rapper Christopher \\\"C-Note\\\" Hawkins (Big Boi) applies for a membership to all-white Carolina Pines Country Club, the establishment's proprietors are hardly ready to oblige him.\",\n          \"As their first year of high school looms ahead, best friends Julie, Hannah, Yancy and Farrah have one last summer sleepover. Little do they know they're about to embark on the adventure of a lifetime. Desperate to shed their nerdy status, they take part in a night-long scavenger hunt that pits them against their popular archrivals. Everything under the sun goes on -- from taking Yancy's father's car to sneaking into nightclubs!\"\n        ],\n        \"semantic_type\": \"\",\n        \"description\": \"\"\n      }\n    },\n    {\n      \"column\": \"popularity\",\n      \"properties\": {\n        \"dtype\": \"number\",\n        \"std\": 31.816649749537774,\n        \"min\": 0.0,\n        \"max\": 875.581305,\n        \"num_unique_values\": 4802,\n        \"samples\": [\n          13.267631,\n          0.010909,\n          5.842299\n        ],\n        \"semantic_type\": \"\",\n        \"description\": \"\"\n      }\n    },\n    {\n      \"column\": \"production_companies\",\n      \"properties\": {\n        \"dtype\": \"string\",\n        \"num_unique_values\": 3697,\n        \"samples\": [\n          \"[{\\\"name\\\": \\\"Paramount Pictures\\\", \\\"id\\\": 4}, {\\\"name\\\": \\\"Cherry Alley Productions\\\", \\\"id\\\": 2232}]\",\n          \"[{\\\"name\\\": \\\"Twentieth Century Fox Film Corporation\\\", \\\"id\\\": 306}, {\\\"name\\\": \\\"Dune Entertainment\\\", \\\"id\\\": 444}, {\\\"name\\\": \\\"Regency Enterprises\\\", \\\"id\\\": 508}, {\\\"name\\\": \\\"Guy Walks into a Bar Productions\\\", \\\"id\\\": 2645}, {\\\"name\\\": \\\"Deep River Productions\\\", \\\"id\\\": 2646}, {\\\"name\\\": \\\"Friendly Films (II)\\\", \\\"id\\\": 81136}]\",\n          \"[{\\\"name\\\": \\\"Twentieth Century Fox Film Corporation\\\", \\\"id\\\": 306}]\"\n        ],\n        \"semantic_type\": \"\",\n        \"description\": \"\"\n      }\n    },\n    {\n      \"column\": \"production_countries\",\n      \"properties\": {\n        \"dtype\": \"category\",\n        \"num_unique_values\": 469,\n        \"samples\": [\n          \"[{\\\"iso_3166_1\\\": \\\"ES\\\", \\\"name\\\": \\\"Spain\\\"}, {\\\"iso_3166_1\\\": \\\"GB\\\", \\\"name\\\": \\\"United Kingdom\\\"}, {\\\"iso_3166_1\\\": \\\"US\\\", \\\"name\\\": \\\"United States of America\\\"}, {\\\"iso_3166_1\\\": \\\"FR\\\", \\\"name\\\": \\\"France\\\"}]\",\n          \"[{\\\"iso_3166_1\\\": \\\"US\\\", \\\"name\\\": \\\"United States of America\\\"}, {\\\"iso_3166_1\\\": \\\"CA\\\", \\\"name\\\": \\\"Canada\\\"}, {\\\"iso_3166_1\\\": \\\"DE\\\", \\\"name\\\": \\\"Germany\\\"}]\",\n          \"[{\\\"iso_3166_1\\\": \\\"DE\\\", \\\"name\\\": \\\"Germany\\\"}, {\\\"iso_3166_1\\\": \\\"ES\\\", \\\"name\\\": \\\"Spain\\\"}, {\\\"iso_3166_1\\\": \\\"GB\\\", \\\"name\\\": \\\"United Kingdom\\\"}, {\\\"iso_3166_1\\\": \\\"US\\\", \\\"name\\\": \\\"United States of America\\\"}]\"\n        ],\n        \"semantic_type\": \"\",\n        \"description\": \"\"\n      }\n    },\n    {\n      \"column\": \"release_date\",\n      \"properties\": {\n        \"dtype\": \"object\",\n        \"num_unique_values\": 3280,\n        \"samples\": [\n          \"1966-10-16\",\n          \"1987-07-31\",\n          \"1993-09-23\"\n        ],\n        \"semantic_type\": \"\",\n        \"description\": \"\"\n      }\n    },\n    {\n      \"column\": \"revenue\",\n      \"properties\": {\n        \"dtype\": \"number\",\n        \"std\": 162857100,\n        \"min\": 0,\n        \"max\": 2787965087,\n        \"num_unique_values\": 3297,\n        \"samples\": [\n          11833696,\n          10462500,\n          17807569\n        ],\n        \"semantic_type\": \"\",\n        \"description\": \"\"\n      }\n    },\n    {\n      \"column\": \"runtime\",\n      \"properties\": {\n        \"dtype\": \"number\",\n        \"std\": 22.611934588844232,\n        \"min\": 0.0,\n        \"max\": 338.0,\n        \"num_unique_values\": 156,\n        \"samples\": [\n          74.0,\n          85.0,\n          170.0\n        ],\n        \"semantic_type\": \"\",\n        \"description\": \"\"\n      }\n    },\n    {\n      \"column\": \"spoken_languages\",\n      \"properties\": {\n        \"dtype\": \"category\",\n        \"num_unique_values\": 544,\n        \"samples\": [\n          \"[{\\\"iso_639_1\\\": \\\"es\\\", \\\"name\\\": \\\"Espa\\\\u00f1ol\\\"}, {\\\"iso_639_1\\\": \\\"en\\\", \\\"name\\\": \\\"English\\\"}, {\\\"iso_639_1\\\": \\\"fr\\\", \\\"name\\\": \\\"Fran\\\\u00e7ais\\\"}, {\\\"iso_639_1\\\": \\\"hu\\\", \\\"name\\\": \\\"Magyar\\\"}]\",\n          \"[{\\\"iso_639_1\\\": \\\"en\\\", \\\"name\\\": \\\"English\\\"}, {\\\"iso_639_1\\\": \\\"it\\\", \\\"name\\\": \\\"Italiano\\\"}, {\\\"iso_639_1\\\": \\\"pt\\\", \\\"name\\\": \\\"Portugu\\\\u00eas\\\"}]\",\n          \"[{\\\"iso_639_1\\\": \\\"de\\\", \\\"name\\\": \\\"Deutsch\\\"}, {\\\"iso_639_1\\\": \\\"it\\\", \\\"name\\\": \\\"Italiano\\\"}, {\\\"iso_639_1\\\": \\\"la\\\", \\\"name\\\": \\\"Latin\\\"}, {\\\"iso_639_1\\\": \\\"pl\\\", \\\"name\\\": \\\"Polski\\\"}]\"\n        ],\n        \"semantic_type\": \"\",\n        \"description\": \"\"\n      }\n    },\n    {\n      \"column\": \"status\",\n      \"properties\": {\n        \"dtype\": \"category\",\n        \"num_unique_values\": 3,\n        \"samples\": [\n          \"Released\",\n          \"Post Production\",\n          \"Rumored\"\n        ],\n        \"semantic_type\": \"\",\n        \"description\": \"\"\n      }\n    },\n    {\n      \"column\": \"tagline\",\n      \"properties\": {\n        \"dtype\": \"string\",\n        \"num_unique_values\": 3944,\n        \"samples\": [\n          \"When you're 17, every day is war.\",\n          \"An Unspeakable Horror. A Creative Genius. Captured For Eternity.\",\n          \"May the schwartz be with you\"\n        ],\n        \"semantic_type\": \"\",\n        \"description\": \"\"\n      }\n    },\n    {\n      \"column\": \"title\",\n      \"properties\": {\n        \"dtype\": \"string\",\n        \"num_unique_values\": 4800,\n        \"samples\": [\n          \"I Spy\",\n          \"Who's Your Caddy?\",\n          \"Sleepover\"\n        ],\n        \"semantic_type\": \"\",\n        \"description\": \"\"\n      }\n    },\n    {\n      \"column\": \"vote_average\",\n      \"properties\": {\n        \"dtype\": \"number\",\n        \"std\": 1.1946121628478923,\n        \"min\": 0.0,\n        \"max\": 10.0,\n        \"num_unique_values\": 71,\n        \"samples\": [\n          5.1,\n          7.2,\n          4.0\n        ],\n        \"semantic_type\": \"\",\n        \"description\": \"\"\n      }\n    },\n    {\n      \"column\": \"vote_count\",\n      \"properties\": {\n        \"dtype\": \"number\",\n        \"std\": 1234,\n        \"min\": 0,\n        \"max\": 13752,\n        \"num_unique_values\": 1609,\n        \"samples\": [\n          7604,\n          3428,\n          225\n        ],\n        \"semantic_type\": \"\",\n        \"description\": \"\"\n      }\n    }\n  ]\n}"
            }
          },
          "metadata": {},
          "execution_count": 163
        }
      ]
    },
    {
      "cell_type": "code",
      "source": [
        "df = df.rename(columns={'overview': 'Description'})\n",
        "df = df.rename(columns={'original_title': 'Title'})\n",
        "df = df.rename(columns={'vote_average': 'Rating'})\n",
        "df = df.rename(columns={'vote_count': 'Votes'})\n",
        "df = df.rename(columns={'genres': 'Genre'})"
      ],
      "metadata": {
        "id": "4RcbZPrd0UKX"
      },
      "execution_count": 164,
      "outputs": []
    },
    {
      "cell_type": "code",
      "source": [
        "df = df.drop(columns={'Rating','Votes','title', 'revenue','budget','homepage','id','popularity','production_companies','production_countries'})"
      ],
      "metadata": {
        "id": "zTFsAz-F2BwE"
      },
      "execution_count": 165,
      "outputs": []
    },
    {
      "cell_type": "code",
      "source": [
        "df.columns"
      ],
      "metadata": {
        "colab": {
          "base_uri": "https://localhost:8080/"
        },
        "id": "lR5wX-Yl2Xl7",
        "outputId": "87cdef79-39d7-4081-c822-3d76b88661f5"
      },
      "execution_count": 166,
      "outputs": [
        {
          "output_type": "execute_result",
          "data": {
            "text/plain": [
              "Index(['Genre', 'keywords', 'original_language', 'Title', 'Description',\n",
              "       'release_date', 'runtime', 'spoken_languages', 'status', 'tagline'],\n",
              "      dtype='object')"
            ]
          },
          "metadata": {},
          "execution_count": 166
        }
      ]
    },
    {
      "cell_type": "code",
      "source": [
        "df.info()"
      ],
      "metadata": {
        "colab": {
          "base_uri": "https://localhost:8080/"
        },
        "id": "Xfw5xnMZjtNE",
        "outputId": "b8259b32-aea2-418c-d44f-bb9a1039b503"
      },
      "execution_count": 167,
      "outputs": [
        {
          "output_type": "stream",
          "name": "stdout",
          "text": [
            "<class 'pandas.core.frame.DataFrame'>\n",
            "RangeIndex: 4803 entries, 0 to 4802\n",
            "Data columns (total 10 columns):\n",
            " #   Column             Non-Null Count  Dtype  \n",
            "---  ------             --------------  -----  \n",
            " 0   Genre              4803 non-null   object \n",
            " 1   keywords           4803 non-null   object \n",
            " 2   original_language  4803 non-null   object \n",
            " 3   Title              4803 non-null   object \n",
            " 4   Description        4800 non-null   object \n",
            " 5   release_date       4802 non-null   object \n",
            " 6   runtime            4801 non-null   float64\n",
            " 7   spoken_languages   4803 non-null   object \n",
            " 8   status             4803 non-null   object \n",
            " 9   tagline            3959 non-null   object \n",
            "dtypes: float64(1), object(9)\n",
            "memory usage: 375.4+ KB\n"
          ]
        }
      ]
    },
    {
      "cell_type": "code",
      "source": [
        "df.shape"
      ],
      "metadata": {
        "colab": {
          "base_uri": "https://localhost:8080/"
        },
        "id": "_gI2onywj3fT",
        "outputId": "b68cc3ab-a740-4351-aad3-2adf65ae5f05"
      },
      "execution_count": 168,
      "outputs": [
        {
          "output_type": "execute_result",
          "data": {
            "text/plain": [
              "(4803, 10)"
            ]
          },
          "metadata": {},
          "execution_count": 168
        }
      ]
    },
    {
      "cell_type": "code",
      "source": [
        "df.columns"
      ],
      "metadata": {
        "colab": {
          "base_uri": "https://localhost:8080/"
        },
        "id": "v_zSdktkkQds",
        "outputId": "2cd8fd50-f2a5-4d18-e958-f439b820ae4e"
      },
      "execution_count": 169,
      "outputs": [
        {
          "output_type": "execute_result",
          "data": {
            "text/plain": [
              "Index(['Genre', 'keywords', 'original_language', 'Title', 'Description',\n",
              "       'release_date', 'runtime', 'spoken_languages', 'status', 'tagline'],\n",
              "      dtype='object')"
            ]
          },
          "metadata": {},
          "execution_count": 169
        }
      ]
    },
    {
      "cell_type": "code",
      "source": [
        "df_features = df[['Genre','Description','keywords','tagline']]"
      ],
      "metadata": {
        "id": "Rg6eh8V8kbwb"
      },
      "execution_count": 170,
      "outputs": []
    },
    {
      "cell_type": "code",
      "source": [
        "df_features.shape"
      ],
      "metadata": {
        "colab": {
          "base_uri": "https://localhost:8080/"
        },
        "id": "Jti4QyTBkUi2",
        "outputId": "0a1dd67b-c8b1-4072-d131-5bfb32d52e4e"
      },
      "execution_count": 171,
      "outputs": [
        {
          "output_type": "execute_result",
          "data": {
            "text/plain": [
              "(4803, 4)"
            ]
          },
          "metadata": {},
          "execution_count": 171
        }
      ]
    },
    {
      "cell_type": "code",
      "source": [
        "df_features"
      ],
      "metadata": {
        "colab": {
          "base_uri": "https://localhost:8080/",
          "height": 423
        },
        "id": "ppHuEzcRlAXv",
        "outputId": "d3423a88-2612-4046-c2f4-40c061d25fa8"
      },
      "execution_count": 172,
      "outputs": [
        {
          "output_type": "execute_result",
          "data": {
            "text/plain": [
              "                                                  Genre  \\\n",
              "0     [{\"id\": 28, \"name\": \"Action\"}, {\"id\": 12, \"nam...   \n",
              "1     [{\"id\": 12, \"name\": \"Adventure\"}, {\"id\": 14, \"...   \n",
              "2     [{\"id\": 28, \"name\": \"Action\"}, {\"id\": 12, \"nam...   \n",
              "3     [{\"id\": 28, \"name\": \"Action\"}, {\"id\": 80, \"nam...   \n",
              "4     [{\"id\": 28, \"name\": \"Action\"}, {\"id\": 12, \"nam...   \n",
              "...                                                 ...   \n",
              "4798  [{\"id\": 28, \"name\": \"Action\"}, {\"id\": 80, \"nam...   \n",
              "4799  [{\"id\": 35, \"name\": \"Comedy\"}, {\"id\": 10749, \"...   \n",
              "4800  [{\"id\": 35, \"name\": \"Comedy\"}, {\"id\": 18, \"nam...   \n",
              "4801                                                 []   \n",
              "4802                [{\"id\": 99, \"name\": \"Documentary\"}]   \n",
              "\n",
              "                                            Description  \\\n",
              "0     In the 22nd century, a paraplegic Marine is di...   \n",
              "1     Captain Barbossa, long believed to be dead, ha...   \n",
              "2     A cryptic message from Bond’s past sends him o...   \n",
              "3     Following the death of District Attorney Harve...   \n",
              "4     John Carter is a war-weary, former military ca...   \n",
              "...                                                 ...   \n",
              "4798  El Mariachi just wants to play his guitar and ...   \n",
              "4799  A newlywed couple's honeymoon is upended by th...   \n",
              "4800  \"Signed, Sealed, Delivered\" introduces a dedic...   \n",
              "4801  When ambitious New York attorney Sam is sent t...   \n",
              "4802  Ever since the second grade when he first saw ...   \n",
              "\n",
              "                                               keywords  \\\n",
              "0     [{\"id\": 1463, \"name\": \"culture clash\"}, {\"id\":...   \n",
              "1     [{\"id\": 270, \"name\": \"ocean\"}, {\"id\": 726, \"na...   \n",
              "2     [{\"id\": 470, \"name\": \"spy\"}, {\"id\": 818, \"name...   \n",
              "3     [{\"id\": 849, \"name\": \"dc comics\"}, {\"id\": 853,...   \n",
              "4     [{\"id\": 818, \"name\": \"based on novel\"}, {\"id\":...   \n",
              "...                                                 ...   \n",
              "4798  [{\"id\": 5616, \"name\": \"united states\\u2013mexi...   \n",
              "4799                                                 []   \n",
              "4800  [{\"id\": 248, \"name\": \"date\"}, {\"id\": 699, \"nam...   \n",
              "4801                                                 []   \n",
              "4802  [{\"id\": 1523, \"name\": \"obsession\"}, {\"id\": 224...   \n",
              "\n",
              "                                                tagline  \n",
              "0                           Enter the World of Pandora.  \n",
              "1        At the end of the world, the adventure begins.  \n",
              "2                                 A Plan No One Escapes  \n",
              "3                                       The Legend Ends  \n",
              "4                  Lost in our world, found in another.  \n",
              "...                                                 ...  \n",
              "4798  He didn't come looking for trouble, but troubl...  \n",
              "4799  A newlywed couple's honeymoon is upended by th...  \n",
              "4800                                                NaN  \n",
              "4801                           A New Yorker in Shanghai  \n",
              "4802                                                NaN  \n",
              "\n",
              "[4803 rows x 4 columns]"
            ],
            "text/html": [
              "\n",
              "  <div id=\"df-0f286ad8-1bb1-445c-9b11-276ca54afa05\" class=\"colab-df-container\">\n",
              "    <div>\n",
              "<style scoped>\n",
              "    .dataframe tbody tr th:only-of-type {\n",
              "        vertical-align: middle;\n",
              "    }\n",
              "\n",
              "    .dataframe tbody tr th {\n",
              "        vertical-align: top;\n",
              "    }\n",
              "\n",
              "    .dataframe thead th {\n",
              "        text-align: right;\n",
              "    }\n",
              "</style>\n",
              "<table border=\"1\" class=\"dataframe\">\n",
              "  <thead>\n",
              "    <tr style=\"text-align: right;\">\n",
              "      <th></th>\n",
              "      <th>Genre</th>\n",
              "      <th>Description</th>\n",
              "      <th>keywords</th>\n",
              "      <th>tagline</th>\n",
              "    </tr>\n",
              "  </thead>\n",
              "  <tbody>\n",
              "    <tr>\n",
              "      <th>0</th>\n",
              "      <td>[{\"id\": 28, \"name\": \"Action\"}, {\"id\": 12, \"nam...</td>\n",
              "      <td>In the 22nd century, a paraplegic Marine is di...</td>\n",
              "      <td>[{\"id\": 1463, \"name\": \"culture clash\"}, {\"id\":...</td>\n",
              "      <td>Enter the World of Pandora.</td>\n",
              "    </tr>\n",
              "    <tr>\n",
              "      <th>1</th>\n",
              "      <td>[{\"id\": 12, \"name\": \"Adventure\"}, {\"id\": 14, \"...</td>\n",
              "      <td>Captain Barbossa, long believed to be dead, ha...</td>\n",
              "      <td>[{\"id\": 270, \"name\": \"ocean\"}, {\"id\": 726, \"na...</td>\n",
              "      <td>At the end of the world, the adventure begins.</td>\n",
              "    </tr>\n",
              "    <tr>\n",
              "      <th>2</th>\n",
              "      <td>[{\"id\": 28, \"name\": \"Action\"}, {\"id\": 12, \"nam...</td>\n",
              "      <td>A cryptic message from Bond’s past sends him o...</td>\n",
              "      <td>[{\"id\": 470, \"name\": \"spy\"}, {\"id\": 818, \"name...</td>\n",
              "      <td>A Plan No One Escapes</td>\n",
              "    </tr>\n",
              "    <tr>\n",
              "      <th>3</th>\n",
              "      <td>[{\"id\": 28, \"name\": \"Action\"}, {\"id\": 80, \"nam...</td>\n",
              "      <td>Following the death of District Attorney Harve...</td>\n",
              "      <td>[{\"id\": 849, \"name\": \"dc comics\"}, {\"id\": 853,...</td>\n",
              "      <td>The Legend Ends</td>\n",
              "    </tr>\n",
              "    <tr>\n",
              "      <th>4</th>\n",
              "      <td>[{\"id\": 28, \"name\": \"Action\"}, {\"id\": 12, \"nam...</td>\n",
              "      <td>John Carter is a war-weary, former military ca...</td>\n",
              "      <td>[{\"id\": 818, \"name\": \"based on novel\"}, {\"id\":...</td>\n",
              "      <td>Lost in our world, found in another.</td>\n",
              "    </tr>\n",
              "    <tr>\n",
              "      <th>...</th>\n",
              "      <td>...</td>\n",
              "      <td>...</td>\n",
              "      <td>...</td>\n",
              "      <td>...</td>\n",
              "    </tr>\n",
              "    <tr>\n",
              "      <th>4798</th>\n",
              "      <td>[{\"id\": 28, \"name\": \"Action\"}, {\"id\": 80, \"nam...</td>\n",
              "      <td>El Mariachi just wants to play his guitar and ...</td>\n",
              "      <td>[{\"id\": 5616, \"name\": \"united states\\u2013mexi...</td>\n",
              "      <td>He didn't come looking for trouble, but troubl...</td>\n",
              "    </tr>\n",
              "    <tr>\n",
              "      <th>4799</th>\n",
              "      <td>[{\"id\": 35, \"name\": \"Comedy\"}, {\"id\": 10749, \"...</td>\n",
              "      <td>A newlywed couple's honeymoon is upended by th...</td>\n",
              "      <td>[]</td>\n",
              "      <td>A newlywed couple's honeymoon is upended by th...</td>\n",
              "    </tr>\n",
              "    <tr>\n",
              "      <th>4800</th>\n",
              "      <td>[{\"id\": 35, \"name\": \"Comedy\"}, {\"id\": 18, \"nam...</td>\n",
              "      <td>\"Signed, Sealed, Delivered\" introduces a dedic...</td>\n",
              "      <td>[{\"id\": 248, \"name\": \"date\"}, {\"id\": 699, \"nam...</td>\n",
              "      <td>NaN</td>\n",
              "    </tr>\n",
              "    <tr>\n",
              "      <th>4801</th>\n",
              "      <td>[]</td>\n",
              "      <td>When ambitious New York attorney Sam is sent t...</td>\n",
              "      <td>[]</td>\n",
              "      <td>A New Yorker in Shanghai</td>\n",
              "    </tr>\n",
              "    <tr>\n",
              "      <th>4802</th>\n",
              "      <td>[{\"id\": 99, \"name\": \"Documentary\"}]</td>\n",
              "      <td>Ever since the second grade when he first saw ...</td>\n",
              "      <td>[{\"id\": 1523, \"name\": \"obsession\"}, {\"id\": 224...</td>\n",
              "      <td>NaN</td>\n",
              "    </tr>\n",
              "  </tbody>\n",
              "</table>\n",
              "<p>4803 rows × 4 columns</p>\n",
              "</div>\n",
              "    <div class=\"colab-df-buttons\">\n",
              "\n",
              "  <div class=\"colab-df-container\">\n",
              "    <button class=\"colab-df-convert\" onclick=\"convertToInteractive('df-0f286ad8-1bb1-445c-9b11-276ca54afa05')\"\n",
              "            title=\"Convert this dataframe to an interactive table.\"\n",
              "            style=\"display:none;\">\n",
              "\n",
              "  <svg xmlns=\"http://www.w3.org/2000/svg\" height=\"24px\" viewBox=\"0 -960 960 960\">\n",
              "    <path d=\"M120-120v-720h720v720H120Zm60-500h600v-160H180v160Zm220 220h160v-160H400v160Zm0 220h160v-160H400v160ZM180-400h160v-160H180v160Zm440 0h160v-160H620v160ZM180-180h160v-160H180v160Zm440 0h160v-160H620v160Z\"/>\n",
              "  </svg>\n",
              "    </button>\n",
              "\n",
              "  <style>\n",
              "    .colab-df-container {\n",
              "      display:flex;\n",
              "      gap: 12px;\n",
              "    }\n",
              "\n",
              "    .colab-df-convert {\n",
              "      background-color: #E8F0FE;\n",
              "      border: none;\n",
              "      border-radius: 50%;\n",
              "      cursor: pointer;\n",
              "      display: none;\n",
              "      fill: #1967D2;\n",
              "      height: 32px;\n",
              "      padding: 0 0 0 0;\n",
              "      width: 32px;\n",
              "    }\n",
              "\n",
              "    .colab-df-convert:hover {\n",
              "      background-color: #E2EBFA;\n",
              "      box-shadow: 0px 1px 2px rgba(60, 64, 67, 0.3), 0px 1px 3px 1px rgba(60, 64, 67, 0.15);\n",
              "      fill: #174EA6;\n",
              "    }\n",
              "\n",
              "    .colab-df-buttons div {\n",
              "      margin-bottom: 4px;\n",
              "    }\n",
              "\n",
              "    [theme=dark] .colab-df-convert {\n",
              "      background-color: #3B4455;\n",
              "      fill: #D2E3FC;\n",
              "    }\n",
              "\n",
              "    [theme=dark] .colab-df-convert:hover {\n",
              "      background-color: #434B5C;\n",
              "      box-shadow: 0px 1px 3px 1px rgba(0, 0, 0, 0.15);\n",
              "      filter: drop-shadow(0px 1px 2px rgba(0, 0, 0, 0.3));\n",
              "      fill: #FFFFFF;\n",
              "    }\n",
              "  </style>\n",
              "\n",
              "    <script>\n",
              "      const buttonEl =\n",
              "        document.querySelector('#df-0f286ad8-1bb1-445c-9b11-276ca54afa05 button.colab-df-convert');\n",
              "      buttonEl.style.display =\n",
              "        google.colab.kernel.accessAllowed ? 'block' : 'none';\n",
              "\n",
              "      async function convertToInteractive(key) {\n",
              "        const element = document.querySelector('#df-0f286ad8-1bb1-445c-9b11-276ca54afa05');\n",
              "        const dataTable =\n",
              "          await google.colab.kernel.invokeFunction('convertToInteractive',\n",
              "                                                    [key], {});\n",
              "        if (!dataTable) return;\n",
              "\n",
              "        const docLinkHtml = 'Like what you see? Visit the ' +\n",
              "          '<a target=\"_blank\" href=https://colab.research.google.com/notebooks/data_table.ipynb>data table notebook</a>'\n",
              "          + ' to learn more about interactive tables.';\n",
              "        element.innerHTML = '';\n",
              "        dataTable['output_type'] = 'display_data';\n",
              "        await google.colab.output.renderOutput(dataTable, element);\n",
              "        const docLink = document.createElement('div');\n",
              "        docLink.innerHTML = docLinkHtml;\n",
              "        element.appendChild(docLink);\n",
              "      }\n",
              "    </script>\n",
              "  </div>\n",
              "\n",
              "\n",
              "<div id=\"df-102c7b95-ebbd-4b2d-91c7-1f4707d95afd\">\n",
              "  <button class=\"colab-df-quickchart\" onclick=\"quickchart('df-102c7b95-ebbd-4b2d-91c7-1f4707d95afd')\"\n",
              "            title=\"Suggest charts\"\n",
              "            style=\"display:none;\">\n",
              "\n",
              "<svg xmlns=\"http://www.w3.org/2000/svg\" height=\"24px\"viewBox=\"0 0 24 24\"\n",
              "     width=\"24px\">\n",
              "    <g>\n",
              "        <path d=\"M19 3H5c-1.1 0-2 .9-2 2v14c0 1.1.9 2 2 2h14c1.1 0 2-.9 2-2V5c0-1.1-.9-2-2-2zM9 17H7v-7h2v7zm4 0h-2V7h2v10zm4 0h-2v-4h2v4z\"/>\n",
              "    </g>\n",
              "</svg>\n",
              "  </button>\n",
              "\n",
              "<style>\n",
              "  .colab-df-quickchart {\n",
              "      --bg-color: #E8F0FE;\n",
              "      --fill-color: #1967D2;\n",
              "      --hover-bg-color: #E2EBFA;\n",
              "      --hover-fill-color: #174EA6;\n",
              "      --disabled-fill-color: #AAA;\n",
              "      --disabled-bg-color: #DDD;\n",
              "  }\n",
              "\n",
              "  [theme=dark] .colab-df-quickchart {\n",
              "      --bg-color: #3B4455;\n",
              "      --fill-color: #D2E3FC;\n",
              "      --hover-bg-color: #434B5C;\n",
              "      --hover-fill-color: #FFFFFF;\n",
              "      --disabled-bg-color: #3B4455;\n",
              "      --disabled-fill-color: #666;\n",
              "  }\n",
              "\n",
              "  .colab-df-quickchart {\n",
              "    background-color: var(--bg-color);\n",
              "    border: none;\n",
              "    border-radius: 50%;\n",
              "    cursor: pointer;\n",
              "    display: none;\n",
              "    fill: var(--fill-color);\n",
              "    height: 32px;\n",
              "    padding: 0;\n",
              "    width: 32px;\n",
              "  }\n",
              "\n",
              "  .colab-df-quickchart:hover {\n",
              "    background-color: var(--hover-bg-color);\n",
              "    box-shadow: 0 1px 2px rgba(60, 64, 67, 0.3), 0 1px 3px 1px rgba(60, 64, 67, 0.15);\n",
              "    fill: var(--button-hover-fill-color);\n",
              "  }\n",
              "\n",
              "  .colab-df-quickchart-complete:disabled,\n",
              "  .colab-df-quickchart-complete:disabled:hover {\n",
              "    background-color: var(--disabled-bg-color);\n",
              "    fill: var(--disabled-fill-color);\n",
              "    box-shadow: none;\n",
              "  }\n",
              "\n",
              "  .colab-df-spinner {\n",
              "    border: 2px solid var(--fill-color);\n",
              "    border-color: transparent;\n",
              "    border-bottom-color: var(--fill-color);\n",
              "    animation:\n",
              "      spin 1s steps(1) infinite;\n",
              "  }\n",
              "\n",
              "  @keyframes spin {\n",
              "    0% {\n",
              "      border-color: transparent;\n",
              "      border-bottom-color: var(--fill-color);\n",
              "      border-left-color: var(--fill-color);\n",
              "    }\n",
              "    20% {\n",
              "      border-color: transparent;\n",
              "      border-left-color: var(--fill-color);\n",
              "      border-top-color: var(--fill-color);\n",
              "    }\n",
              "    30% {\n",
              "      border-color: transparent;\n",
              "      border-left-color: var(--fill-color);\n",
              "      border-top-color: var(--fill-color);\n",
              "      border-right-color: var(--fill-color);\n",
              "    }\n",
              "    40% {\n",
              "      border-color: transparent;\n",
              "      border-right-color: var(--fill-color);\n",
              "      border-top-color: var(--fill-color);\n",
              "    }\n",
              "    60% {\n",
              "      border-color: transparent;\n",
              "      border-right-color: var(--fill-color);\n",
              "    }\n",
              "    80% {\n",
              "      border-color: transparent;\n",
              "      border-right-color: var(--fill-color);\n",
              "      border-bottom-color: var(--fill-color);\n",
              "    }\n",
              "    90% {\n",
              "      border-color: transparent;\n",
              "      border-bottom-color: var(--fill-color);\n",
              "    }\n",
              "  }\n",
              "</style>\n",
              "\n",
              "  <script>\n",
              "    async function quickchart(key) {\n",
              "      const quickchartButtonEl =\n",
              "        document.querySelector('#' + key + ' button');\n",
              "      quickchartButtonEl.disabled = true;  // To prevent multiple clicks.\n",
              "      quickchartButtonEl.classList.add('colab-df-spinner');\n",
              "      try {\n",
              "        const charts = await google.colab.kernel.invokeFunction(\n",
              "            'suggestCharts', [key], {});\n",
              "      } catch (error) {\n",
              "        console.error('Error during call to suggestCharts:', error);\n",
              "      }\n",
              "      quickchartButtonEl.classList.remove('colab-df-spinner');\n",
              "      quickchartButtonEl.classList.add('colab-df-quickchart-complete');\n",
              "    }\n",
              "    (() => {\n",
              "      let quickchartButtonEl =\n",
              "        document.querySelector('#df-102c7b95-ebbd-4b2d-91c7-1f4707d95afd button');\n",
              "      quickchartButtonEl.style.display =\n",
              "        google.colab.kernel.accessAllowed ? 'block' : 'none';\n",
              "    })();\n",
              "  </script>\n",
              "</div>\n",
              "\n",
              "  <div id=\"id_1a394991-68f7-44fa-ab48-7f46280d8891\">\n",
              "    <style>\n",
              "      .colab-df-generate {\n",
              "        background-color: #E8F0FE;\n",
              "        border: none;\n",
              "        border-radius: 50%;\n",
              "        cursor: pointer;\n",
              "        display: none;\n",
              "        fill: #1967D2;\n",
              "        height: 32px;\n",
              "        padding: 0 0 0 0;\n",
              "        width: 32px;\n",
              "      }\n",
              "\n",
              "      .colab-df-generate:hover {\n",
              "        background-color: #E2EBFA;\n",
              "        box-shadow: 0px 1px 2px rgba(60, 64, 67, 0.3), 0px 1px 3px 1px rgba(60, 64, 67, 0.15);\n",
              "        fill: #174EA6;\n",
              "      }\n",
              "\n",
              "      [theme=dark] .colab-df-generate {\n",
              "        background-color: #3B4455;\n",
              "        fill: #D2E3FC;\n",
              "      }\n",
              "\n",
              "      [theme=dark] .colab-df-generate:hover {\n",
              "        background-color: #434B5C;\n",
              "        box-shadow: 0px 1px 3px 1px rgba(0, 0, 0, 0.15);\n",
              "        filter: drop-shadow(0px 1px 2px rgba(0, 0, 0, 0.3));\n",
              "        fill: #FFFFFF;\n",
              "      }\n",
              "    </style>\n",
              "    <button class=\"colab-df-generate\" onclick=\"generateWithVariable('df_features')\"\n",
              "            title=\"Generate code using this dataframe.\"\n",
              "            style=\"display:none;\">\n",
              "\n",
              "  <svg xmlns=\"http://www.w3.org/2000/svg\" height=\"24px\"viewBox=\"0 0 24 24\"\n",
              "       width=\"24px\">\n",
              "    <path d=\"M7,19H8.4L18.45,9,17,7.55,7,17.6ZM5,21V16.75L18.45,3.32a2,2,0,0,1,2.83,0l1.4,1.43a1.91,1.91,0,0,1,.58,1.4,1.91,1.91,0,0,1-.58,1.4L9.25,21ZM18.45,9,17,7.55Zm-12,3A5.31,5.31,0,0,0,4.9,8.1,5.31,5.31,0,0,0,1,6.5,5.31,5.31,0,0,0,4.9,4.9,5.31,5.31,0,0,0,6.5,1,5.31,5.31,0,0,0,8.1,4.9,5.31,5.31,0,0,0,12,6.5,5.46,5.46,0,0,0,6.5,12Z\"/>\n",
              "  </svg>\n",
              "    </button>\n",
              "    <script>\n",
              "      (() => {\n",
              "      const buttonEl =\n",
              "        document.querySelector('#id_1a394991-68f7-44fa-ab48-7f46280d8891 button.colab-df-generate');\n",
              "      buttonEl.style.display =\n",
              "        google.colab.kernel.accessAllowed ? 'block' : 'none';\n",
              "\n",
              "      buttonEl.onclick = () => {\n",
              "        google.colab.notebook.generateWithVariable('df_features');\n",
              "      }\n",
              "      })();\n",
              "    </script>\n",
              "  </div>\n",
              "\n",
              "    </div>\n",
              "  </div>\n"
            ],
            "application/vnd.google.colaboratory.intrinsic+json": {
              "type": "dataframe",
              "variable_name": "df_features",
              "summary": "{\n  \"name\": \"df_features\",\n  \"rows\": 4803,\n  \"fields\": [\n    {\n      \"column\": \"Genre\",\n      \"properties\": {\n        \"dtype\": \"category\",\n        \"num_unique_values\": 1175,\n        \"samples\": [\n          \"[{\\\"id\\\": 14, \\\"name\\\": \\\"Fantasy\\\"}, {\\\"id\\\": 12, \\\"name\\\": \\\"Adventure\\\"}, {\\\"id\\\": 16, \\\"name\\\": \\\"Animation\\\"}]\",\n          \"[{\\\"id\\\": 28, \\\"name\\\": \\\"Action\\\"}, {\\\"id\\\": 35, \\\"name\\\": \\\"Comedy\\\"}, {\\\"id\\\": 80, \\\"name\\\": \\\"Crime\\\"}, {\\\"id\\\": 18, \\\"name\\\": \\\"Drama\\\"}]\",\n          \"[{\\\"id\\\": 12, \\\"name\\\": \\\"Adventure\\\"}, {\\\"id\\\": 16, \\\"name\\\": \\\"Animation\\\"}, {\\\"id\\\": 10751, \\\"name\\\": \\\"Family\\\"}, {\\\"id\\\": 14, \\\"name\\\": \\\"Fantasy\\\"}, {\\\"id\\\": 878, \\\"name\\\": \\\"Science Fiction\\\"}]\"\n        ],\n        \"semantic_type\": \"\",\n        \"description\": \"\"\n      }\n    },\n    {\n      \"column\": \"Description\",\n      \"properties\": {\n        \"dtype\": \"string\",\n        \"num_unique_values\": 4800,\n        \"samples\": [\n          \"When the Switchblade, the most sophisticated prototype stealth fighter created yet, is stolen from the U.S. government, one of the United States' top spies, Alex Scott, is called to action. What he doesn't expect is to get teamed up with a cocky civilian, World Class Boxing Champion Kelly Robinson, on a dangerous top secret espionage mission. Their assignment: using equal parts skill and humor, catch Arnold Gundars, one of the world's most successful arms dealers.\",\n          \"When \\\"street smart\\\" rapper Christopher \\\"C-Note\\\" Hawkins (Big Boi) applies for a membership to all-white Carolina Pines Country Club, the establishment's proprietors are hardly ready to oblige him.\",\n          \"As their first year of high school looms ahead, best friends Julie, Hannah, Yancy and Farrah have one last summer sleepover. Little do they know they're about to embark on the adventure of a lifetime. Desperate to shed their nerdy status, they take part in a night-long scavenger hunt that pits them against their popular archrivals. Everything under the sun goes on -- from taking Yancy's father's car to sneaking into nightclubs!\"\n        ],\n        \"semantic_type\": \"\",\n        \"description\": \"\"\n      }\n    },\n    {\n      \"column\": \"keywords\",\n      \"properties\": {\n        \"dtype\": \"string\",\n        \"num_unique_values\": 4222,\n        \"samples\": [\n          \"[{\\\"id\\\": 782, \\\"name\\\": \\\"assassin\\\"}, {\\\"id\\\": 1872, \\\"name\\\": \\\"loss of father\\\"}, {\\\"id\\\": 2908, \\\"name\\\": \\\"secret society\\\"}, {\\\"id\\\": 3045, \\\"name\\\": \\\"mission of murder\\\"}, {\\\"id\\\": 9748, \\\"name\\\": \\\"revenge\\\"}]\",\n          \"[{\\\"id\\\": 2987, \\\"name\\\": \\\"gang war\\\"}, {\\\"id\\\": 4942, \\\"name\\\": \\\"victim of murder\\\"}, {\\\"id\\\": 5332, \\\"name\\\": \\\"greed\\\"}, {\\\"id\\\": 6062, \\\"name\\\": \\\"hostility\\\"}, {\\\"id\\\": 156212, \\\"name\\\": \\\"spaghetti western\\\"}]\",\n          \"[{\\\"id\\\": 703, \\\"name\\\": \\\"detective\\\"}, {\\\"id\\\": 1299, \\\"name\\\": \\\"monster\\\"}, {\\\"id\\\": 6101, \\\"name\\\": \\\"engine\\\"}, {\\\"id\\\": 10988, \\\"name\\\": \\\"based on tv series\\\"}, {\\\"id\\\": 15162, \\\"name\\\": \\\"dog\\\"}]\"\n        ],\n        \"semantic_type\": \"\",\n        \"description\": \"\"\n      }\n    },\n    {\n      \"column\": \"tagline\",\n      \"properties\": {\n        \"dtype\": \"string\",\n        \"num_unique_values\": 3944,\n        \"samples\": [\n          \"When you're 17, every day is war.\",\n          \"An Unspeakable Horror. A Creative Genius. Captured For Eternity.\",\n          \"May the schwartz be with you\"\n        ],\n        \"semantic_type\": \"\",\n        \"description\": \"\"\n      }\n    }\n  ]\n}"
            }
          },
          "metadata": {},
          "execution_count": 172
        }
      ]
    },
    {
      "cell_type": "code",
      "source": [
        "X = df_features['Description'] + ' ' + df_features['Genre'] + ' ' + df_features['keywords'] + ' ' + df_features['tagline']"
      ],
      "metadata": {
        "id": "YWHXLNeilD2J"
      },
      "execution_count": 173,
      "outputs": []
    },
    {
      "cell_type": "code",
      "source": [
        "X"
      ],
      "metadata": {
        "colab": {
          "base_uri": "https://localhost:8080/"
        },
        "id": "iUly9cUullun",
        "outputId": "266bb394-0900-4aa1-dc6f-89e9a2370bc6"
      },
      "execution_count": 174,
      "outputs": [
        {
          "output_type": "execute_result",
          "data": {
            "text/plain": [
              "0       In the 22nd century, a paraplegic Marine is di...\n",
              "1       Captain Barbossa, long believed to be dead, ha...\n",
              "2       A cryptic message from Bond’s past sends him o...\n",
              "3       Following the death of District Attorney Harve...\n",
              "4       John Carter is a war-weary, former military ca...\n",
              "                              ...                        \n",
              "4798    El Mariachi just wants to play his guitar and ...\n",
              "4799    A newlywed couple's honeymoon is upended by th...\n",
              "4800                                                  NaN\n",
              "4801    When ambitious New York attorney Sam is sent t...\n",
              "4802                                                  NaN\n",
              "Length: 4803, dtype: object"
            ]
          },
          "metadata": {},
          "execution_count": 174
        }
      ]
    },
    {
      "cell_type": "code",
      "source": [
        "X.shape"
      ],
      "metadata": {
        "colab": {
          "base_uri": "https://localhost:8080/"
        },
        "id": "Z5pvp-BjloNL",
        "outputId": "2fa73f76-0dbe-4520-a193-b4b82750ffd2"
      },
      "execution_count": 175,
      "outputs": [
        {
          "output_type": "execute_result",
          "data": {
            "text/plain": [
              "(4803,)"
            ]
          },
          "metadata": {},
          "execution_count": 175
        }
      ]
    },
    {
      "source": [
        "X = np.where(pd.isnull(X), '', X)\n",
        "\n",
        "tfidf = TfidfVectorizer()\n",
        "X = tfidf.fit_transform(X)"
      ],
      "cell_type": "code",
      "metadata": {
        "id": "DgEsM0u03eT0"
      },
      "execution_count": 176,
      "outputs": []
    },
    {
      "cell_type": "code",
      "source": [
        "X.shape"
      ],
      "metadata": {
        "colab": {
          "base_uri": "https://localhost:8080/"
        },
        "id": "YQD_nAEimyI_",
        "outputId": "f8ef1b82-2d9b-416a-bcb9-f7e564d2d182"
      },
      "execution_count": 177,
      "outputs": [
        {
          "output_type": "execute_result",
          "data": {
            "text/plain": [
              "(4803, 30742)"
            ]
          },
          "metadata": {},
          "execution_count": 177
        }
      ]
    },
    {
      "cell_type": "markdown",
      "source": [
        "Implementing Cosine Similarity Algorithm"
      ],
      "metadata": {
        "id": "Oz_cZ1rh-BDA"
      }
    },
    {
      "cell_type": "code",
      "source": [
        "from sklearn.metrics.pairwise import cosine_similarity"
      ],
      "metadata": {
        "id": "Rzsn9wenm5Ud"
      },
      "execution_count": 178,
      "outputs": []
    },
    {
      "cell_type": "code",
      "source": [
        "Similarity_Score = cosine_similarity(X)"
      ],
      "metadata": {
        "id": "YuuFuPgHnd6X"
      },
      "execution_count": 179,
      "outputs": []
    },
    {
      "cell_type": "code",
      "source": [
        "Similarity_Score"
      ],
      "metadata": {
        "colab": {
          "base_uri": "https://localhost:8080/"
        },
        "id": "uA0nWL3hnjNw",
        "outputId": "9f621058-9ec1-4083-eb0f-10f7a6ff9c21"
      },
      "execution_count": 180,
      "outputs": [
        {
          "output_type": "execute_result",
          "data": {
            "text/plain": [
              "array([[1.        , 0.34804421, 0.22578909, ..., 0.        , 0.01376301,\n",
              "        0.        ],\n",
              "       [0.34804421, 1.        , 0.22862935, ..., 0.        , 0.02870636,\n",
              "        0.        ],\n",
              "       [0.22578909, 0.22862935, 1.        , ..., 0.        , 0.01458298,\n",
              "        0.        ],\n",
              "       ...,\n",
              "       [0.        , 0.        , 0.        , ..., 0.        , 0.        ,\n",
              "        0.        ],\n",
              "       [0.01376301, 0.02870636, 0.01458298, ..., 0.        , 1.        ,\n",
              "        0.        ],\n",
              "       [0.        , 0.        , 0.        , ..., 0.        , 0.        ,\n",
              "        0.        ]])"
            ]
          },
          "metadata": {},
          "execution_count": 180
        }
      ]
    },
    {
      "cell_type": "code",
      "source": [
        "Similarity_Score.shape"
      ],
      "metadata": {
        "colab": {
          "base_uri": "https://localhost:8080/"
        },
        "id": "LQNCUGGgnnNS",
        "outputId": "c6d0b1f2-96eb-423c-9b69-9f9593458aa4"
      },
      "execution_count": 181,
      "outputs": [
        {
          "output_type": "execute_result",
          "data": {
            "text/plain": [
              "(4803, 4803)"
            ]
          },
          "metadata": {},
          "execution_count": 181
        }
      ]
    },
    {
      "cell_type": "markdown",
      "source": [
        "Input of Favourite Movie to check the similarity"
      ],
      "metadata": {
        "id": "2sDSQF2G-Q6i"
      }
    },
    {
      "cell_type": "code",
      "source": [
        "Favourite_Movie_Name = input('Enter your favourite movie name : ')"
      ],
      "metadata": {
        "colab": {
          "base_uri": "https://localhost:8080/"
        },
        "id": "leYESBYCn0qB",
        "outputId": "61fa94d0-01de-4fb7-b170-ca9d975863fb"
      },
      "execution_count": 182,
      "outputs": [
        {
          "name": "stdout",
          "output_type": "stream",
          "text": [
            "Enter your favourite movie name : aquaman\n"
          ]
        }
      ]
    },
    {
      "cell_type": "code",
      "source": [
        "All_Movies_Titles_List = df['Title'].tolist()"
      ],
      "metadata": {
        "id": "LOKLnqdxn5AK"
      },
      "execution_count": 183,
      "outputs": []
    },
    {
      "cell_type": "markdown",
      "source": [
        "Generating Closest Title using difflib library"
      ],
      "metadata": {
        "id": "6jmrf-52-Gc7"
      }
    },
    {
      "cell_type": "code",
      "source": [
        "import difflib"
      ],
      "metadata": {
        "id": "oVaA6fABoDHo"
      },
      "execution_count": 184,
      "outputs": []
    },
    {
      "cell_type": "code",
      "source": [
        "Movie_Recommendation = difflib.get_close_matches(Favourite_Movie_Name,All_Movies_Titles_List)\n",
        "print(Movie_Recommendation)"
      ],
      "metadata": {
        "colab": {
          "base_uri": "https://localhost:8080/"
        },
        "id": "ydtacOb3oIJL",
        "outputId": "921825bd-7ee6-4c13-af14-bb8ac26454ed"
      },
      "execution_count": 185,
      "outputs": [
        {
          "output_type": "stream",
          "name": "stdout",
          "text": [
            "['Aquamarine', 'Taxman', 'Batman']\n"
          ]
        }
      ]
    },
    {
      "cell_type": "code",
      "source": [
        "Close_Match = Movie_Recommendation[0]\n",
        "print(Close_Match)"
      ],
      "metadata": {
        "colab": {
          "base_uri": "https://localhost:8080/"
        },
        "id": "qiBtcT-noQ6o",
        "outputId": "e3999bf7-1bc1-4b92-e4d4-5f211be97b77"
      },
      "execution_count": 186,
      "outputs": [
        {
          "output_type": "stream",
          "name": "stdout",
          "text": [
            "Aquamarine\n"
          ]
        }
      ]
    },
    {
      "cell_type": "code",
      "source": [
        "Index_of_Close_Match_Movie = df[df.Title == Close_Match].index.values[0]\n",
        "print(Index_of_Close_Match_Movie)"
      ],
      "metadata": {
        "colab": {
          "base_uri": "https://localhost:8080/"
        },
        "id": "o5bP3EdboZgd",
        "outputId": "40512dce-c4ac-4ce8-f632-9023a7b3f197"
      },
      "execution_count": 187,
      "outputs": [
        {
          "output_type": "stream",
          "name": "stdout",
          "text": [
            "2846\n"
          ]
        }
      ]
    },
    {
      "cell_type": "code",
      "source": [
        "Recommendation_Score = list(enumerate(Similarity_Score[Index_of_Close_Match_Movie]))\n",
        "print(Recommendation_Score)"
      ],
      "metadata": {
        "colab": {
          "base_uri": "https://localhost:8080/"
        },
        "id": "mJ44ijysrXTt",
        "outputId": "ef897e93-41e3-42b3-e23e-57674e70f2e4"
      },
      "execution_count": 188,
      "outputs": [
        {
          "output_type": "stream",
          "name": "stdout",
          "text": [
            "[(0, 0.20125187280593862), (1, 0.2052498563756079), (2, 0.12579514611575066), (3, 0.1685524198087678), (4, 0.15610940029414294), (5, 0.17522125485418139), (6, 0.15150190465449742), (7, 0.13443532595555377), (8, 0.16505655607133396), (9, 0.13514130131751279), (10, 0.0), (11, 0.12340265601070877), (12, 0.1761004604104513), (13, 0.1440066360957366), (14, 0.18444128824960393), (15, 0.170201947830986), (16, 0.14888778623017462), (17, 0.22515754369766444), (18, 0.11795352837699571), (19, 0.14279667484540434), (20, 0.14422009039554934), (21, 0.11458659383342562), (22, 0.12237147647895297), (23, 0.14389603274398965), (24, 0.13943778842216084), (25, 0.16153166792801696), (26, 0.1508193275119081), (27, 0.17544947535216238), (28, 0.15174140572446437), (29, 0.1390344341082242), (30, 0.16051770893021683), (31, 0.15635214222239865), (32, 0.14203867459805036), (33, 0.1389565066653633), (34, 0.13561506104936571), (35, 0.14695438694258087), (36, 0.11257925274000312), (37, 0.15284062387105496), (38, 0.12291658033212076), (39, 0.16309284303560212), (40, 0.14344275727046352), (41, 0.14413094962010076), (42, 0.15050822894399987), (43, 0.14744046016315276), (44, 0.10977529999325102), (45, 0.11473020185984527), (46, 0.18896190988639908), (47, 0.1455251477053585), (48, 0.11737275756527225), (49, 0.0968120407350386), (50, 0.1454934005088447), (51, 0.10291730659474714), (52, 0.14639507079348804), (53, 0.1469258874398883), (54, 0.17959755613370665), (55, 0.1798763375310869), (56, 0.0), (57, 0.07165384743684347), (58, 0.10114162674033128), (59, 0.13469742971762597), (60, 0.11102337769542081), (61, 0.16475472714355305), (62, 0.10780362582165988), (63, 0.16672975141003551), (64, 0.14372203486752932), (65, 0.17364377262507363), (66, 0.0), (67, 0.10230816111111007), (68, 0.1404944287468791), (69, 0.16308714978862326), (70, 0.11927961065098346), (71, 0.10671470970594488), (72, 0.1361448602895899), (73, 0.19834345590178712), (74, 0.11838246384671144), (75, 0.11216768581369504), (76, 0.1786965131695281), (77, 0.13423027461711973), (78, 0.0), (79, 0.12065949265578804), (80, 0.16434524971751638), (81, 0.13991450127275618), (82, 0.18694026913897832), (83, 0.10312053464829475), (84, 0.1264682182430206), (85, 0.1448904236374778), (86, 0.11532919243095756), (87, 0.15114485869410538), (88, 0.18867712682247711), (89, 0.15482716234910016), (90, 0.17233632533566529), (91, 0.07849484742235147), (92, 0.21399164704271953), (93, 0.14615456371627156), (94, 0.1411276606316978), (95, 0.20970740801375354), (96, 0.15388301879245778), (97, 0.11819950530753172), (98, 0.17771211932501577), (99, 0.11716794305825347), (100, 0.1737569597159336), (101, 0.14584687204931326), (102, 0.11194256747387694), (103, 0.19893682797678214), (104, 0.17723956515767894), (105, 0.12272641613717311), (106, 0.22214978886517356), (107, 0.16792915721212978), (108, 0.16141194784737734), (109, 0.14941451583264465), (110, 0.16046494710154025), (111, 0.16034821936775773), (112, 0.17473696478712192), (113, 0.18201005198107617), (114, 0.19711931555526255), (115, 0.16885809545505662), (116, 0.1475281388095062), (117, 0.1710622427429814), (118, 0.16702650704251953), (119, 0.21225740772179358), (120, 0.1611268574161097), (121, 0.1386332227880955), (122, 0.17303026288484535), (123, 0.23124185084111054), (124, 0.20715574366397882), (125, 0.17903866613876612), (126, 0.1404977065327449), (127, 0.18227962093075276), (128, 0.0), (129, 0.16025232047422183), (130, 0.16454895529481192), (131, 0.126901043044127), (132, 0.11373668967239844), (133, 0.20843002572222535), (134, 0.13510102289267267), (135, 0.12464223480720533), (136, 0.1417753351885651), (137, 0.10703798282389439), (138, 0.21643963089936627), (139, 0.21112036008710588), (140, 0.1018802572239062), (141, 0.13920801257916024), (142, 0.1289278392047889), (143, 0.19051181095932215), (144, 0.20233748684138816), (145, 0.15978706152750935), (146, 0.0732409673332467), (147, 0.09691290084956294), (148, 0.1512193727410036), (149, 0.16185277986531937), (150, 0.14309069325553456), (151, 0.16001987567688258), (152, 0.20553473602873756), (153, 0.1158158779476358), (154, 0.1564817902158634), (155, 0.13616563695780481), (156, 0.2268888129899537), (157, 0.09776941887686688), (158, 0.15900365491584387), (159, 0.151858878833966), (160, 0.1901851015715526), (161, 0.15345300510490167), (162, 0.06947767673405905), (163, 0.17768266141047406), (164, 0.10091219513402228), (165, 0.2042189285285696), (166, 0.0), (167, 0.10984523957037039), (168, 0.1506035376744838), (169, 0.14873249532729493), (170, 0.11377390308101075), (171, 0.11724138889040525), (172, 0.19490260453019012), (173, 0.10264042298789182), (174, 0.1470732077099721), (175, 0.14318299277691166), (176, 0.19563586429733354), (177, 0.16857198477319918), (178, 0.15426078886551273), (179, 0.1333514307349969), (180, 0.1983571901914736), (181, 0.1919509814770325), (182, 0.11304788975541569), (183, 0.213504665638312), (184, 0.16381840199815548), (185, 0.16565795095843755), (186, 0.19512938148517764), (187, 0.12456137257592938), (188, 0.17637268008521725), (189, 0.12619379382489182), (190, 0.11747041846762984), (191, 0.18216926865071337), (192, 0.10948526425691159), (193, 0.08631890387677188), (194, 0.14492976065358337), (195, 0.157915543931102), (196, 0.22019967330255888), (197, 0.16781662011435747), (198, 0.16158952615580013), (199, 0.1859884589994112), (200, 0.1730054293131466), (201, 0.1675331585748824), (202, 0.13931128361774542), (203, 0.11368372546974982), (204, 0.16045887167182935), (205, 0.10154716117691484), (206, 0.1170037753771182), (207, 0.1549922252260999), (208, 0.1465650959100162), (209, 0.16428551287037607), (210, 0.12293197493224377), (211, 0.14919507554036937), (212, 0.19145596360697714), (213, 0.16933937228631307), (214, 0.15126364954043284), (215, 0.21927604907119622), (216, 0.15516975493155616), (217, 0.12582030697886687), (218, 0.13134011547679902), (219, 0.10907251274879613), (220, 0.170521604555543), (221, 0.1412799824624468), (222, 0.1105674710321919), (223, 0.10559619159222716), (224, 0.10118582253199725), (225, 0.16602972028133411), (226, 0.1536771937589604), (227, 0.1538566250530267), (228, 0.1250464524854454), (229, 0.11873057072519487), (230, 0.16261651246818026), (231, 0.14686848958272672), (232, 0.16043803377947619), (233, 0.12176218012719078), (234, 0.21286146594778718), (235, 0.0), (236, 0.11405127522897392), (237, 0.11016935260999854), (238, 0.18065654630249234), (239, 0.09287014062927848), (240, 0.18076450711913555), (241, 0.13501280524725354), (242, 0.1432417288675972), (243, 0.1624697353296198), (244, 0.11129813013884501), (245, 0.16956625886122229), (246, 0.1984423153308512), (247, 0.11238854762916552), (248, 0.16453444001979256), (249, 0.15504733816595817), (250, 0.10276299236517966), (251, 0.1084105330901154), (252, 0.15600420370222484), (253, 0.10847953347865563), (254, 0.1680256847306344), (255, 0.09527077298743636), (256, 0.1222765874751308), (257, 0.1409036287009573), (258, 0.12214646945129666), (259, 0.1059330893400737), (260, 0.15835001656965658), (261, 0.19559728814312072), (262, 0.17351903753453132), (263, 0.1457676382542754), (264, 0.07909049786932924), (265, 0.16675506478155985), (266, 0.15909145249918305), (267, 0.1654580684110136), (268, 0.182329056061005), (269, 0.18204648144041674), (270, 0.16730294307497923), (271, 0.15262063712216956), (272, 0.09304313556175099), (273, 0.17900459910733463), (274, 0.1584210353167117), (275, 0.13958379679221786), (276, 0.17299499350206127), (277, 0.12866661820719372), (278, 0.1361697909976216), (279, 0.14591284027860754), (280, 0.09653059701735633), (281, 0.17815688553881778), (282, 0.15754610155335605), (283, 0.11208215360489995), (284, 0.13825369868342172), (285, 0.12732307880368335), (286, 0.1904466801442831), (287, 0.1991912176407992), (288, 0.0), (289, 0.11472308278419824), (290, 0.15034402709020867), (291, 0.11126152373495485), (292, 0.1772515313234065), (293, 0.1392046620023168), (294, 0.16300637030333898), (295, 0.13278169053554953), (296, 0.2177326386610466), (297, 0.13516104904983858), (298, 0.14806970603480832), (299, 0.18077352062247373), (300, 0.16195857274683784), (301, 0.15044828509405386), (302, 0.09703075850957617), (303, 0.18098649668817537), (304, 0.09888214870715574), (305, 0.17683418775256746), (306, 0.10677611363487668), (307, 0.08580984340653273), (308, 0.11426588645480769), (309, 0.13256713161823183), (310, 0.17421954688886482), (311, 0.13116029350709307), (312, 0.09623156384821817), (313, 0.08782439946571065), (314, 0.14373903249794537), (315, 0.10005007815810762), (316, 0.13532654772883929), (317, 0.0), (318, 0.11860083557746293), (319, 0.09573416802009986), (320, 0.1138619603135553), (321, 0.12261639442106606), (322, 0.22141284823220253), (323, 0.08712663531468376), (324, 0.12075709352646606), (325, 0.1298454483476983), (326, 0.19285500301820588), (327, 0.20132500469683498), (328, 0.16932383685804986), (329, 0.1965239448097974), (330, 0.1690136966260309), (331, 0.1281537050700041), (332, 0.14458562861505772), (333, 0.15463832543903183), (334, 0.14364947314340346), (335, 0.14042010801524205), (336, 0.15644062908689396), (337, 0.14542813191840306), (338, 0.09703621709516842), (339, 0.14960961436565368), (340, 0.12041367515179634), (341, 0.1370475523561544), (342, 0.15997964852668767), (343, 0.15788642897334912), (344, 0.05160411407672899), (345, 0.08962364199737424), (346, 0.13130335397781592), (347, 0.10728116011464969), (348, 0.14496077152031744), (349, 0.16357866405589386), (350, 0.1527932727935646), (351, 0.13830026453846245), (352, 0.17007748825281288), (353, 0.12189563331416538), (354, 0.15193212469668402), (355, 0.1873988985758684), (356, 0.15021645660798355), (357, 0.06587088007996955), (358, 0.1233714657512828), (359, 0.15617693645185973), (360, 0.1750243590306278), (361, 0.14552600049736983), (362, 0.1137840067881604), (363, 0.1708102756946942), (364, 0.1454127415659744), (365, 0.16617644485225716), (366, 0.10681594412754211), (367, 0.14962811585666966), (368, 0.14577363079790906), (369, 0.13477762198770912), (370, 0.20865381789849347), (371, 0.11979538889199061), (372, 0.1102259745251848), (373, 0.14368367679508642), (374, 0.1429381607775451), (375, 0.09754991693316356), (376, 0.10273289943627477), (377, 0.11661060542472426), (378, 0.13272630596100246), (379, 0.09890937665184829), (380, 0.18953706078370341), (381, 0.0), (382, 0.09238727025933685), (383, 0.1738814005372862), (384, 0.14440025376397247), (385, 0.1762578422486366), (386, 0.17787243463526542), (387, 0.17800826056799146), (388, 0.1283569666797807), (389, 0.10979185593842641), (390, 0.19358974027688888), (391, 0.17606234169544724), (392, 0.10862641020446094), (393, 0.12478252395008348), (394, 0.18997024746768154), (395, 0.18573283667491702), (396, 0.19390770545760833), (397, 0.12280450507362836), (398, 0.12336093407858566), (399, 0.14090640137203167), (400, 0.10713493782859786), (401, 0.09052495055205748), (402, 0.13249054329630588), (403, 0.1560584431900312), (404, 0.12270626702208262), (405, 0.13647050617854972), (406, 0.12361177252988591), (407, 0.1405789103238617), (408, 0.14943858006325192), (409, 0.15316525598543512), (410, 0.19507957770872347), (411, 0.1414748300906669), (412, 0.08800867592397243), (413, 0.1470049707767409), (414, 0.11991532547101294), (415, 0.18461863406798287), (416, 0.1954482993908867), (417, 0.17791463508981703), (418, 0.138841825241106), (419, 0.15193940912261314), (420, 0.17696920689019463), (421, 0.17575846723606256), (422, 0.11159202900801898), (423, 0.1502006444129905), (424, 0.15574798091783176), (425, 0.1962925139904394), (426, 0.16332421365635627), (427, 0.09653660605128586), (428, 0.15229600192512988), (429, 0.16579971029161217), (430, 0.13318287043672572), (431, 0.2077899505837197), (432, 0.16098180218902908), (433, 0.14790250930625917), (434, 0.13710411881085802), (435, 0.14505123998790911), (436, 0.04481283597856031), (437, 0.13374388947332824), (438, 0.12720357512141595), (439, 0.12777112807451668), (440, 0.13583261189522383), (441, 0.12157330224412564), (442, 0.19661699089832807), (443, 0.13821010816469367), (444, 0.12323993018221224), (445, 0.1601377861466182), (446, 0.18481646004153912), (447, 0.13127119482254943), (448, 0.12039507683496702), (449, 0.12105290709731184), (450, 0.11956253681003111), (451, 0.19245792804166276), (452, 0.15111581268428165), (453, 0.14100813308734594), (454, 0.17882621980645402), (455, 0.21242533244611744), (456, 0.10890896565086325), (457, 0.11834211080445177), (458, 0.12017003518218661), (459, 0.17756122541357117), (460, 0.16749046248672975), (461, 0.09322039138858004), (462, 0.09531213887842786), (463, 0.12657871039792876), (464, 0.18501705426157067), (465, 0.0), (466, 0.1004597584420806), (467, 0.09320956164274893), (468, 0.1373910036601241), (469, 0.12284906602343892), (470, 0.1561956205198947), (471, 0.12768943121329956), (472, 0.1348401561709152), (473, 0.15608278889724053), (474, 0.0), (475, 0.12570180935048425), (476, 0.13227336007423335), (477, 0.09684663750915518), (478, 0.17617144356509912), (479, 0.08024799818175705), (480, 0.1380798221714569), (481, 0.1072047423088473), (482, 0.14135366976514127), (483, 0.13415613469982698), (484, 0.09365165559925433), (485, 0.16059266630397867), (486, 0.09285571612022991), (487, 0.10923302168300562), (488, 0.13566037854855348), (489, 0.13727008130508098), (490, 0.13555015469617873), (491, 0.15345448593463012), (492, 0.0), (493, 0.14610158872626022), (494, 0.15735583551352944), (495, 0.13922358470357032), (496, 0.11350842561905845), (497, 0.09745253875760372), (498, 0.08490160528315818), (499, 0.05162524570222081), (500, 0.10060702945236619), (501, 0.1902991096043179), (502, 0.14761057921207016), (503, 0.1407077789757799), (504, 0.16027394514570503), (505, 0.17912165861971033), (506, 0.19539345105160208), (507, 0.12970079787835112), (508, 0.10789276331068716), (509, 0.08797215316456365), (510, 0.18520054017560655), (511, 0.11870771943374622), (512, 0.11335805486912645), (513, 0.09642825782479157), (514, 0.13953504054344856), (515, 0.11690798051474814), (516, 0.1917535885720328), (517, 0.13221259019727977), (518, 0.10579144715989856), (519, 0.15796026370968283), (520, 0.09520468226530683), (521, 0.16323031976440636), (522, 0.13643422584019554), (523, 0.1058622732559376), (524, 0.15557637712403272), (525, 0.22491251789079184), (526, 0.17449534724450053), (527, 0.12367917120770341), (528, 0.14588286637155126), (529, 0.07960546741826442), (530, 0.13102135577843627), (531, 0.1302303238472527), (532, 0.16947906388681058), (533, 0.1836023028426705), (534, 0.18450999798363302), (535, 0.1365760276881171), (536, 0.0), (537, 0.13393579106143494), (538, 0.11764701441609063), (539, 0.1766376416571382), (540, 0.0), (541, 0.09409588450141944), (542, 0.1357245875133456), (543, 0.11371806126537488), (544, 0.14451323306300043), (545, 0.1284841791552231), (546, 0.14476633316255047), (547, 0.17091834473581108), (548, 0.11113937310323875), (549, 0.12042239621649746), (550, 0.10957552021645392), (551, 0.17350059976750723), (552, 0.0794330732541553), (553, 0.18713858606582878), (554, 0.1381700739607625), (555, 0.12571620128226949), (556, 0.13827469322287825), (557, 0.09739614321575338), (558, 0.205961540665122), (559, 0.11577260898194867), (560, 0.06324099414465845), (561, 0.1361122348583181), (562, 0.14251651695478976), (563, 0.14688189287936995), (564, 0.16082537258603832), (565, 0.16994096532311803), (566, 0.17892897089818807), (567, 0.10190207522599101), (568, 0.1316620445273756), (569, 0.16713883571499552), (570, 0.13794010632349085), (571, 0.1686180694599104), (572, 0.14557197782793427), (573, 0.1643138488768885), (574, 0.0948897612968326), (575, 0.1130506646757929), (576, 0.1899248167287599), (577, 0.15433448232983216), (578, 0.15879181903879935), (579, 0.15262858421542946), (580, 0.07534862342082224), (581, 0.11505683230962964), (582, 0.17060638439258582), (583, 0.2549030404897177), (584, 0.12690329511044748), (585, 0.13635773139579752), (586, 0.1012787979991949), (587, 0.14701906280116536), (588, 0.07123958289212327), (589, 0.13820993103064785), (590, 0.13553328709312867), (591, 0.1868608962636534), (592, 0.1472432249634476), (593, 0.15729061730228946), (594, 0.19956741953479679), (595, 0.1136029503311708), (596, 0.14435945333668382), (597, 0.14162715240078425), (598, 0.1893022893606048), (599, 0.11415136438215764), (600, 0.08147814004107604), (601, 0.1094931731074091), (602, 0.0), (603, 0.10862691901427622), (604, 0.15242442799338274), (605, 0.07517753527410839), (606, 0.19181251534456592), (607, 0.11662843106009162), (608, 0.10605485096838434), (609, 0.12017105018013333), (610, 0.1197678858889456), (611, 0.11313911021522692), (612, 0.14912457092474776), (613, 0.14144710136014815), (614, 0.18490512774263854), (615, 0.11202954208802982), (616, 0.13652726035297583), (617, 0.1914320663802848), (618, 0.1927433766563073), (619, 0.11973418726480521), (620, 0.13263887450698836), (621, 0.14898796176850843), (622, 0.1266801898388546), (623, 0.07846728874322928), (624, 0.1461756292568262), (625, 0.195953509831512), (626, 0.17054601996033797), (627, 0.12421151542626915), (628, 0.1718736083463992), (629, 0.13338621531823963), (630, 0.10561202563880312), (631, 0.15088664594240425), (632, 0.10345887019249986), (633, 0.14240062795885766), (634, 0.20381763063825817), (635, 0.16280262778762994), (636, 0.15761081398219737), (637, 0.18903235774524943), (638, 0.1612315459253913), (639, 0.10364807567740969), (640, 0.09517989903853682), (641, 0.11710255235783987), (642, 0.13926348225207946), (643, 0.08500898319112794), (644, 0.13725333087604188), (645, 0.16490234877461865), (646, 0.14005706724575637), (647, 0.155613910113925), (648, 0.11227341330232142), (649, 0.07435826043935947), (650, 0.13060564520407003), (651, 0.09678092122489504), (652, 0.09091361403137395), (653, 0.18089184750934403), (654, 0.1928220256078137), (655, 0.0), (656, 0.10376132505435115), (657, 0.15440085602585013), (658, 0.11994624989976124), (659, 0.16507331747083762), (660, 0.0), (661, 0.1551462311859142), (662, 0.09555710096281825), (663, 0.10256818968751244), (664, 0.10416343841040071), (665, 0.15789660487937424), (666, 0.18108497303731766), (667, 0.0), (668, 0.13914111638798965), (669, 0.14218622736386352), (670, 0.10798803430663764), (671, 0.1489189553575312), (672, 0.19878209918704334), (673, 0.18554293129993552), (674, 0.09749209134241947), (675, 0.12139765550075615), (676, 0.11385167694925465), (677, 0.2016420008834582), (678, 0.08293711871781004), (679, 0.08479886957468623), (680, 0.1220743464060843), (681, 0.11894785300190318), (682, 0.16753946428960742), (683, 0.11464693092554587), (684, 0.13479656682462215), (685, 0.10593282669554802), (686, 0.14605831237937403), (687, 0.12467484289172784), (688, 0.1617167727648004), (689, 0.1451127798705296), (690, 0.14578579946341602), (691, 0.13198017760207956), (692, 0.18651968701443186), (693, 0.14039817893296774), (694, 0.18804609398981662), (695, 0.15286329526600664), (696, 0.18541712144050615), (697, 0.12316722666604243), (698, 0.20134557441877213), (699, 0.13541690489852096), (700, 0.1273316070528899), (701, 0.09652421107816943), (702, 0.20076428391933432), (703, 0.09204829849659324), (704, 0.15291119321323934), (705, 0.13745322470174998), (706, 0.07810755300432759), (707, 0.1348732105589784), (708, 0.1634331468648459), (709, 0.11916164564489602), (710, 0.14192000007756786), (711, 0.149581983536757), (712, 0.12986110676725868), (713, 0.0), (714, 0.1577033543687225), (715, 0.08851264353205664), (716, 0.0701541775828381), (717, 0.08961695679036057), (718, 0.07294448144986286), (719, 0.11608459963308783), (720, 0.14165351190720435), (721, 0.11861501582528165), (722, 0.1298052894200385), (723, 0.10002608880973393), (724, 0.14608751087736407), (725, 0.1760577681363858), (726, 0.07958697143733835), (727, 0.1108961181920767), (728, 0.14885833379183652), (729, 0.1119603394718931), (730, 0.1465711939315537), (731, 0.11781266727443204), (732, 0.12194612554231254), (733, 0.09173104449415402), (734, 0.12048827765423067), (735, 0.1125695807892633), (736, 0.08732222076937834), (737, 0.17754164369717948), (738, 0.0), (739, 0.0970557487499977), (740, 0.18285826376812805), (741, 0.16836431375226651), (742, 0.1854211148392716), (743, 0.15418251875680472), (744, 0.19357470386659997), (745, 0.1028486670559906), (746, 0.1344955006822713), (747, 0.08143726560110774), (748, 0.13299050130411624), (749, 0.1109042340732348), (750, 0.17394355282096705), (751, 0.0976947202870762), (752, 0.1369975247938927), (753, 0.09091051794214107), (754, 0.14576713092202284), (755, 0.1470327291943747), (756, 0.16852308576489783), (757, 0.13782610091068653), (758, 0.11019559126697538), (759, 0.13156650318209517), (760, 0.11542736765168438), (761, 0.11902055367380086), (762, 0.1424916678146366), (763, 0.09300890413965382), (764, 0.105455868815651), (765, 0.1701636970652077), (766, 0.11369390805931964), (767, 0.1475706726785347), (768, 0.13965292539308005), (769, 0.0), (770, 0.18922693611488992), (771, 0.12757781199670282), (772, 0.0666332194489777), (773, 0.13886213479975568), (774, 0.10697559135169901), (775, 0.11797731683944349), (776, 0.16581574992836423), (777, 0.15761155698423637), (778, 0.20364694868088665), (779, 0.13865608523016182), (780, 0.0889131846203974), (781, 0.18735235572425218), (782, 0.14687555929746582), (783, 0.10624344519168309), (784, 0.24282175980625947), (785, 0.15077569538085345), (786, 0.0), (787, 0.1323290412604067), (788, 0.12900177877059688), (789, 0.12093721825650333), (790, 0.10821348147739936), (791, 0.18551841428846366), (792, 0.1399217272533534), (793, 0.14181702555844478), (794, 0.15101771798441113), (795, 0.1608070606744854), (796, 0.0), (797, 0.08552276050437292), (798, 0.10625395149156372), (799, 0.1417565007334525), (800, 0.11915525993650103), (801, 0.20385110941836676), (802, 0.06478857817173174), (803, 0.1635498946591773), (804, 0.13636957415262815), (805, 0.1488360941839342), (806, 0.0), (807, 0.17232697503011968), (808, 0.1508239518727319), (809, 0.19186938559810213), (810, 0.1993366033493694), (811, 0.16330370691355842), (812, 0.20962707149140405), (813, 0.18096342788463385), (814, 0.10442691672965786), (815, 0.08329018772883404), (816, 0.13907882894607032), (817, 0.11648602334020886), (818, 0.14925309291539665), (819, 0.173515960273825), (820, 0.16641069971936498), (821, 0.2007168754755253), (822, 0.0), (823, 0.1565660508435825), (824, 0.0), (825, 0.12102652145038477), (826, 0.1272807926488143), (827, 0.16081317477019758), (828, 0.17160233775515962), (829, 0.09918629909207875), (830, 0.17093682972816718), (831, 0.1044270582538885), (832, 0.10953106240388354), (833, 0.13938739500748354), (834, 0.19175729937732816), (835, 0.0), (836, 0.15741440559435987), (837, 0.13568038200577853), (838, 0.16466830504254878), (839, 0.1260468095219089), (840, 0.14928943179187937), (841, 0.09954429145656302), (842, 0.12234384247661921), (843, 0.16603805762235416), (844, 0.16363797513961478), (845, 0.0), (846, 0.14100346115086426), (847, 0.1224099209092906), (848, 0.12017161111521482), (849, 0.19219806738106332), (850, 0.13659375405451352), (851, 0.118707083225938), (852, 0.17611670549851807), (853, 0.1674794607183197), (854, 0.1820475504285424), (855, 0.11310867202383726), (856, 0.09492419189627416), (857, 0.04198922905686539), (858, 0.11310354872426585), (859, 0.0), (860, 0.08105936622349182), (861, 0.16321339064150722), (862, 0.20166406670227985), (863, 0.08825813647657267), (864, 0.16623101890146694), (865, 0.0911024884045831), (866, 0.0788435697626705), (867, 0.1477362276837895), (868, 0.16275943225512302), (869, 0.09529783278799699), (870, 0.16931437708366046), (871, 0.10825705265239327), (872, 0.1814075421377989), (873, 0.14008994316401127), (874, 0.12376310344049639), (875, 0.15689493184314088), (876, 0.20344202783560303), (877, 0.11531896791833893), (878, 0.10052164004952407), (879, 0.1460460539628132), (880, 0.10649518654820221), (881, 0.07664520048746255), (882, 0.08597850806375534), (883, 0.11521669204810213), (884, 0.2241402823472058), (885, 0.15012688726302534), (886, 0.1553408007081841), (887, 0.12124122879970775), (888, 0.10423506401765534), (889, 0.16188541425346847), (890, 0.1117789516038565), (891, 0.12206816049761297), (892, 0.12488525471665118), (893, 0.16331136507109442), (894, 0.12839942095498563), (895, 0.1161717193928745), (896, 0.11378803606463284), (897, 0.16113346225351263), (898, 0.14517210010302226), (899, 0.18202847442849776), (900, 0.1819855274541303), (901, 0.10750377466496668), (902, 0.1113482194428426), (903, 0.13206243793633893), (904, 0.1676433535026654), (905, 0.09370254099748863), (906, 0.11786493647248636), (907, 0.13560461320543674), (908, 0.1477287774478891), (909, 0.10219684354986258), (910, 0.11667902886943282), (911, 0.11407291608334243), (912, 0.13646655434787996), (913, 0.06994102315241968), (914, 0.1184349229631339), (915, 0.10933706639460605), (916, 0.08125836956701565), (917, 0.1701494612017929), (918, 0.10863450627703539), (919, 0.10740078378557391), (920, 0.12146793069911067), (921, 0.08146523169574192), (922, 0.18103124745084667), (923, 0.07848281224620879), (924, 0.1717644451310969), (925, 0.11796662094350113), (926, 0.1105210300326964), (927, 0.08740010803678759), (928, 0.1365527172944835), (929, 0.13023417924111702), (930, 0.12017304975343031), (931, 0.1870942755915719), (932, 0.17737163288572447), (933, 0.16073044334122802), (934, 0.170802667212616), (935, 0.18246300955956818), (936, 0.13237594156263077), (937, 0.15034409865530826), (938, 0.1325039452481725), (939, 0.1571907537202879), (940, 0.12454602513290926), (941, 0.17998879418159666), (942, 0.0), (943, 0.09601477774376904), (944, 0.15356605754491615), (945, 0.17884204729726902), (946, 0.09777015889802895), (947, 0.19225732282358207), (948, 0.10689626566390904), (949, 0.12774934289285325), (950, 0.14686532422344706), (951, 0.12742633387028093), (952, 0.0), (953, 0.18670445597602087), (954, 0.12266668074075131), (955, 0.17191336078986422), (956, 0.14060987858236765), (957, 0.15838663520842866), (958, 0.0981572353556548), (959, 0.09147375132930989), (960, 0.11208392584955107), (961, 0.19078175423182536), (962, 0.14578957312088706), (963, 0.1083950809278306), (964, 0.16991449924587965), (965, 0.11629591113005759), (966, 0.06717193006575875), (967, 0.05635806530273154), (968, 0.1576485675269141), (969, 0.18831926142775576), (970, 0.09899770538854936), (971, 0.0), (972, 0.17655606340600913), (973, 0.1379392241372631), (974, 0.1607563905879299), (975, 0.08843471193129325), (976, 0.11831835811523041), (977, 0.16447844589977387), (978, 0.13736046404879035), (979, 0.10238730980075823), (980, 0.16606767654430468), (981, 0.06930230877104816), (982, 0.11438639421002034), (983, 0.21709876825885632), (984, 0.12341095483477853), (985, 0.0), (986, 0.1687044646545118), (987, 0.14465234699497972), (988, 0.11177815444887577), (989, 0.09227158338073545), (990, 0.14442120843022674), (991, 0.09039849865633838), (992, 0.09961231383892565), (993, 0.12032453114355471), (994, 0.10831523711441265), (995, 0.13262368937871563), (996, 0.11090093534707342), (997, 0.11257606549212418), (998, 0.18363457813541584), (999, 0.11516898639708682), (1000, 0.13982858616454036), (1001, 0.129340296070558), (1002, 0.09023432924451455), (1003, 0.13641011199601166), (1004, 0.12093408286740494), (1005, 0.12633187670069618), (1006, 0.16461203067616498), (1007, 0.11896475735866426), (1008, 0.09573174226608946), (1009, 0.09241616627230217), (1010, 0.0), (1011, 0.0), (1012, 0.15360478991800852), (1013, 0.1626345678696511), (1014, 0.09099288797873877), (1015, 0.17761769998832153), (1016, 0.19617931913704953), (1017, 0.12457706726064002), (1018, 0.13426092887436392), (1019, 0.17754046679992827), (1020, 0.13134902656258957), (1021, 0.1349318642574352), (1022, 0.08822317777888364), (1023, 0.0), (1024, 0.13373471503507708), (1025, 0.12997865505936188), (1026, 0.1966233623195389), (1027, 0.18008486700863902), (1028, 0.0), (1029, 0.20334893508775626), (1030, 0.11565893636280786), (1031, 0.17893737811458796), (1032, 0.12062547169713077), (1033, 0.1896004309703467), (1034, 0.14408130050176704), (1035, 0.12568340202240352), (1036, 0.12835571313234387), (1037, 0.10206369187549143), (1038, 0.11855870029253206), (1039, 0.06739057767228596), (1040, 0.1644741083346254), (1041, 0.15618937497472057), (1042, 0.07306727138061925), (1043, 0.1166740561388423), (1044, 0.1997289370159513), (1045, 0.1404042611099911), (1046, 0.08994511623185336), (1047, 0.12276151083012041), (1048, 0.1884693970355441), (1049, 0.11070324553541376), (1050, 0.10066974590184843), (1051, 0.12804186108993773), (1052, 0.14985199650365985), (1053, 0.12582737951014458), (1054, 0.057528370871628126), (1055, 0.14711111181344422), (1056, 0.17929243561581792), (1057, 0.11446118927154024), (1058, 0.10155172162672196), (1059, 0.1170115573124679), (1060, 0.07640842162254301), (1061, 0.2050095915912176), (1062, 0.14753666287781272), (1063, 0.09659196520613596), (1064, 0.0934113667168607), (1065, 0.16217404941420635), (1066, 0.14158053166868315), (1067, 0.13569349297767214), (1068, 0.19751777881602814), (1069, 0.0), (1070, 0.14910125254705475), (1071, 0.10420519488545721), (1072, 0.08928264692589677), (1073, 0.15575506880987935), (1074, 0.0), (1075, 0.15764031708940535), (1076, 0.1365081104055413), (1077, 0.16461222277005505), (1078, 0.13840383529072386), (1079, 0.188561516986829), (1080, 0.1988119923383714), (1081, 0.13198084271789956), (1082, 0.11331630324345096), (1083, 0.17160904275086275), (1084, 0.12495370454761723), (1085, 0.11808514901151346), (1086, 0.13488696668811764), (1087, 0.0), (1088, 0.0), (1089, 0.15059737219786587), (1090, 0.16722801647910515), (1091, 0.10141371133920402), (1092, 0.11503516259573564), (1093, 0.10366583066894097), (1094, 0.0), (1095, 0.18736495995102145), (1096, 0.18947639857019258), (1097, 0.10701966789092807), (1098, 0.17299616519967712), (1099, 0.0), (1100, 0.17314041698066926), (1101, 0.14983114233050637), (1102, 0.17536374129094828), (1103, 0.21790301939100998), (1104, 0.05166626621617572), (1105, 0.14621585605291812), (1106, 0.18504155966659183), (1107, 0.11323825551610459), (1108, 0.15339541729126766), (1109, 0.11441180045149317), (1110, 0.1471679567207202), (1111, 0.13966499406355257), (1112, 0.19345961440150913), (1113, 0.1413714631925727), (1114, 0.07928517975326095), (1115, 0.16876071998438477), (1116, 0.1010874619728301), (1117, 0.08350466741431845), (1118, 0.16393798120678624), (1119, 0.13705599852073197), (1120, 0.1967874671318793), (1121, 0.09266180814532882), (1122, 0.18918153417174127), (1123, 0.13086495844307197), (1124, 0.0946711549630382), (1125, 0.09871849348012349), (1126, 0.08955364674952489), (1127, 0.16104464452195127), (1128, 0.1356497241943635), (1129, 0.18072075311799765), (1130, 0.09496540777143186), (1131, 0.14601720590013656), (1132, 0.16183765429518107), (1133, 0.21196796604618653), (1134, 0.17059522662270007), (1135, 0.0882424585244379), (1136, 0.13125277018975953), (1137, 0.1503196792573768), (1138, 0.08520061620757274), (1139, 0.14024138158527336), (1140, 0.1015873166709598), (1141, 0.1347824764201702), (1142, 0.08434862879856662), (1143, 0.14919103480437426), (1144, 0.0), (1145, 0.18556963135403218), (1146, 0.12566375554040674), (1147, 0.12976874644596953), (1148, 0.08388522175031635), (1149, 0.08271433402985942), (1150, 0.18764312875347322), (1151, 0.13773505389245594), (1152, 0.1825855008051144), (1153, 0.1503656237409337), (1154, 0.1261252756385861), (1155, 0.1526951029256419), (1156, 0.17003097489088337), (1157, 0.08826492957408932), (1158, 0.11692304935698188), (1159, 0.14710342884085797), (1160, 0.12435342073277135), (1161, 0.09413100368539556), (1162, 0.11148963925623735), (1163, 0.09580030908704369), (1164, 0.14238794441299574), (1165, 0.18063946452336552), (1166, 0.0889864243660788), (1167, 0.14920373224736921), (1168, 0.1548364506328403), (1169, 0.07494440286285663), (1170, 0.19709975816171466), (1171, 0.15115172892303247), (1172, 0.12831601329059308), (1173, 0.08720924835080614), (1174, 0.11695292128879087), (1175, 0.14209687188207376), (1176, 0.14374468972238463), (1177, 0.13912226718543994), (1178, 0.1830766296083345), (1179, 0.10191016191295006), (1180, 0.15172687092532372), (1181, 0.15794651281984137), (1182, 0.12173219223743229), (1183, 0.11333137505011517), (1184, 0.12268987390814204), (1185, 0.143445078707216), (1186, 0.1264498788147371), (1187, 0.09658157096030233), (1188, 0.1540322122988289), (1189, 0.047162436609592975), (1190, 0.12934989245236728), (1191, 0.15077058986209196), (1192, 0.14262432935436858), (1193, 0.12220523885712353), (1194, 0.1144093648419905), (1195, 0.18086371070107332), (1196, 0.1569316040467449), (1197, 0.10530686859877074), (1198, 0.16593462363523964), (1199, 0.1685118529888757), (1200, 0.20600264796581494), (1201, 0.1409077355340145), (1202, 0.11297361603903555), (1203, 0.17131222019081993), (1204, 0.1565544651149341), (1205, 0.17899215968444088), (1206, 0.1405084945168261), (1207, 0.17165023930925025), (1208, 0.0), (1209, 0.10185553110262195), (1210, 0.12618085488163674), (1211, 0.10757389737571182), (1212, 0.1357533306289289), (1213, 0.133108255793769), (1214, 0.11276756395785503), (1215, 0.17081092169634113), (1216, 0.12486264313999859), (1217, 0.11854044368387331), (1218, 0.1334557698814378), (1219, 0.11768870092421341), (1220, 0.11520258150353783), (1221, 0.18921991516668754), (1222, 0.10544318101213593), (1223, 0.16957807420341497), (1224, 0.11294441750910042), (1225, 0.15011697951567385), (1226, 0.14899265468947276), (1227, 0.11226305992052582), (1228, 0.16918065155815828), (1229, 0.11270573210527782), (1230, 0.14971895905239738), (1231, 0.1401299334799851), (1232, 0.09134570240510577), (1233, 0.11446579480407797), (1234, 0.12176913992717948), (1235, 0.1553323966312708), (1236, 0.1066969896518532), (1237, 0.08901104251282524), (1238, 0.16223302842053797), (1239, 0.14269716335012736), (1240, 0.12794440602234555), (1241, 0.09336795595761549), (1242, 0.12852787319288253), (1243, 0.15155966008079738), (1244, 0.15126299304138718), (1245, 0.13996686597297817), (1246, 0.13394160711747852), (1247, 0.10143150505767917), (1248, 0.0828979062147955), (1249, 0.0800143367946511), (1250, 0.14494134717642407), (1251, 0.1146870646583379), (1252, 0.1387884938124914), (1253, 0.0), (1254, 0.1116959962987808), (1255, 0.13654058936948507), (1256, 0.0), (1257, 0.13487515372006878), (1258, 0.0), (1259, 0.10384965951028723), (1260, 0.16861745656659122), (1261, 0.0), (1262, 0.09980229974628083), (1263, 0.11584626740618013), (1264, 0.11340009710509952), (1265, 0.1058341991913213), (1266, 0.14241087321164395), (1267, 0.0), (1268, 0.0), (1269, 0.08773869946618976), (1270, 0.07529071969514814), (1271, 0.14628251211983023), (1272, 0.08433479427263431), (1273, 0.09873431942609828), (1274, 0.12981248734360704), (1275, 0.12837800264526017), (1276, 0.06268490955616052), (1277, 0.0), (1278, 0.10823114214161349), (1279, 0.11417457306457403), (1280, 0.0857893110712009), (1281, 0.1665095335877469), (1282, 0.12603819769273236), (1283, 0.17923525856849043), (1284, 0.0), (1285, 0.07069699402750912), (1286, 0.1860153969181315), (1287, 0.0), (1288, 0.0), (1289, 0.12513355231934936), (1290, 0.0), (1291, 0.0), (1292, 0.15817226664895556), (1293, 0.12793361653218324), (1294, 0.1615696881537383), (1295, 0.0), (1296, 0.15636357267391632), (1297, 0.12524808973210969), (1298, 0.11883679857663403), (1299, 0.11079554226421437), (1300, 0.16231532549220895), (1301, 0.10336350963414483), (1302, 0.12931978259003024), (1303, 0.11654945554883411), (1304, 0.09773794541271517), (1305, 0.07068168463190666), (1306, 0.0), (1307, 0.1149852216779635), (1308, 0.128458394289872), (1309, 0.07680343909865117), (1310, 0.10028026054407285), (1311, 0.099677618068336), (1312, 0.10500840640976795), (1313, 0.14121529098476535), (1314, 0.11534407509756006), (1315, 0.09176657784104296), (1316, 0.10867754536978051), (1317, 0.0), (1318, 0.16770825333752445), (1319, 0.08607951360880377), (1320, 0.126796938805445), (1321, 0.0), (1322, 0.15235651243853499), (1323, 0.10854889354072392), (1324, 0.09305017745330399), (1325, 0.10121230659200388), (1326, 0.12508437050488563), (1327, 0.10478344674899237), (1328, 0.16964922454278739), (1329, 0.14038121604578008), (1330, 0.1418154965162262), (1331, 0.21728041353763125), (1332, 0.09504547032354577), (1333, 0.1516676089377447), (1334, 0.12063188795879155), (1335, 0.13508660257085753), (1336, 0.12294004295303816), (1337, 0.1934289352642251), (1338, 0.1564499875829417), (1339, 0.14220089255975213), (1340, 0.14144933527835005), (1341, 0.0), (1342, 0.1622141775628619), (1343, 0.10299649949727928), (1344, 0.14702196817602417), (1345, 0.10777981852911041), (1346, 0.1019728167013115), (1347, 0.08019087288837691), (1348, 0.1378953691931276), (1349, 0.09197465806927176), (1350, 0.14155067160821896), (1351, 0.13759423242239657), (1352, 0.1923887544392911), (1353, 0.09386246844158246), (1354, 0.0837681826687667), (1355, 0.0), (1356, 0.13149249363887136), (1357, 0.0), (1358, 0.19608864115820918), (1359, 0.1329065597577931), (1360, 0.0), (1361, 0.12691535555428574), (1362, 0.10602447478995662), (1363, 0.14274383676357777), (1364, 0.10917272847537461), (1365, 0.11035706741857887), (1366, 0.18152303726627023), (1367, 0.13145449230046513), (1368, 0.0909694046677254), (1369, 0.12570346914171648), (1370, 0.12222481093823341), (1371, 0.1021768870442011), (1372, 0.13843498821250189), (1373, 0.1812998230648932), (1374, 0.1800877928382455), (1375, 0.16325498701965327), (1376, 0.1550264296914825), (1377, 0.15787198256436266), (1378, 0.1435443980585793), (1379, 0.128497323321947), (1380, 0.09446704662085857), (1381, 0.07949480601555797), (1382, 0.0), (1383, 0.07397388260310082), (1384, 0.12937603619016486), (1385, 0.14277795083557082), (1386, 0.12298808443191624), (1387, 0.0), (1388, 0.10524887280007973), (1389, 0.12790314981395473), (1390, 0.17830816661854423), (1391, 0.12055142026369148), (1392, 0.11338330011576868), (1393, 0.0), (1394, 0.1487816584291724), (1395, 0.10491760881402949), (1396, 0.12421192704447676), (1397, 0.1195069091274916), (1398, 0.09655261559835611), (1399, 0.13363445381143718), (1400, 0.17037335232589218), (1401, 0.1909176008543602), (1402, 0.16803275943734536), (1403, 0.09620409059675473), (1404, 0.1336116716490324), (1405, 0.1635535729415251), (1406, 0.13272667581882014), (1407, 0.1411556507648337), (1408, 0.19519771128263702), (1409, 0.10942601262973717), (1410, 0.1847186678241544), (1411, 0.13339399415652664), (1412, 0.13114399974259638), (1413, 0.14678982039263275), (1414, 0.09900789262788325), (1415, 0.13565755844530653), (1416, 0.1017741069917463), (1417, 0.10650396420414047), (1418, 0.0), (1419, 0.10609759843704332), (1420, 0.14711406374551578), (1421, 0.0), (1422, 0.10204042510468887), (1423, 0.13848307150141437), (1424, 0.10548347491066278), (1425, 0.2045470566544573), (1426, 0.09578691466794417), (1427, 0.1652654954980734), (1428, 0.10840396187818666), (1429, 0.10471036276025966), (1430, 0.10946853580168563), (1431, 0.11988675113639438), (1432, 0.17851840642135736), (1433, 0.18138286604326095), (1434, 0.07888843047069238), (1435, 0.09875432035257439), (1436, 0.11039222726067653), (1437, 0.13380500449952212), (1438, 0.14749568959608647), (1439, 0.14378586544595628), (1440, 0.10762384170157734), (1441, 0.1528731785183072), (1442, 0.14772148944396324), (1443, 0.11768931003825017), (1444, 0.1091248796691651), (1445, 0.11814529545709453), (1446, 0.19195289546067956), (1447, 0.09381291580632807), (1448, 0.09305007737445062), (1449, 0.18442395138499224), (1450, 0.12694378851893873), (1451, 0.11256291188371213), (1452, 0.1248583546675312), (1453, 0.1022384104805748), (1454, 0.11085212025045643), (1455, 0.08009849745462609), (1456, 0.13879267575382018), (1457, 0.109421414109601), (1458, 0.16268488608802367), (1459, 0.11771076515516808), (1460, 0.0), (1461, 0.11954153651249813), (1462, 0.11079452663321095), (1463, 0.12166163466487127), (1464, 0.0), (1465, 0.14563982807595677), (1466, 0.05995782073117248), (1467, 0.14960265102406461), (1468, 0.19319680767196887), (1469, 0.057424386741472495), (1470, 0.11122853993315938), (1471, 0.18030439312229254), (1472, 0.15382651168207614), (1473, 0.11808408632151425), (1474, 0.09446269310731245), (1475, 0.0), (1476, 0.10168768267581295), (1477, 0.07495937415352817), (1478, 0.0), (1479, 0.08628794678816147), (1480, 0.0733055940938332), (1481, 0.14141354403013637), (1482, 0.12196458978830693), (1483, 0.12050548250666765), (1484, 0.13941521108594773), (1485, 0.10212894949400646), (1486, 0.16140946207830126), (1487, 0.10398263166750309), (1488, 0.08856298396659101), (1489, 0.10044065981012108), (1490, 0.12509841260466656), (1491, 0.09662908038216704), (1492, 0.19364289935021137), (1493, 0.09718917766662563), (1494, 0.13815507530728074), (1495, 0.148901313600904), (1496, 0.11279335584242946), (1497, 0.12987816119709605), (1498, 0.11522936874252983), (1499, 0.21568013864232194), (1500, 0.18440214524555518), (1501, 0.11329720386804468), (1502, 0.05482568449979256), (1503, 0.06596430229479906), (1504, 0.09725527959794793), (1505, 0.15733199530288522), (1506, 0.15006209970128218), (1507, 0.13882524272536667), (1508, 0.14060553395665), (1509, 0.0), (1510, 0.1058253914834313), (1511, 0.0), (1512, 0.18568896525159295), (1513, 0.12736633561219474), (1514, 0.11098416102698636), (1515, 0.17953080961221388), (1516, 0.0), (1517, 0.11421945487572208), (1518, 0.1513702875409603), (1519, 0.16135650684925487), (1520, 0.06428243434425371), (1521, 0.1683588901003003), (1522, 0.0), (1523, 0.1910840884649279), (1524, 0.0), (1525, 0.17353943119928789), (1526, 0.20292591098147555), (1527, 0.13014041898007322), (1528, 0.0), (1529, 0.1869053908639981), (1530, 0.0), (1531, 0.14393314218328815), (1532, 0.12336347963012152), (1533, 0.18475540080283048), (1534, 0.12864816127960307), (1535, 0.2156069747456142), (1536, 0.14242998882736638), (1537, 0.16926271481353), (1538, 0.13459393293437125), (1539, 0.15008417317371117), (1540, 0.1352959665525091), (1541, 0.0), (1542, 0.09692235195727653), (1543, 0.0), (1544, 0.07941262957179988), (1545, 0.15267474877198856), (1546, 0.09792549678936255), (1547, 0.07502977332343375), (1548, 0.14614682887161878), (1549, 0.14146610940492688), (1550, 0.10124794647778265), (1551, 0.1821117389443842), (1552, 0.11048620551184501), (1553, 0.15292759962831246), (1554, 0.1636132611268801), (1555, 0.11859719768298486), (1556, 0.15765258795585668), (1557, 0.14784664989777246), (1558, 0.09170504872650946), (1559, 0.16472609311238315), (1560, 0.20557650650502665), (1561, 0.15563240678241533), (1562, 0.10779431315601053), (1563, 0.18111838539078942), (1564, 0.16316501739123893), (1565, 0.11284326422310824), (1566, 0.10446211380107351), (1567, 0.17589676928099635), (1568, 0.16180590293985114), (1569, 0.0), (1570, 0.13997130506818103), (1571, 0.10798104337218148), (1572, 0.08341139680114099), (1573, 0.14966659469301094), (1574, 0.07837325166737463), (1575, 0.11783142494751649), (1576, 0.1400734859051282), (1577, 0.12297864644915918), (1578, 0.14337192131915044), (1579, 0.0), (1580, 0.12119457068125203), (1581, 0.1289285653384002), (1582, 0.1471798759540247), (1583, 0.14831772437201732), (1584, 0.14955979873949293), (1585, 0.0771459165395642), (1586, 0.18924954760686297), (1587, 0.13894078224143913), (1588, 0.14750929627754447), (1589, 0.10088089035278622), (1590, 0.15668127557255201), (1591, 0.13436444025589372), (1592, 0.08924833204828997), (1593, 0.05066182891315372), (1594, 0.2006786741531279), (1595, 0.08371153517204463), (1596, 0.1933635171430301), (1597, 0.05758790640173016), (1598, 0.1324318865875385), (1599, 0.13866372310043848), (1600, 0.0), (1601, 0.10138552500457364), (1602, 0.10241169759013495), (1603, 0.15647118518655845), (1604, 0.1303548770108267), (1605, 0.11579306321503259), (1606, 0.12346556013342799), (1607, 0.1383010406130968), (1608, 0.09278830454753038), (1609, 0.14920139458183937), (1610, 0.17196823561339789), (1611, 0.12039705416624881), (1612, 0.1757449095338497), (1613, 0.2113087216983684), (1614, 0.09540453494424889), (1615, 0.13674076663519394), (1616, 0.08930206125417067), (1617, 0.17633867099170947), (1618, 0.13117730244696138), (1619, 0.17065064185445764), (1620, 0.11034350035599504), (1621, 0.10421502535541952), (1622, 0.11426522509600516), (1623, 0.08666193512282441), (1624, 0.14460127283950172), (1625, 0.12743549286912245), (1626, 0.15210292863624267), (1627, 0.0), (1628, 0.09003412409601144), (1629, 0.1079318667027741), (1630, 0.16902052065591813), (1631, 0.09153756723912622), (1632, 0.14405668081336195), (1633, 0.16799905156231568), (1634, 0.18570830491234658), (1635, 0.1804109405775056), (1636, 0.13516517715123394), (1637, 0.1529394818964437), (1638, 0.1459181976569742), (1639, 0.09454848430302223), (1640, 0.1731452009557149), (1641, 0.06731307896965541), (1642, 0.12336147673112142), (1643, 0.1237346618175569), (1644, 0.09403962232154754), (1645, 0.1310016306897602), (1646, 0.13942301725881667), (1647, 0.15415199651733058), (1648, 0.13444472512499575), (1649, 0.11501970548360813), (1650, 0.09387244569939221), (1651, 0.14214388973272615), (1652, 0.16661139339589542), (1653, 0.12793553990547707), (1654, 0.131457673836251), (1655, 0.20425951619155477), (1656, 0.1519447670591283), (1657, 0.08073427365136641), (1658, 0.0), (1659, 0.10756267831636089), (1660, 0.10164315922120373), (1661, 0.16217445318814866), (1662, 0.08876329906783931), (1663, 0.12786657550760677), (1664, 0.13411201939543418), (1665, 0.0), (1666, 0.11056946293528393), (1667, 0.0), (1668, 0.13674599404860743), (1669, 0.11603450169567317), (1670, 0.1448961478890765), (1671, 0.13251162217569068), (1672, 0.13662403848347865), (1673, 0.0), (1674, 0.10039341505084533), (1675, 0.09123258275495483), (1676, 0.0), (1677, 0.0), (1678, 0.07304082316715275), (1679, 0.0), (1680, 0.1702083351541508), (1681, 0.0), (1682, 0.16609801660446039), (1683, 0.16610746516175498), (1684, 0.15475380321069343), (1685, 0.08441387460367929), (1686, 0.14853464945042286), (1687, 0.09619568618221704), (1688, 0.12045495383821515), (1689, 0.12095670448709324), (1690, 0.09631685107127086), (1691, 0.0), (1692, 0.1236078022552894), (1693, 0.12579263662535822), (1694, 0.2042958267702759), (1695, 0.2088396025227689), (1696, 0.2135193624000839), (1697, 0.16948678426977365), (1698, 0.0), (1699, 0.10550133061792848), (1700, 0.08170595784717609), (1701, 0.06353336595482637), (1702, 0.20350794459931265), (1703, 0.11740836494353529), (1704, 0.16962648145356846), (1705, 0.08997552948445411), (1706, 0.11245578787636784), (1707, 0.19595288659473525), (1708, 0.13252851541393224), (1709, 0.0), (1710, 0.13300553265647586), (1711, 0.13317180996576078), (1712, 0.10786975029473998), (1713, 0.1773370854574892), (1714, 0.13727191844741565), (1715, 0.11776360067794113), (1716, 0.08746192864362899), (1717, 0.1342179379840248), (1718, 0.13155833118747817), (1719, 0.1507321410976566), (1720, 0.1904046060032907), (1721, 0.12612728382124874), (1722, 0.09807204620175672), (1723, 0.11947807316910858), (1724, 0.11898029578388386), (1725, 0.1480188864666513), (1726, 0.1023161294878717), (1727, 0.0), (1728, 0.13531884298490632), (1729, 0.0), (1730, 0.0), (1731, 0.21481045803966636), (1732, 0.0734320340489374), (1733, 0.10004058404605143), (1734, 0.12672621788713362), (1735, 0.10567130278063054), (1736, 0.10930363961932688), (1737, 0.14661240896620617), (1738, 0.0), (1739, 0.11503533204946786), (1740, 0.1055415156997697), (1741, 0.0), (1742, 0.14234359845895422), (1743, 0.12223056020767158), (1744, 0.16152084050448984), (1745, 0.10763802198374378), (1746, 0.07592509204990786), (1747, 0.11150863879004098), (1748, 0.2505504232439694), (1749, 0.19189445189602458), (1750, 0.14016207597107322), (1751, 0.195529233390748), (1752, 0.17998507366969552), (1753, 0.19406350730851452), (1754, 0.2033454311950252), (1755, 0.06583417094500617), (1756, 0.15770210354206232), (1757, 0.1752512044223708), (1758, 0.1671739301684583), (1759, 0.12121787919306762), (1760, 0.1286269239313896), (1761, 0.2008364396343201), (1762, 0.1521015913117335), (1763, 0.13471871153608286), (1764, 0.11448865437036439), (1765, 0.09743611469977735), (1766, 0.14631773901897208), (1767, 0.08007166919215439), (1768, 0.11502198859202545), (1769, 0.0), (1770, 0.141171015267444), (1771, 0.08290453137663562), (1772, 0.0), (1773, 0.11365019063690592), (1774, 0.07195682554803377), (1775, 0.051011398908255685), (1776, 0.0), (1777, 0.09431441035893029), (1778, 0.14982965038413754), (1779, 0.08737862516564512), (1780, 0.14115219624260217), (1781, 0.14761285835624605), (1782, 0.11492155445694195), (1783, 0.14411558872321156), (1784, 0.17524773420173673), (1785, 0.07465602241002146), (1786, 0.13278274616293448), (1787, 0.1092857564305419), (1788, 0.1012971479338504), (1789, 0.09105478806102756), (1790, 0.13295749299903348), (1791, 0.11085852911530476), (1792, 0.11131060499026203), (1793, 0.10512309726536324), (1794, 0.11913740834556641), (1795, 0.14430935031840367), (1796, 0.10681786897966403), (1797, 0.11253975615744326), (1798, 0.15222451534901066), (1799, 0.1861369638006993), (1800, 0.1481732008080843), (1801, 0.0), (1802, 0.11350675730846758), (1803, 0.16008940396928467), (1804, 0.1400046882182621), (1805, 0.12809642819415415), (1806, 0.11237009706706486), (1807, 0.0969773664688728), (1808, 0.1523784871340398), (1809, 0.13727886963846594), (1810, 0.12051839757232445), (1811, 0.10844915393649854), (1812, 0.1397824690832131), (1813, 0.12248472448170905), (1814, 0.09836437949585224), (1815, 0.13019243633932814), (1816, 0.09131311281739515), (1817, 0.141064982597043), (1818, 0.12769872623947812), (1819, 0.12427982495000872), (1820, 0.09721800562416766), (1821, 0.1359757552596968), (1822, 0.15098669997092598), (1823, 0.10236771036147731), (1824, 0.08494229788458152), (1825, 0.19484844227753512), (1826, 0.19438241789945668), (1827, 0.16497937767050844), (1828, 0.13184846014986903), (1829, 0.11205507322959966), (1830, 0.10230832154373364), (1831, 0.2068745270252092), (1832, 0.116169317112704), (1833, 0.09238596758375228), (1834, 0.04180299644238581), (1835, 0.1737822467915633), (1836, 0.103861351760731), (1837, 0.11050667101352268), (1838, 0.149102331830882), (1839, 0.09216793784502021), (1840, 0.0), (1841, 0.1683433564414152), (1842, 0.1910893927360543), (1843, 0.07160500433310794), (1844, 0.1879929818516815), (1845, 0.11980942372437547), (1846, 0.14629381703816371), (1847, 0.17825917766365812), (1848, 0.10353555685191813), (1849, 0.11472553781236003), (1850, 0.13354377003275192), (1851, 0.19762310179962822), (1852, 0.17141291243999976), (1853, 0.11175703819024654), (1854, 0.12489185620567599), (1855, 0.122977777855327), (1856, 0.15418292568352093), (1857, 0.06069747463161465), (1858, 0.11648956940568893), (1859, 0.1534850789331023), (1860, 0.08370283723092974), (1861, 0.198654332218599), (1862, 0.06750090344189894), (1863, 0.0674115756197809), (1864, 0.10587367462406926), (1865, 0.18499909267228273), (1866, 0.15410124366756334), (1867, 0.18095468246280208), (1868, 0.10002846196220827), (1869, 0.17983104739942588), (1870, 0.19251331298530164), (1871, 0.1680401921408516), (1872, 0.0), (1873, 0.10883085713804702), (1874, 0.23370106266560914), (1875, 0.10745664681549405), (1876, 0.09206868886152213), (1877, 0.11424121657946684), (1878, 0.18720835879591485), (1879, 0.06580803501551538), (1880, 0.0), (1881, 0.11486332141869518), (1882, 0.09051674173504463), (1883, 0.1524367418522751), (1884, 0.09093466659538253), (1885, 0.16000840045725534), (1886, 0.0), (1887, 0.1437623617014616), (1888, 0.12163823407783543), (1889, 0.152769803578243), (1890, 0.11873856110897729), (1891, 0.09952406444563769), (1892, 0.10130322733489197), (1893, 0.19502179770755948), (1894, 0.11569917793497764), (1895, 0.0), (1896, 0.18629903752251856), (1897, 0.0), (1898, 0.08482018376837858), (1899, 0.0), (1900, 0.17672018853284838), (1901, 0.07142403632578524), (1902, 0.1596526958918668), (1903, 0.08297962645210168), (1904, 0.13823970543096012), (1905, 0.1743647373984889), (1906, 0.08624828609017025), (1907, 0.09962819873773177), (1908, 0.11512872740424687), (1909, 0.0829034913832403), (1910, 0.0693416622541439), (1911, 0.11039972753852258), (1912, 0.0), (1913, 0.06042604173216411), (1914, 0.12690842202514668), (1915, 0.1660475521252714), (1916, 0.11319874862169937), (1917, 0.12855012667083462), (1918, 0.09685450108202653), (1919, 0.0), (1920, 0.14720077488442773), (1921, 0.0943936404996677), (1922, 0.0), (1923, 0.11221424838408763), (1924, 0.15920634787426102), (1925, 0.1279403935991966), (1926, 0.07171842543121847), (1927, 0.11000516976192487), (1928, 0.1243736180048221), (1929, 0.10606847456655326), (1930, 0.0916684642907411), (1931, 0.12247630309634064), (1932, 0.0), (1933, 0.0), (1934, 0.0), (1935, 0.0), (1936, 0.17509324147173597), (1937, 0.0), (1938, 0.0), (1939, 0.11313113276050654), (1940, 0.149840004854788), (1941, 0.0), (1942, 0.09277940538190968), (1943, 0.08575021271063406), (1944, 0.1564116792836347), (1945, 0.11673479603032771), (1946, 0.08992955737021098), (1947, 0.06840056806127365), (1948, 0.17741273947679734), (1949, 0.08231855197715315), (1950, 0.0), (1951, 0.0), (1952, 0.11104836830239802), (1953, 0.13593935099996624), (1954, 0.0), (1955, 0.08740204223636612), (1956, 0.17223502280220598), (1957, 0.1685747810839866), (1958, 0.18871050111637777), (1959, 0.11564996624220585), (1960, 0.15577584797960764), (1961, 0.09195079163993874), (1962, 0.0), (1963, 0.0), (1964, 0.15129491118729582), (1965, 0.0), (1966, 0.08035382142918589), (1967, 0.16628861518964605), (1968, 0.1920223176146159), (1969, 0.15683543643627898), (1970, 0.15993895271728484), (1971, 0.1783125388626495), (1972, 0.12674667450952168), (1973, 0.1352700186848553), (1974, 0.08245137886731724), (1975, 0.1394104923579242), (1976, 0.10857366802447267), (1977, 0.14050648000421345), (1978, 0.10951386978945452), (1979, 0.0), (1980, 0.16057911774195907), (1981, 0.10903285051970721), (1982, 0.07739567353926999), (1983, 0.1455712640275642), (1984, 0.0), (1985, 0.0), (1986, 0.08438428383293427), (1987, 0.1585924247827063), (1988, 0.17297780303698265), (1989, 0.11636173467979288), (1990, 0.16231417283476335), (1991, 0.1890868029586334), (1992, 0.1350034798811943), (1993, 0.10882426365459388), (1994, 0.08193655447965537), (1995, 0.13120994643646153), (1996, 0.1250614358420366), (1997, 0.1502665536646649), (1998, 0.12528100036178694), (1999, 0.12905297915375907), (2000, 0.09222733504333999), (2001, 0.0), (2002, 0.11080607231609794), (2003, 0.13835636151694897), (2004, 0.10253006235787726), (2005, 0.0), (2006, 0.0), (2007, 0.08833908015646917), (2008, 0.17410695714112465), (2009, 0.09227630733047174), (2010, 0.0), (2011, 0.0), (2012, 0.1148671092992661), (2013, 0.16427339664938811), (2014, 0.1606651617646319), (2015, 0.16327418912042918), (2016, 0.11887615525236922), (2017, 0.15011214018690555), (2018, 0.16502277562126805), (2019, 0.11714499739300009), (2020, 0.09663978215605765), (2021, 0.12403918438086904), (2022, 0.18607516428853269), (2023, 0.10199981973264964), (2024, 0.17106462795524027), (2025, 0.09731969024560401), (2026, 0.12399972709702375), (2027, 0.1418520890025349), (2028, 0.06313161254131963), (2029, 0.167370120139149), (2030, 0.20923671484274797), (2031, 0.08115337937293698), (2032, 0.0), (2033, 0.1318544390892518), (2034, 0.05871615380123287), (2035, 0.080532010365911), (2036, 0.16991046003941965), (2037, 0.14465345250655912), (2038, 0.14072741189484858), (2039, 0.1254890656071804), (2040, 0.11914272390655516), (2041, 0.14839606666772032), (2042, 0.20483548468290444), (2043, 0.1273304294673039), (2044, 0.10987626403436926), (2045, 0.18224876640831505), (2046, 0.12974299432093156), (2047, 0.10953376574617539), (2048, 0.13760173586846758), (2049, 0.09650507743320633), (2050, 0.12676282331948122), (2051, 0.1257352453037006), (2052, 0.11364206422708215), (2053, 0.1316341257492872), (2054, 0.1225194873326714), (2055, 0.0), (2056, 0.1437648648104175), (2057, 0.12926519358289962), (2058, 0.11660134955331414), (2059, 0.0), (2060, 0.17648233480331027), (2061, 0.13966205217889374), (2062, 0.12715963439506242), (2063, 0.1725087644637446), (2064, 0.08684502089790605), (2065, 0.0), (2066, 0.10931669209775974), (2067, 0.17620840335204313), (2068, 0.20014472782681988), (2069, 0.1620980882069988), (2070, 0.08664374731645524), (2071, 0.18245835622887557), (2072, 0.16449749705296027), (2073, 0.12407022503727107), (2074, 0.09370547829432053), (2075, 0.15360230205994946), (2076, 0.21411425404984988), (2077, 0.0), (2078, 0.11266382666664482), (2079, 0.0), (2080, 0.11602381216227055), (2081, 0.07729181685177555), (2082, 0.0831086976177074), (2083, 0.13763967288575826), (2084, 0.12541761470914214), (2085, 0.16767183180733447), (2086, 0.12797911730953554), (2087, 0.1773815286884658), (2088, 0.10437919945179785), (2089, 0.0), (2090, 0.1082981702567386), (2091, 0.13914337954110115), (2092, 0.10719007862863322), (2093, 0.12299985072283659), (2094, 0.19166348669115052), (2095, 0.12388206957922474), (2096, 0.1312446579323603), (2097, 0.15419708554278075), (2098, 0.08144820773785452), (2099, 0.07337443850143219), (2100, 0.11679296752305174), (2101, 0.14473734445725667), (2102, 0.1707435726073928), (2103, 0.1354697469576134), (2104, 0.20703063980162545), (2105, 0.1090564176465387), (2106, 0.16678483001913874), (2107, 0.09244662561508821), (2108, 0.16949740953294345), (2109, 0.1849454740213789), (2110, 0.0766224493606128), (2111, 0.1325512173851176), (2112, 0.11137846932792231), (2113, 0.1164678684575154), (2114, 0.133477213696042), (2115, 0.1385398745933672), (2116, 0.17756369970576366), (2117, 0.16076774758935908), (2118, 0.12999992992536907), (2119, 0.0), (2120, 0.12136638513608304), (2121, 0.16669273250575747), (2122, 0.06777850042917448), (2123, 0.1622904618671621), (2124, 0.12213576394658214), (2125, 0.09828668489861611), (2126, 0.15546850015791278), (2127, 0.18481717801828831), (2128, 0.11617355302614138), (2129, 0.10024803660410272), (2130, 0.0), (2131, 0.11411241377013634), (2132, 0.12208608844284824), (2133, 0.14355823684281332), (2134, 0.13363685498102995), (2135, 0.133054496255125), (2136, 0.1806765320002769), (2137, 0.13322503162830873), (2138, 0.12572802538500458), (2139, 0.1311528975817205), (2140, 0.10151588323308633), (2141, 0.13254580366492005), (2142, 0.13400929348779264), (2143, 0.09626131508416949), (2144, 0.10372868829222354), (2145, 0.20272744010335567), (2146, 0.11694723865203482), (2147, 0.1184173819488954), (2148, 0.1343192714659966), (2149, 0.17952551714844556), (2150, 0.1024843258633172), (2151, 0.0), (2152, 0.19490108289758565), (2153, 0.11002470385986933), (2154, 0.10346772235883438), (2155, 0.1093537164139188), (2156, 0.22508638764570188), (2157, 0.18723440466947286), (2158, 0.12656784032354249), (2159, 0.1740147441009451), (2160, 0.10913239041981641), (2161, 0.0886538828744971), (2162, 0.10059155074916523), (2163, 0.21331484644934595), (2164, 0.15015015024211892), (2165, 0.09230887848780392), (2166, 0.16114300079349717), (2167, 0.15685888158415687), (2168, 0.10976194224675344), (2169, 0.21483779225233052), (2170, 0.1452350638740214), (2171, 0.1886666260946809), (2172, 0.10558172576566904), (2173, 0.18363408576148263), (2174, 0.06411730494400408), (2175, 0.13503725683641885), (2176, 0.09424450615719973), (2177, 0.18820879041543406), (2178, 0.15192722531604416), (2179, 0.15295144316202455), (2180, 0.15967202860079985), (2181, 0.20660452109970315), (2182, 0.07858091714094695), (2183, 0.18382187488550927), (2184, 0.12544045769639253), (2185, 0.12629412873804888), (2186, 0.13299594803018758), (2187, 0.14715385135330464), (2188, 0.08006901472759967), (2189, 0.15131487621250558), (2190, 0.15896209326966051), (2191, 0.13698508047898095), (2192, 0.0), (2193, 0.12820225624151507), (2194, 0.09513471522671685), (2195, 0.1102631402923184), (2196, 0.15994876334360175), (2197, 0.16236830629468857), (2198, 0.13479190488302156), (2199, 0.1299514608102062), (2200, 0.2006793611307297), (2201, 0.0), (2202, 0.0746010960448087), (2203, 0.0), (2204, 0.1435587951525447), (2205, 0.09454698133184221), (2206, 0.13384536229689456), (2207, 0.12238270867079755), (2208, 0.14768506561623815), (2209, 0.19871901554293683), (2210, 0.11820137810282519), (2211, 0.0), (2212, 0.1061195154861853), (2213, 0.09406477759152332), (2214, 0.15617192044989842), (2215, 0.13656265255414157), (2216, 0.11253521485704088), (2217, 0.0), (2218, 0.16645302500913634), (2219, 0.11681875865647273), (2220, 0.12132042435100152), (2221, 0.13282372123754352), (2222, 0.0), (2223, 0.07144789624725484), (2224, 0.18464658406729134), (2225, 0.1639188742434547), (2226, 0.0635170131826248), (2227, 0.09748225259313661), (2228, 0.11081695335458536), (2229, 0.10336981605461582), (2230, 0.09648223853629818), (2231, 0.07758990522604328), (2232, 0.13525449846285856), (2233, 0.14949551360272134), (2234, 0.10884961073265147), (2235, 0.1925516228884421), (2236, 0.08860879518251928), (2237, 0.17444560612156204), (2238, 0.2049846694428335), (2239, 0.13797948508323366), (2240, 0.18514533017166301), (2241, 0.0), (2242, 0.036880901966912), (2243, 0.125384142480644), (2244, 0.11297456642464884), (2245, 0.13034142300775628), (2246, 0.0), (2247, 0.16858239457688215), (2248, 0.0), (2249, 0.16469243435162542), (2250, 0.17851268574164642), (2251, 0.09519358014083239), (2252, 0.05540595922114334), (2253, 0.1287936209562416), (2254, 0.0787255589924958), (2255, 0.10770140401507383), (2256, 0.0), (2257, 0.0), (2258, 0.13098413047444848), (2259, 0.0), (2260, 0.14317019102310394), (2261, 0.0), (2262, 0.17192909230573655), (2263, 0.11714209957785507), (2264, 0.16113309266175918), (2265, 0.0), (2266, 0.0), (2267, 0.09942324268499572), (2268, 0.0), (2269, 0.12430439728176924), (2270, 0.11395361429357853), (2271, 0.0), (2272, 0.0), (2273, 0.024038301451489486), (2274, 0.15265970363778594), (2275, 0.12031333991240734), (2276, 0.10749214184498569), (2277, 0.0), (2278, 0.16574177557426611), (2279, 0.10578379821544942), (2280, 0.154018801042103), (2281, 0.17310244657026883), (2282, 0.15064070536733043), (2283, 0.17036922821201905), (2284, 0.1653045052028299), (2285, 0.2508800155570852), (2286, 0.11170248750105245), (2287, 0.0), (2288, 0.10377451621917158), (2289, 0.16753074650677238), (2290, 0.147055774311696), (2291, 0.12897885401852482), (2292, 0.07910820470240841), (2293, 0.1433055905498245), (2294, 0.17999037051421124), (2295, 0.0), (2296, 0.1852027755766717), (2297, 0.08442795011807022), (2298, 0.20130764569884785), (2299, 0.15645726413005775), (2300, 0.09151778429364762), (2301, 0.12659139064707037), (2302, 0.08213069344057311), (2303, 0.11616363600369947), (2304, 0.09796803628475127), (2305, 0.06858183473062086), (2306, 0.17772878650349105), (2307, 0.10921358923380071), (2308, 0.11177170783310889), (2309, 0.0), (2310, 0.11716492937885237), (2311, 0.13424826506367252), (2312, 0.12702098337222845), (2313, 0.11389818069802321), (2314, 0.18348890894582462), (2315, 0.15959032938143627), (2316, 0.07737501537212568), (2317, 0.07998647854173208), (2318, 0.16499122234834127), (2319, 0.12541613646955924), (2320, 0.12517063122326566), (2321, 0.19209269452488545), (2322, 0.0793558370520526), (2323, 0.1236282274587878), (2324, 0.16342758518652079), (2325, 0.15795897004125184), (2326, 0.10617662884553944), (2327, 0.11788032473988068), (2328, 0.1436280438220919), (2329, 0.15978617508323892), (2330, 0.2271956551305615), (2331, 0.16347950046617843), (2332, 0.08972280843673693), (2333, 0.1303654350162825), (2334, 0.1258954702615741), (2335, 0.0990761474714395), (2336, 0.1325752928462966), (2337, 0.1655966056132186), (2338, 0.08813271994461744), (2339, 0.11815500722503032), (2340, 0.10108151420910709), (2341, 0.0), (2342, 0.10038532878908137), (2343, 0.12137329508875637), (2344, 0.0), (2345, 0.11257529125732324), (2346, 0.14688957467405506), (2347, 0.0), (2348, 0.1745515661205085), (2349, 0.15402235746068996), (2350, 0.12977537785553353), (2351, 0.1525219113342885), (2352, 0.09032876629302175), (2353, 0.13123845335022225), (2354, 0.10912625156240167), (2355, 0.18026243232665676), (2356, 0.0889980317877135), (2357, 0.10000081586379475), (2358, 0.1519133926086119), (2359, 0.10716056151923009), (2360, 0.04733349020086175), (2361, 0.10768982896697206), (2362, 0.0), (2363, 0.16210652008615953), (2364, 0.10070194872441152), (2365, 0.11667406571171006), (2366, 0.1746544016879501), (2367, 0.07164965488659318), (2368, 0.20329827440083958), (2369, 0.0), (2370, 0.06371514865326404), (2371, 0.12219748510854225), (2372, 0.09792984941438611), (2373, 0.0), (2374, 0.09878115665225094), (2375, 0.16617581940385143), (2376, 0.1327156534227497), (2377, 0.1385469220555725), (2378, 0.0), (2379, 0.0), (2380, 0.19638765019403676), (2381, 0.12839121853400332), (2382, 0.047204625209753034), (2383, 0.11883264492705135), (2384, 0.1263035295377827), (2385, 0.0), (2386, 0.1135033990001974), (2387, 0.11547598947428993), (2388, 0.1559894807061906), (2389, 0.18359096765862776), (2390, 0.14700715270283699), (2391, 0.07106055821253766), (2392, 0.10632611628678164), (2393, 0.0), (2394, 0.10874792629951192), (2395, 0.15353234039797942), (2396, 0.1163360270940881), (2397, 0.1447833327627482), (2398, 0.1514032991880061), (2399, 0.13043802013353575), (2400, 0.11725672317454257), (2401, 0.0), (2402, 0.1338368994030386), (2403, 0.16071444011136476), (2404, 0.18078320250740137), (2405, 0.17071559570292352), (2406, 0.1701349481972434), (2407, 0.13977841572672764), (2408, 0.11141323449044103), (2409, 0.2072977527851082), (2410, 0.10379926251198414), (2411, 0.09473012887374369), (2412, 0.1993639314697363), (2413, 0.1155420970390758), (2414, 0.10024536433523568), (2415, 0.09725806962580025), (2416, 0.1780156200514518), (2417, 0.11692732788706298), (2418, 0.10793156808423032), (2419, 0.11978716398973445), (2420, 0.1025846994936153), (2421, 0.03477992830858638), (2422, 0.2026009492525703), (2423, 0.15124255741378245), (2424, 0.13252438514347334), (2425, 0.14011021521215544), (2426, 0.0), (2427, 0.04184316285357652), (2428, 0.2577127447569911), (2429, 0.093393156229091), (2430, 0.09700525201160781), (2431, 0.12411929781576224), (2432, 0.11979490913475857), (2433, 0.14677222079882085), (2434, 0.0), (2435, 0.15025749795071477), (2436, 0.0), (2437, 0.05078356733115366), (2438, 0.16529355210511582), (2439, 0.15407644396367257), (2440, 0.07801810107693809), (2441, 0.122467357805135), (2442, 0.23877710064587912), (2443, 0.09888419276661845), (2444, 0.0), (2445, 0.10771053596114204), (2446, 0.1508307882602869), (2447, 0.14026953700919867), (2448, 0.13754828794878246), (2449, 0.15749957167784012), (2450, 0.19718048420880452), (2451, 0.1219154829331205), (2452, 0.0760284913192462), (2453, 0.11671117505787672), (2454, 0.18788415414954998), (2455, 0.17704386565832814), (2456, 0.09101344510849721), (2457, 0.18677092730691125), (2458, 0.14784387813075356), (2459, 0.14327384992379538), (2460, 0.14963857812373627), (2461, 0.19003130444386043), (2462, 0.17716439645137885), (2463, 0.088710826548456), (2464, 0.09426199452664137), (2465, 0.18088367864880373), (2466, 0.09310123856443736), (2467, 0.1908851173698794), (2468, 0.15389293905421875), (2469, 0.14575475933258777), (2470, 0.10478108011780837), (2471, 0.14327263845616073), (2472, 0.0), (2473, 0.10940213134327666), (2474, 0.1243353996358366), (2475, 0.17328152328797322), (2476, 0.0), (2477, 0.1743243600003762), (2478, 0.1179089666815986), (2479, 0.0), (2480, 0.12947291791443896), (2481, 0.1429380965150178), (2482, 0.1049767650547086), (2483, 0.1325497839883823), (2484, 0.15603805384063438), (2485, 0.093646218967279), (2486, 0.08785250458757579), (2487, 0.08745934808693324), (2488, 0.0936042702626031), (2489, 0.11090681222346319), (2490, 0.14572866962662703), (2491, 0.1824529611387193), (2492, 0.06778256026676346), (2493, 0.0), (2494, 0.0), (2495, 0.10970163450148217), (2496, 0.1161102147897926), (2497, 0.0), (2498, 0.08278222964405312), (2499, 0.0), (2500, 0.18375712318528548), (2501, 0.17580878512443907), (2502, 0.0), (2503, 0.0), (2504, 0.0), (2505, 0.0), (2506, 0.07168204788717532), (2507, 0.07165694816921728), (2508, 0.1271637372737983), (2509, 0.161688960565664), (2510, 0.20112013781188595), (2511, 0.13251559809970453), (2512, 0.1534808854657701), (2513, 0.13502725323990644), (2514, 0.16345006611603236), (2515, 0.17289611415594772), (2516, 0.19362188629575802), (2517, 0.13537826650920928), (2518, 0.105276871651051), (2519, 0.0), (2520, 0.1662289487448521), (2521, 0.0), (2522, 0.12613487452087147), (2523, 0.0), (2524, 0.14305242634920567), (2525, 0.14803705157441163), (2526, 0.11174990282630673), (2527, 0.13538834298121372), (2528, 0.09124987455727558), (2529, 0.14127083465178905), (2530, 0.15429595778965033), (2531, 0.06195394553948627), (2532, 0.15682191040100515), (2533, 0.13993383255569794), (2534, 0.12140828234633956), (2535, 0.11096231508657742), (2536, 0.13112803530442482), (2537, 0.17721690419759228), (2538, 0.08451759110966456), (2539, 0.0785254614997936), (2540, 0.21592117842691178), (2541, 0.16502084421595947), (2542, 0.1303038627825691), (2543, 0.17102354323187538), (2544, 0.14171052475208834), (2545, 0.13088241271375534), (2546, 0.1355888937298603), (2547, 0.1312846532323249), (2548, 0.0), (2549, 0.15942430960384457), (2550, 0.0), (2551, 0.18743877986254262), (2552, 0.0), (2553, 0.2002855098358076), (2554, 0.1559190731274332), (2555, 0.08017014583935689), (2556, 0.1537726514613694), (2557, 0.06466143176989421), (2558, 0.16838372292615278), (2559, 0.14012425529087194), (2560, 0.1595965598884904), (2561, 0.19761314613759776), (2562, 0.061710522749291), (2563, 0.10669401089999904), (2564, 0.12890204673361183), (2565, 0.11010445608508453), (2566, 0.10840681869440426), (2567, 0.1559266878519118), (2568, 0.2233624528852132), (2569, 0.17406848658331953), (2570, 0.1395058078930651), (2571, 0.14132673718528238), (2572, 0.09262391550030082), (2573, 0.1365504361382348), (2574, 0.0), (2575, 0.11918555722862166), (2576, 0.10493514359893669), (2577, 0.11480548151782216), (2578, 0.14043373863478448), (2579, 0.1417124264091559), (2580, 0.17440732691244548), (2581, 0.16982608279068143), (2582, 0.11141279129343164), (2583, 0.10312609623805177), (2584, 0.127825378686806), (2585, 0.16624127215325152), (2586, 0.12375778857476392), (2587, 0.1544242885552052), (2588, 0.0), (2589, 0.08329083376553564), (2590, 0.0), (2591, 0.04224645140290289), (2592, 0.10990801304328332), (2593, 0.0), (2594, 0.2014240390375223), (2595, 0.10871907826752056), (2596, 0.09531347696511464), (2597, 0.10980943158771599), (2598, 0.0971729897835828), (2599, 0.0), (2600, 0.17740788032532703), (2601, 0.0), (2602, 0.11441903531195424), (2603, 0.1162814768238054), (2604, 0.0), (2605, 0.13831631638410893), (2606, 0.1566079076611567), (2607, 0.14964717343899916), (2608, 0.09612415542914503), (2609, 0.17349612568339862), (2610, 0.196924820366558), (2611, 0.13694608448600346), (2612, 0.09717667649339014), (2613, 0.1805543570715283), (2614, 0.10642851034766203), (2615, 0.14772715823986526), (2616, 0.10105493586289356), (2617, 0.0), (2618, 0.13571500187774793), (2619, 0.14706858883714558), (2620, 0.0932471297493449), (2621, 0.16397332311364593), (2622, 0.09466746913772678), (2623, 0.09268019852492088), (2624, 0.09801158584468671), (2625, 0.17782275904933798), (2626, 0.1512672791572635), (2627, 0.16297424646642714), (2628, 0.22276667415733217), (2629, 0.0), (2630, 0.13560985263660943), (2631, 0.0), (2632, 0.1544976294897447), (2633, 0.1070236449580101), (2634, 0.0), (2635, 0.14158102264387631), (2636, 0.12729237092591011), (2637, 0.0), (2638, 0.18394704271178342), (2639, 0.12974692462352577), (2640, 0.19898770269451882), (2641, 0.0), (2642, 0.1520898553875846), (2643, 0.0), (2644, 0.07205857997771972), (2645, 0.10876855752285874), (2646, 0.054138315249288665), (2647, 0.1242893296493441), (2648, 0.08593414603685756), (2649, 0.07579775990728796), (2650, 0.0), (2651, 0.1384360566501411), (2652, 0.0), (2653, 0.08220901109067298), (2654, 0.12382306313450946), (2655, 0.0), (2656, 0.0), (2657, 0.11451454905325172), (2658, 0.0), (2659, 0.15432043276398094), (2660, 0.14985252253520043), (2661, 0.12994317747817358), (2662, 0.0), (2663, 0.06350430079906305), (2664, 0.1214208374377667), (2665, 0.05869196388582436), (2666, 0.13296594353145075), (2667, 0.17038605361593065), (2668, 0.14601119817335775), (2669, 0.12287484263764026), (2670, 0.0), (2671, 0.13967386906853682), (2672, 0.14199699028242876), (2673, 0.12696376359730321), (2674, 0.09266969444283056), (2675, 0.19063058591715226), (2676, 0.1090903656662519), (2677, 0.13215446406398224), (2678, 0.17815331866971032), (2679, 0.06330090167204906), (2680, 0.1573020886592716), (2681, 0.16921487751836092), (2682, 0.11479207874081289), (2683, 0.15979367461878896), (2684, 0.11099630169700744), (2685, 0.1334156108813055), (2686, 0.1415860895073392), (2687, 0.0), (2688, 0.10389122618760568), (2689, 0.1002282297543236), (2690, 0.0), (2691, 0.0), (2692, 0.08783595517685618), (2693, 0.0), (2694, 0.0), (2695, 0.0749529194475219), (2696, 0.14985796812113586), (2697, 0.09668519103867089), (2698, 0.09324508723901795), (2699, 0.09213062558590258), (2700, 0.11600817835494609), (2701, 0.0), (2702, 0.10613142957369433), (2703, 0.10858567460503664), (2704, 0.1071078026781343), (2705, 0.0), (2706, 0.09904938505343641), (2707, 0.0832067326113073), (2708, 0.0), (2709, 0.0), (2710, 0.0), (2711, 0.152361764862129), (2712, 0.0), (2713, 0.0), (2714, 0.0), (2715, 0.06547063129154199), (2716, 0.1569315222934545), (2717, 0.18721609879263493), (2718, 0.12903430573936772), (2719, 0.11804298792260765), (2720, 0.11894220708217523), (2721, 0.07350325551299525), (2722, 0.1479522720104637), (2723, 0.0), (2724, 0.16714784563621124), (2725, 0.15500321066462788), (2726, 0.09769446833719844), (2727, 0.1527081416274607), (2728, 0.0), (2729, 0.1230353201693476), (2730, 0.15336823787167428), (2731, 0.1482999638797588), (2732, 0.14290682493344045), (2733, 0.13673545889802025), (2734, 0.1179997688150351), (2735, 0.17507032909761366), (2736, 0.1375133887381725), (2737, 0.11934876022131112), (2738, 0.12988520489586108), (2739, 0.16061176415790535), (2740, 0.12777774986041815), (2741, 0.11716536546599265), (2742, 0.15972513892844178), (2743, 0.0974198865435591), (2744, 0.07288757403179283), (2745, 0.13634330934324462), (2746, 0.09814860425273955), (2747, 0.14576263239825654), (2748, 0.1744101712878809), (2749, 0.10858252784787481), (2750, 0.13836062428157297), (2751, 0.1948609116090365), (2752, 0.166519289534805), (2753, 0.18713378454230914), (2754, 0.0), (2755, 0.10389414040820487), (2756, 0.185319512399026), (2757, 0.12091961406438385), (2758, 0.0), (2759, 0.13185174670483157), (2760, 0.17532344703789168), (2761, 0.06326661912862536), (2762, 0.16919657537094862), (2763, 0.1027220496388981), (2764, 0.0), (2765, 0.09308852678638052), (2766, 0.10986656422663749), (2767, 0.0), (2768, 0.07604728285259653), (2769, 0.14579172944248942), (2770, 0.0), (2771, 0.07966779671615021), (2772, 0.0), (2773, 0.15408323188557785), (2774, 0.16150864938060128), (2775, 0.0), (2776, 0.17775111582763672), (2777, 0.06896743752138002), (2778, 0.08873314339805283), (2779, 0.08679448870051087), (2780, 0.07590729561710348), (2781, 0.17031348051019793), (2782, 0.12490888146348392), (2783, 0.1465727705959265), (2784, 0.12363863417801564), (2785, 0.07329483833799019), (2786, 0.10100049555174263), (2787, 0.0), (2788, 0.11762275262139726), (2789, 0.05912582511826449), (2790, 0.1895746045156174), (2791, 0.09802830023608528), (2792, 0.1511594712931477), (2793, 0.0761514658788944), (2794, 0.13352986686368015), (2795, 0.16716533415938656), (2796, 0.15605892569732477), (2797, 0.14782668821924683), (2798, 0.0906119749289358), (2799, 0.20441647144348854), (2800, 0.12229837480992237), (2801, 0.17836392284658084), (2802, 0.14671045991519766), (2803, 0.1321270754506953), (2804, 0.09838053036763952), (2805, 0.1349133342385984), (2806, 0.0), (2807, 0.12910720177443044), (2808, 0.17421269759626276), (2809, 0.14414259207273145), (2810, 0.19324020008272155), (2811, 0.12466690787091893), (2812, 0.1328200799456351), (2813, 0.15110773981270229), (2814, 0.1336377247799471), (2815, 0.1509588442130713), (2816, 0.0869402360401805), (2817, 0.11426261900709613), (2818, 0.12463873290813882), (2819, 0.14925798271250298), (2820, 0.15659297857929574), (2821, 0.14800273404426986), (2822, 0.14098293304956533), (2823, 0.0926558228607885), (2824, 0.18612055426789736), (2825, 0.0), (2826, 0.16285769811002265), (2827, 0.256340077792333), (2828, 0.18250730334224968), (2829, 0.12318124452594222), (2830, 0.1514681690676273), (2831, 0.12410784207416722), (2832, 0.12633132459668134), (2833, 0.08438096054980287), (2834, 0.1538601356951018), (2835, 0.0), (2836, 0.12217505718740979), (2837, 0.07727375281525957), (2838, 0.1522803761757814), (2839, 0.10928165106850506), (2840, 0.0), (2841, 0.0), (2842, 0.18235972895902625), (2843, 0.16308479374849827), (2844, 0.15427978942253323), (2845, 0.10165295697082069), (2846, 1.0000000000000002), (2847, 0.1345961321955875), (2848, 0.0), (2849, 0.13645013407197581), (2850, 0.16359719245963122), (2851, 0.1281147655053853), (2852, 0.14012563597726224), (2853, 0.1861654800991489), (2854, 0.0), (2855, 0.0), (2856, 0.15148312979030754), (2857, 0.0), (2858, 0.17556929563228948), (2859, 0.10057047929581701), (2860, 0.17765647398716028), (2861, 0.0), (2862, 0.12641483881853716), (2863, 0.0), (2864, 0.08874909594650691), (2865, 0.1623784953917684), (2866, 0.0), (2867, 0.0), (2868, 0.10915686978056956), (2869, 0.0), (2870, 0.10949382579233954), (2871, 0.13594791862379127), (2872, 0.11598894971619561), (2873, 0.10512988802296105), (2874, 0.13785652367002005), (2875, 0.0), (2876, 0.0), (2877, 0.1140360148793492), (2878, 0.06866678870095727), (2879, 0.18858742723763985), (2880, 0.19022345517774933), (2881, 0.0), (2882, 0.0), (2883, 0.0961854387210939), (2884, 0.2075390907979959), (2885, 0.0), (2886, 0.1667139392183184), (2887, 0.2572864399020773), (2888, 0.1322796472781427), (2889, 0.07897818254392919), (2890, 0.0), (2891, 0.09156505789374784), (2892, 0.0), (2893, 0.14231093988140314), (2894, 0.0776729248438931), (2895, 0.0), (2896, 0.0), (2897, 0.17029475268847524), (2898, 0.0), (2899, 0.09717367794586194), (2900, 0.0), (2901, 0.10690998043374644), (2902, 0.17688132709735402), (2903, 0.0), (2904, 0.0944643375989787), (2905, 0.12474411350002598), (2906, 0.0946031117519434), (2907, 0.17584075083777975), (2908, 0.0), (2909, 0.08457804802852027), (2910, 0.0), (2911, 0.1847909760323007), (2912, 0.15228689848388735), (2913, 0.09767457924638265), (2914, 0.16124273183338675), (2915, 0.11603871821817552), (2916, 0.0), (2917, 0.11125056275259264), (2918, 0.1321096697645131), (2919, 0.1191025016124237), (2920, 0.16716073314051502), (2921, 0.12153727013172284), (2922, 0.14771961476283682), (2923, 0.2273731216025397), (2924, 0.07577989804307202), (2925, 0.16868972054448386), (2926, 0.0), (2927, 0.1824603097762666), (2928, 0.060210630758325764), (2929, 0.11811190390624035), (2930, 0.10799785084285748), (2931, 0.0764401049802127), (2932, 0.06960379861919824), (2933, 0.0), (2934, 0.09867326219181538), (2935, 0.1906313854724089), (2936, 0.12329290859023563), (2937, 0.15340817925894512), (2938, 0.08069083537310846), (2939, 0.11184299827918824), (2940, 0.10551861242422746), (2941, 0.2001455089226134), (2942, 0.07667321431038052), (2943, 0.14984164658761), (2944, 0.19505842866846576), (2945, 0.1383419932323474), (2946, 0.14199927591914419), (2947, 0.11435426370581747), (2948, 0.16724858618854407), (2949, 0.1542614231368679), (2950, 0.12556264720170107), (2951, 0.0), (2952, 0.12936898214460266), (2953, 0.16204514613038892), (2954, 0.0), (2955, 0.0), (2956, 0.0), (2957, 0.16790522887418247), (2958, 0.11945908069948247), (2959, 0.08169619588961442), (2960, 0.19002353296016386), (2961, 0.16802546576803942), (2962, 0.09304869532505554), (2963, 0.08157522123435876), (2964, 0.09175165568192913), (2965, 0.14593534527760169), (2966, 0.1611327274132347), (2967, 0.1800165132414838), (2968, 0.2090709222106426), (2969, 0.0), (2970, 0.0), (2971, 0.11959205549287247), (2972, 0.0), (2973, 0.07746254218594104), (2974, 0.0), (2975, 0.13958737823353154), (2976, 0.04777831703409604), (2977, 0.1129439508648622), (2978, 0.14180180186874816), (2979, 0.11396630988470242), (2980, 0.1044655610208215), (2981, 0.18203429652556052), (2982, 0.1445317039159531), (2983, 0.1524248527605826), (2984, 0.0), (2985, 0.06537051807080388), (2986, 0.12466027628611069), (2987, 0.10296852224258052), (2988, 0.12905929798815083), (2989, 0.09729649805069106), (2990, 0.08332670515189874), (2991, 0.16085842926100924), (2992, 0.10248574514129206), (2993, 0.11428165156629289), (2994, 0.10846151053563112), (2995, 0.13392441985673106), (2996, 0.1164665436661611), (2997, 0.1818580022517925), (2998, 0.10358546577390342), (2999, 0.09356025099041877), (3000, 0.12909586361222522), (3001, 0.10307026266650868), (3002, 0.12543523271824852), (3003, 0.1292118090220189), (3004, 0.1463472364170864), (3005, 0.1355415595978519), (3006, 0.1120359049869215), (3007, 0.09457058766825968), (3008, 0.11598636035982333), (3009, 0.12949470769610574), (3010, 0.11575167261252389), (3011, 0.22252460569180182), (3012, 0.11437235185285322), (3013, 0.1493363315611208), (3014, 0.17702021405310883), (3015, 0.09130198746694629), (3016, 0.07874898776107733), (3017, 0.09906313701157758), (3018, 0.16339823956793553), (3019, 0.11488974897225104), (3020, 0.066145521497434), (3021, 0.0784641104687863), (3022, 0.0), (3023, 0.15230984669112263), (3024, 0.13236229641710034), (3025, 0.0), (3026, 0.10448468170794344), (3027, 0.1488524368285821), (3028, 0.0), (3029, 0.0), (3030, 0.12124484767115276), (3031, 0.09449543824997869), (3032, 0.07963058799612378), (3033, 0.12019345895669513), (3034, 0.0), (3035, 0.17322318062864536), (3036, 0.08033632866237125), (3037, 0.0), (3038, 0.07218451178068201), (3039, 0.0), (3040, 0.1246753413062028), (3041, 0.11490297783107777), (3042, 0.1008191491596555), (3043, 0.0), (3044, 0.09827891967705663), (3045, 0.1331213092132794), (3046, 0.141376112621561), (3047, 0.09041565538082268), (3048, 0.18077753533289048), (3049, 0.15333792635451096), (3050, 0.16256045520925902), (3051, 0.09303353190574597), (3052, 0.1389955231872018), (3053, 0.09590821267711533), (3054, 0.09605750000069234), (3055, 0.15573191914915765), (3056, 0.15554118896022381), (3057, 0.18096728822243435), (3058, 0.10273189047840253), (3059, 0.08454259079444187), (3060, 0.0), (3061, 0.0), (3062, 0.11065991329767519), (3063, 0.1267552863701135), (3064, 0.16382078535407532), (3065, 0.15960801754668175), (3066, 0.058722469951373577), (3067, 0.0), (3068, 0.1315243372778101), (3069, 0.08321847923903511), (3070, 0.1094296679017547), (3071, 0.0), (3072, 0.07333496250677154), (3073, 0.14885365823448646), (3074, 0.16390550139627041), (3075, 0.12930781848701595), (3076, 0.09200234709687796), (3077, 0.05939906835872653), (3078, 0.08054791076369133), (3079, 0.07980342450816509), (3080, 0.0), (3081, 0.10306732338066982), (3082, 0.15522167972824125), (3083, 0.14164694734489142), (3084, 0.10228132512153874), (3085, 0.10855680452601617), (3086, 0.11654496354277612), (3087, 0.0), (3088, 0.18285825225100957), (3089, 0.0), (3090, 0.14855751803093065), (3091, 0.14911871964389387), (3092, 0.0877700819127804), (3093, 0.13945634570979543), (3094, 0.11168616339849048), (3095, 0.145556640882643), (3096, 0.0), (3097, 0.11317937334303092), (3098, 0.10271244799962956), (3099, 0.10568717933105354), (3100, 0.10374486937091514), (3101, 0.0), (3102, 0.0), (3103, 0.0), (3104, 0.11598862169678227), (3105, 0.08350425021831741), (3106, 0.15356290752964138), (3107, 0.13116976446486), (3108, 0.11389327048437572), (3109, 0.1323013811711185), (3110, 0.0), (3111, 0.12586897071946498), (3112, 0.07180836089510169), (3113, 0.0), (3114, 0.08853571162348868), (3115, 0.0), (3116, 0.08448177905746697), (3117, 0.0), (3118, 0.0), (3119, 0.11169929814328029), (3120, 0.15825498218228892), (3121, 0.0), (3122, 0.13294172948159955), (3123, 0.11310138328572447), (3124, 0.10826265686558692), (3125, 0.0), (3126, 0.14808888547673518), (3127, 0.07731930582654968), (3128, 0.0), (3129, 0.0), (3130, 0.0), (3131, 0.0), (3132, 0.14526058250603852), (3133, 0.11735411417541876), (3134, 0.0), (3135, 0.0), (3136, 0.11730814783945501), (3137, 0.12214709273175628), (3138, 0.11797421638612259), (3139, 0.17325653349716874), (3140, 0.0), (3141, 0.11063390815877969), (3142, 0.09821445379841653), (3143, 0.19539041844275126), (3144, 0.07206838754894727), (3145, 0.0), (3146, 0.10256066948049522), (3147, 0.09582854761963139), (3148, 0.18373802628161304), (3149, 0.17104032634920766), (3150, 0.12450689350545686), (3151, 0.1453470811987984), (3152, 0.10676412810430928), (3153, 0.12686999744868546), (3154, 0.0), (3155, 0.09428141600857225), (3156, 0.1596437795410778), (3157, 0.0), (3158, 0.17133303009608256), (3159, 0.1588427811560654), (3160, 0.21598037856468424), (3161, 0.15595968308401134), (3162, 0.14034747700540018), (3163, 0.13049189751288479), (3164, 0.0), (3165, 0.10553639750605756), (3166, 0.0), (3167, 0.18707174011115663), (3168, 0.12407078271623156), (3169, 0.18536273185919178), (3170, 0.18319117067417845), (3171, 0.16305461603781962), (3172, 0.0723470993568199), (3173, 0.08405716464503274), (3174, 0.1760844327152591), (3175, 0.11628741419267245), (3176, 0.07648282497169075), (3177, 0.1728431500617389), (3178, 0.0), (3179, 0.09584531569279689), (3180, 0.0), (3181, 0.13326762554775262), (3182, 0.07788255237737113), (3183, 0.0), (3184, 0.14411723649567496), (3185, 0.0), (3186, 0.10405843090185357), (3187, 0.11942704567313636), (3188, 0.13277400550111748), (3189, 0.1944670957569798), (3190, 0.0), (3191, 0.0), (3192, 0.15338665652776207), (3193, 0.0), (3194, 0.0), (3195, 0.11475567684232148), (3196, 0.0), (3197, 0.0), (3198, 0.1387918335472923), (3199, 0.07498636012095407), (3200, 0.0), (3201, 0.13996952000324708), (3202, 0.14511269126077975), (3203, 0.051403882461533344), (3204, 0.1717301198112559), (3205, 0.06583306145831873), (3206, 0.0), (3207, 0.06436834877596861), (3208, 0.0), (3209, 0.11931264931731009), (3210, 0.15257671070181816), (3211, 0.16536743498274345), (3212, 0.10614856053003284), (3213, 0.06163401474358531), (3214, 0.12018413604689981), (3215, 0.0), (3216, 0.1858838591277636), (3217, 0.12233031605816144), (3218, 0.1914115071620702), (3219, 0.12073669301484134), (3220, 0.0), (3221, 0.0), (3222, 0.11500753267394455), (3223, 0.05649876051514887), (3224, 0.1381396132912077), (3225, 0.07907869398656389), (3226, 0.0), (3227, 0.16508083807704135), (3228, 0.0), (3229, 0.09469588268122536), (3230, 0.0940105380265721), (3231, 0.11030214450747935), (3232, 0.1519735049729563), (3233, 0.13587579203534053), (3234, 0.13491815111178726), (3235, 0.10745050131532295), (3236, 0.18488458077130773), (3237, 0.2945715088714556), (3238, 0.1727735843363661), (3239, 0.18805744815502365), (3240, 0.11262612294152297), (3241, 0.07133499464950117), (3242, 0.1270039102820582), (3243, 0.050434973426495486), (3244, 0.1142020985109426), (3245, 0.15791339332352325), (3246, 0.18758718177317732), (3247, 0.13771199404984424), (3248, 0.0), (3249, 0.0801954167067443), (3250, 0.12440815943523864), (3251, 0.17953977673788796), (3252, 0.19765187427986589), (3253, 0.13228439764654637), (3254, 0.07858979217062047), (3255, 0.15799343774032992), (3256, 0.13271732420210838), (3257, 0.1437592619721506), (3258, 0.18716738228799684), (3259, 0.1278687154206613), (3260, 0.13015797503796533), (3261, 0.0), (3262, 0.0), (3263, 0.09811865560691527), (3264, 0.10648683669386304), (3265, 0.08971411262650367), (3266, 0.11817995790680985), (3267, 0.07135041832375826), (3268, 0.0), (3269, 0.14390784173429996), (3270, 0.0), (3271, 0.0), (3272, 0.0), (3273, 0.17185263145090207), (3274, 0.0698097003408285), (3275, 0.1181126392395861), (3276, 0.19531090806550644), (3277, 0.1407381762577105), (3278, 0.1559011936657411), (3279, 0.10992495225666342), (3280, 0.0648411100428604), (3281, 0.1281928219536764), (3282, 0.10541014356139881), (3283, 0.14445067123732483), (3284, 0.08855266079701432), (3285, 0.0), (3286, 0.0864802744048384), (3287, 0.103555122791677), (3288, 0.1580592133356178), (3289, 0.0), (3290, 0.1610930253460942), (3291, 0.1269052090675112), (3292, 0.0), (3293, 0.14124665408101852), (3294, 0.13289221233356605), (3295, 0.0), (3296, 0.1425597908956946), (3297, 0.161433974542961), (3298, 0.0), (3299, 0.07180866829915676), (3300, 0.0), (3301, 0.11575498479026897), (3302, 0.0882964333091818), (3303, 0.20451236863597216), (3304, 0.0), (3305, 0.14639008559184047), (3306, 0.06095133694780098), (3307, 0.1688278503743489), (3308, 0.08595118761329691), (3309, 0.13169351119801673), (3310, 0.0), (3311, 0.17458062428063081), (3312, 0.12252900441994719), (3313, 0.21800030600186268), (3314, 0.0), (3315, 0.15707875828286164), (3316, 0.0), (3317, 0.0), (3318, 0.10844559463987033), (3319, 0.09196711573522416), (3320, 0.11426900656664139), (3321, 0.09847073677783737), (3322, 0.08506920594687177), (3323, 0.16829493937132112), (3324, 0.0), (3325, 0.08205958769959892), (3326, 0.0513686290399109), (3327, 0.0), (3328, 0.0), (3329, 0.10911182876168653), (3330, 0.1552700548888442), (3331, 0.06230729108725352), (3332, 0.1075109471218612), (3333, 0.0), (3334, 0.20689360090926423), (3335, 0.04600305393513221), (3336, 0.18511912959275867), (3337, 0.14759139843390756), (3338, 0.12973364983923485), (3339, 0.1853744341119763), (3340, 0.0), (3341, 0.10750055761216226), (3342, 0.14233218274726203), (3343, 0.18656609265053967), (3344, 0.09579871568443926), (3345, 0.19504513098004467), (3346, 0.10209337484889403), (3347, 0.11440517394246306), (3348, 0.14818404574465557), (3349, 0.18821020943679312), (3350, 0.16590844014422995), (3351, 0.17201999601557985), (3352, 0.18500790218565774), (3353, 0.13435685692002036), (3354, 0.042555248393836814), (3355, 0.046147627697541306), (3356, 0.10244399448144374), (3357, 0.20846217111229676), (3358, 0.14835301006611865), (3359, 0.0), (3360, 0.12023351382389001), (3361, 0.10302909906842758), (3362, 0.115991380951174), (3363, 0.09372913701263857), (3364, 0.10126817894524964), (3365, 0.11870796944702738), (3366, 0.0), (3367, 0.0), (3368, 0.19722535126983887), (3369, 0.1396149227334083), (3370, 0.18501113693343096), (3371, 0.0), (3372, 0.17710477857855675), (3373, 0.09166046700019093), (3374, 0.14196176840450708), (3375, 0.11863417176445583), (3376, 0.14152605015352585), (3377, 0.0), (3378, 0.12961732506314697), (3379, 0.1600269495190823), (3380, 0.0), (3381, 0.10672988754367568), (3382, 0.0), (3383, 0.17622182090012045), (3384, 0.0), (3385, 0.0), (3386, 0.11137807634586004), (3387, 0.0), (3388, 0.0), (3389, 0.1076913285520978), (3390, 0.11478913963071985), (3391, 0.11570873029275056), (3392, 0.0), (3393, 0.0), (3394, 0.1004055410385887), (3395, 0.06839689428611415), (3396, 0.0), (3397, 0.0), (3398, 0.111924139275288), (3399, 0.12115489273412096), (3400, 0.0), (3401, 0.14709817552983417), (3402, 0.08233476342333579), (3403, 0.0), (3404, 0.1382593413341624), (3405, 0.09331041615846446), (3406, 0.14351304891683436), (3407, 0.0), (3408, 0.0), (3409, 0.13280398507233476), (3410, 0.0), (3411, 0.1269857659927963), (3412, 0.05345251155708991), (3413, 0.1162762515755462), (3414, 0.16036558214077315), (3415, 0.0941789957344494), (3416, 0.1371463757018292), (3417, 0.12665914488442312), (3418, 0.09433638081898185), (3419, 0.14466414774025854), (3420, 0.11553159667641989), (3421, 0.11638134608635549), (3422, 0.0), (3423, 0.21732644059506617), (3424, 0.13956982266390158), (3425, 0.13840100921884857), (3426, 0.0), (3427, 0.12655538502840935), (3428, 0.10259768591354), (3429, 0.16593630217765618), (3430, 0.0), (3431, 0.0), (3432, 0.0), (3433, 0.09755491967556305), (3434, 0.13315456793241398), (3435, 0.0), (3436, 0.08625432631349061), (3437, 0.0), (3438, 0.0), (3439, 0.13681372710152964), (3440, 0.16717833689692135), (3441, 0.10667324194457709), (3442, 0.17615778843282157), (3443, 0.1480619852868018), (3444, 0.176358907746177), (3445, 0.16513830772749147), (3446, 0.11243437665519221), (3447, 0.10158734968384721), (3448, 0.17703338769059035), (3449, 0.11591162120240996), (3450, 0.19758582258104812), (3451, 0.07697980596951495), (3452, 0.0), (3453, 0.08755107268069502), (3454, 0.12812048965719683), (3455, 0.16503117115146157), (3456, 0.14017428609957466), (3457, 0.1455745329749534), (3458, 0.09069813099743274), (3459, 0.11749010460970302), (3460, 0.152345369498293), (3461, 0.0), (3462, 0.12220202968300835), (3463, 0.11973510278931383), (3464, 0.09187334113402773), (3465, 0.19635183441122475), (3466, 0.17480228512235155), (3467, 0.15182065294750516), (3468, 0.11467838607902803), (3469, 0.16708292264993233), (3470, 0.1443571005286303), (3471, 0.0), (3472, 0.11775394856954359), (3473, 0.167192490834154), (3474, 0.08518643720784426), (3475, 0.12811272123920403), (3476, 0.15381094920791602), (3477, 0.11066718380515554), (3478, 0.0), (3479, 0.14882097290414048), (3480, 0.1338968004009976), (3481, 0.11891035631538636), (3482, 0.09339561538891424), (3483, 0.10848762120358464), (3484, 0.1442101159184), (3485, 0.053398657030566656), (3486, 0.10475200559653768), (3487, 0.0), (3488, 0.0), (3489, 0.0), (3490, 0.12610852702201888), (3491, 0.0), (3492, 0.1353947892573652), (3493, 0.0), (3494, 0.0), (3495, 0.14882355754469728), (3496, 0.0), (3497, 0.0), (3498, 0.0), (3499, 0.17576337215650434), (3500, 0.0), (3501, 0.08127406219127126), (3502, 0.0), (3503, 0.05856166394499988), (3504, 0.17524707099071277), (3505, 0.1029462256778721), (3506, 0.09163125277084282), (3507, 0.17458198662599098), (3508, 0.07536006111703242), (3509, 0.05416706312768401), (3510, 0.0), (3511, 0.13318469760943877), (3512, 0.17981222326692944), (3513, 0.07080128775329886), (3514, 0.08403544230642274), (3515, 0.0765516429587754), (3516, 0.12740155988379231), (3517, 0.080051383400973), (3518, 0.12582243598595874), (3519, 0.0), (3520, 0.15382665275689217), (3521, 0.08990377385810094), (3522, 0.0), (3523, 0.0), (3524, 0.12049116497664636), (3525, 0.17774725075743522), (3526, 0.16448907494628182), (3527, 0.15373882469168826), (3528, 0.09267836810377054), (3529, 0.12050632763348842), (3530, 0.1471087125210686), (3531, 0.07987256186612686), (3532, 0.14813786385933053), (3533, 0.0), (3534, 0.16338783135453122), (3535, 0.0), (3536, 0.19720593959342603), (3537, 0.13696716685404875), (3538, 0.16492808117853536), (3539, 0.11820248317128523), (3540, 0.0), (3541, 0.20086362399563826), (3542, 0.10146405080317301), (3543, 0.10827446995645287), (3544, 0.0), (3545, 0.11990536042371945), (3546, 0.11437524751781013), (3547, 0.0), (3548, 0.1001373882023884), (3549, 0.12037825337650998), (3550, 0.08934106926129451), (3551, 0.15178492451188544), (3552, 0.1342635330154262), (3553, 0.08036204041023504), (3554, 0.15039490466467523), (3555, 0.05066536456706579), (3556, 0.1346174880286365), (3557, 0.10949239409383212), (3558, 0.0), (3559, 0.11632245104796501), (3560, 0.13601224352454516), (3561, 0.11626888681423168), (3562, 0.09210472657590744), (3563, 0.1521804435172243), (3564, 0.07853857239631402), (3565, 0.0), (3566, 0.16223468108160224), (3567, 0.2011716075440587), (3568, 0.15344429742563356), (3569, 0.09162536585612674), (3570, 0.10669028027614993), (3571, 0.1110569742842443), (3572, 0.11419217430488399), (3573, 0.12897146012366195), (3574, 0.11263219111731668), (3575, 0.06811013427700328), (3576, 0.12970440849997092), (3577, 0.2373245204991752), (3578, 0.0), (3579, 0.18461075749203762), (3580, 0.2081342682800733), (3581, 0.1448211493792958), (3582, 0.11249200663970575), (3583, 0.08262630865717548), (3584, 0.10740596631137718), (3585, 0.07663840348191334), (3586, 0.17418998464425614), (3587, 0.15972317411333045), (3588, 0.13759517965991777), (3589, 0.0), (3590, 0.058445713041825234), (3591, 0.06156447792237596), (3592, 0.140603001471623), (3593, 0.201835243414275), (3594, 0.21741962071941084), (3595, 0.14039425549856885), (3596, 0.13386495011864302), (3597, 0.14215586935965233), (3598, 0.11364169166386365), (3599, 0.11980263768114302), (3600, 0.1668998744578708), (3601, 0.13888995050652084), (3602, 0.11638393779179544), (3603, 0.16215375509537774), (3604, 0.12466286797700896), (3605, 0.15797600590431002), (3606, 0.15637335577456618), (3607, 0.12881784526460163), (3608, 0.07088763972805413), (3609, 0.12508233196117735), (3610, 0.0), (3611, 0.14013376867957505), (3612, 0.10970750116636416), (3613, 0.0), (3614, 0.0), (3615, 0.1604485203098954), (3616, 0.1196198625002869), (3617, 0.1568629862682084), (3618, 0.0), (3619, 0.1103969976831205), (3620, 0.09321763740649995), (3621, 0.17849688937422944), (3622, 0.16608970627730155), (3623, 0.08577052114241597), (3624, 0.12757503399933534), (3625, 0.08410660900034762), (3626, 0.08716559720043943), (3627, 0.1254488384886312), (3628, 0.13033939143619463), (3629, 0.10722526246110162), (3630, 0.10733067502481672), (3631, 0.22059228438615625), (3632, 0.07285354268586279), (3633, 0.15286188873133894), (3634, 0.09400083967425577), (3635, 0.13256282543392822), (3636, 0.0925967376806729), (3637, 0.10570511387933056), (3638, 0.15308352538796377), (3639, 0.18340263763903533), (3640, 0.18732000608670377), (3641, 0.19009229821099607), (3642, 0.08544242518321161), (3643, 0.14299066340188096), (3644, 0.12213945873941806), (3645, 0.0732986625444377), (3646, 0.0), (3647, 0.09839097088568857), (3648, 0.10185284865406116), (3649, 0.11208343425426538), (3650, 0.10566319025796347), (3651, 0.15843795972518393), (3652, 0.10547102035389348), (3653, 0.16126577979048826), (3654, 0.0), (3655, 0.0), (3656, 0.0), (3657, 0.10123971091267764), (3658, 0.11140018429312509), (3659, 0.0), (3660, 0.06701499121099287), (3661, 0.059667311063034835), (3662, 0.1155244858748304), (3663, 0.0), (3664, 0.13583343306061235), (3665, 0.0), (3666, 0.0), (3667, 0.0), (3668, 0.1705794740879308), (3669, 0.053158911915296404), (3670, 0.0), (3671, 0.18304234685628093), (3672, 0.0), (3673, 0.0), (3674, 0.0), (3675, 0.1153105226323374), (3676, 0.1679073578443332), (3677, 0.17183269123666978), (3678, 0.06909837705780181), (3679, 0.0), (3680, 0.12542853211772043), (3681, 0.0), (3682, 0.07464098408561126), (3683, 0.11259729003924085), (3684, 0.1277332927819935), (3685, 0.12410666849229425), (3686, 0.0), (3687, 0.0), (3688, 0.0), (3689, 0.0), (3690, 0.11438529935621393), (3691, 0.139163476250542), (3692, 0.1409212186398477), (3693, 0.09244928147322527), (3694, 0.08780899445846277), (3695, 0.14757122515912882), (3696, 0.21210278387887663), (3697, 0.21172546628262934), (3698, 0.1386009398406426), (3699, 0.16511562768295765), (3700, 0.1683704525678946), (3701, 0.0), (3702, 0.0), (3703, 0.12674473671594894), (3704, 0.1218340237648474), (3705, 0.1343850510910714), (3706, 0.19222758557115932), (3707, 0.0), (3708, 0.0), (3709, 0.17584337981125978), (3710, 0.0), (3711, 0.10552437166283535), (3712, 0.0), (3713, 0.10063577657735923), (3714, 0.0), (3715, 0.1075330722748774), (3716, 0.0), (3717, 0.19303979966070656), (3718, 0.0), (3719, 0.12057029181557252), (3720, 0.0), (3721, 0.0), (3722, 0.09369424177558183), (3723, 0.0), (3724, 0.0), (3725, 0.10811512132587439), (3726, 0.15936184180148255), (3727, 0.0), (3728, 0.0), (3729, 0.0), (3730, 0.0), (3731, 0.18455690831949306), (3732, 0.0), (3733, 0.12541143106322614), (3734, 0.133569778179466), (3735, 0.1980177530300044), (3736, 0.06136267994486333), (3737, 0.1301305701153185), (3738, 0.16201563129262617), (3739, 0.17608493920543547), (3740, 0.0), (3741, 0.14113537333977086), (3742, 0.06868288427810218), (3743, 0.17766225334393426), (3744, 0.0), (3745, 0.0), (3746, 0.22080747101110793), (3747, 0.07068988477077831), (3748, 0.16258207689703835), (3749, 0.13180875465446762), (3750, 0.18903766671954478), (3751, 0.12547727856131763), (3752, 0.09921376894485562), (3753, 0.13123002552943389), (3754, 0.18774682871705312), (3755, 0.13633926610927244), (3756, 0.0877037829133031), (3757, 0.06532525995521284), (3758, 0.0931707947857429), (3759, 0.08473456690831324), (3760, 0.0), (3761, 0.13488014018959654), (3762, 0.09630699284845445), (3763, 0.12228034898751597), (3764, 0.12552552339127568), (3765, 0.11976658547616807), (3766, 0.1515248547838359), (3767, 0.17501510316113353), (3768, 0.0), (3769, 0.10674257260298325), (3770, 0.15214905081643154), (3771, 0.0), (3772, 0.1397423253389868), (3773, 0.0), (3774, 0.14437167207808074), (3775, 0.11423772940141219), (3776, 0.0), (3777, 0.06550332993105051), (3778, 0.18317672666852142), (3779, 0.10357359504929929), (3780, 0.11167846555207016), (3781, 0.0), (3782, 0.12781081461802546), (3783, 0.0), (3784, 0.19734382512905005), (3785, 0.10218094593582447), (3786, 0.15045571903226004), (3787, 0.052715056861682874), (3788, 0.0), (3789, 0.1592164845204723), (3790, 0.07762162078051639), (3791, 0.09529786295255496), (3792, 0.0), (3793, 0.0896320647301756), (3794, 0.10332897464337301), (3795, 0.11881555741223207), (3796, 0.04784375557280229), (3797, 0.12745684806702778), (3798, 0.07482804388641873), (3799, 0.15717685678201765), (3800, 0.0), (3801, 0.0), (3802, 0.14663623410781929), (3803, 0.06887252247948568), (3804, 0.07716460403046918), (3805, 0.0971681395001252), (3806, 0.08528949919423107), (3807, 0.1360518150054887), (3808, 0.051882633502069016), (3809, 0.0), (3810, 0.0), (3811, 0.10682684963304948), (3812, 0.15785469885833478), (3813, 0.1762308272759409), (3814, 0.07933190897238707), (3815, 0.0), (3816, 0.0), (3817, 0.08666471184017653), (3818, 0.0), (3819, 0.11209007108757359), (3820, 0.10388773846861078), (3821, 0.13273817654148584), (3822, 0.14075800868650712), (3823, 0.05541528938797509), (3824, 0.10536856380660929), (3825, 0.15571761196736375), (3826, 0.1147975937080947), (3827, 0.10763762508106704), (3828, 0.1387958877051358), (3829, 0.13655068125581277), (3830, 0.0), (3831, 0.0), (3832, 0.15281135649580466), (3833, 0.09618863736695435), (3834, 0.1266970765783782), (3835, 0.08194770318807093), (3836, 0.0651003167450897), (3837, 0.1371526945944137), (3838, 0.0), (3839, 0.0), (3840, 0.06144126538947956), (3841, 0.16630823709751621), (3842, 0.10249936061519316), (3843, 0.16438266712326666), (3844, 0.09875755834543543), (3845, 0.1642031279883121), (3846, 0.08427561157076506), (3847, 0.09114641042787351), (3848, 0.20705233711276502), (3849, 0.0), (3850, 0.1618600066876422), (3851, 0.11692576098929519), (3852, 0.0), (3853, 0.0933261061631115), (3854, 0.12270948546962424), (3855, 0.06946350024359021), (3856, 0.0), (3857, 0.07343148954192956), (3858, 0.07853222286332352), (3859, 0.10596065727422181), (3860, 0.124567985999627), (3861, 0.12797574450696464), (3862, 0.11983557207374465), (3863, 0.0), (3864, 0.09609681716303982), (3865, 0.13931144605355097), (3866, 0.16334269923384376), (3867, 0.1272512872048688), (3868, 0.09325424733002048), (3869, 0.18826353538513804), (3870, 0.15306859882234344), (3871, 0.1541055190111479), (3872, 0.12987870077087663), (3873, 0.18346091030263284), (3874, 0.08263153766714196), (3875, 0.0), (3876, 0.14509163288702215), (3877, 0.13399013180482813), (3878, 0.13322321044716073), (3879, 0.09016865618076739), (3880, 0.18039074570000618), (3881, 0.19034815442112793), (3882, 0.0), (3883, 0.14607892628719277), (3884, 0.13331253719154512), (3885, 0.14054691091696211), (3886, 0.13990495679431922), (3887, 0.19391581794534957), (3888, 0.06780557220065798), (3889, 0.09019635431347049), (3890, 0.14043785413396956), (3891, 0.1262179999497072), (3892, 0.0), (3893, 0.18014258398878652), (3894, 0.0), (3895, 0.1211522415286084), (3896, 0.17322722821269024), (3897, 0.0), (3898, 0.17153747611102863), (3899, 0.11478397464421933), (3900, 0.08785521402291958), (3901, 0.17104558953430768), (3902, 0.11033614769255315), (3903, 0.12524123398351175), (3904, 0.0), (3905, 0.12017629183470996), (3906, 0.15921207530657724), (3907, 0.17040079237423728), (3908, 0.07804704879634812), (3909, 0.0), (3910, 0.22201592692952832), (3911, 0.058429842615142905), (3912, 0.0), (3913, 0.04680844324486279), (3914, 0.11224179974520684), (3915, 0.09598769502676063), (3916, 0.09724326912299529), (3917, 0.0), (3918, 0.1559125019436901), (3919, 0.10943979616327329), (3920, 0.12055964922130674), (3921, 0.0), (3922, 0.0), (3923, 0.0), (3924, 0.1584416884970078), (3925, 0.143094250314792), (3926, 0.0), (3927, 0.0), (3928, 0.12363144490104701), (3929, 0.0), (3930, 0.11373350100659804), (3931, 0.14611777307763513), (3932, 0.11969858675524925), (3933, 0.2342342665043593), (3934, 0.15894679779811427), (3935, 0.0), (3936, 0.21002746713689566), (3937, 0.1789296365282692), (3938, 0.0), (3939, 0.13008867868835958), (3940, 0.16081622501897277), (3941, 0.0), (3942, 0.17315898805199217), (3943, 0.0), (3944, 0.11984511194564688), (3945, 0.0), (3946, 0.2505997148023016), (3947, 0.19419083302738296), (3948, 0.06369807986839489), (3949, 0.2224305977088838), (3950, 0.0), (3951, 0.0), (3952, 0.0), (3953, 0.0), (3954, 0.1169304793493163), (3955, 0.17875917709900196), (3956, 0.09804104894563903), (3957, 0.09321402711398313), (3958, 0.15232069996162442), (3959, 0.05626948207565357), (3960, 0.0), (3961, 0.0), (3962, 0.0), (3963, 0.04861723826083219), (3964, 0.131715244801097), (3965, 0.0), (3966, 0.13319700851869978), (3967, 0.08968861871365888), (3968, 0.0), (3969, 0.0), (3970, 0.08083255633620297), (3971, 0.0), (3972, 0.08597385553217698), (3973, 0.15066677526061242), (3974, 0.13463567872217683), (3975, 0.11027183832888517), (3976, 0.052035962984011634), (3977, 0.0), (3978, 0.12096897684854861), (3979, 0.18984989645560943), (3980, 0.12945408011667692), (3981, 0.15542989255355105), (3982, 0.07252388442886765), (3983, 0.12510500413149905), (3984, 0.15277046274851705), (3985, 0.1351008886849625), (3986, 0.1849114312749802), (3987, 0.1314265473269864), (3988, 0.12352057392618641), (3989, 0.11327822344144683), (3990, 0.0), (3991, 0.11988549853757421), (3992, 0.0), (3993, 0.0), (3994, 0.13685432072405126), (3995, 0.0), (3996, 0.058167701847694674), (3997, 0.18245494420137787), (3998, 0.10299445783434248), (3999, 0.0), (4000, 0.0), (4001, 0.0751221839156019), (4002, 0.0), (4003, 0.16607659382673567), (4004, 0.0), (4005, 0.0), (4006, 0.15390530617896345), (4007, 0.07393860784347443), (4008, 0.1024111491863672), (4009, 0.05216739948779393), (4010, 0.13611346644856312), (4011, 0.12839489453158057), (4012, 0.14215310783335688), (4013, 0.06977946429774183), (4014, 0.0955355596178198), (4015, 0.17015123093889242), (4016, 0.0), (4017, 0.16020580020222897), (4018, 0.0), (4019, 0.0), (4020, 0.15426315474698377), (4021, 0.0), (4022, 0.10061496619024562), (4023, 0.0), (4024, 0.17339467196680497), (4025, 0.16954664867596586), (4026, 0.0), (4027, 0.06512675244622829), (4028, 0.08276006965785927), (4029, 0.03953095847848903), (4030, 0.0), (4031, 0.07462583207173978), (4032, 0.13407354784567535), (4033, 0.18132480206973445), (4034, 0.0), (4035, 0.0561535357211524), (4036, 0.0), (4037, 0.054324367459045446), (4038, 0.0), (4039, 0.17954231154779646), (4040, 0.054649685711717605), (4041, 0.17167251383105758), (4042, 0.08762878566658748), (4043, 0.13128799865721202), (4044, 0.0), (4045, 0.08644792969201771), (4046, 0.13907857684295546), (4047, 0.0), (4048, 0.05487402157161038), (4049, 0.1683550736827143), (4050, 0.10292291153395958), (4051, 0.09754035373041213), (4052, 0.1274143564500235), (4053, 0.11925273639271973), (4054, 0.0), (4055, 0.0), (4056, 0.0), (4057, 0.0), (4058, 0.11775296941476511), (4059, 0.0), (4060, 0.15555496040542968), (4061, 0.11002516354489886), (4062, 0.13417187829025445), (4063, 0.11935616453490935), (4064, 0.0), (4065, 0.0), (4066, 0.15229547923092313), (4067, 0.0), (4068, 0.0), (4069, 0.08312183570020143), (4070, 0.08051907601460719), (4071, 0.16483747140375168), (4072, 0.0), (4073, 0.17514342031838284), (4074, 0.1339782280492984), (4075, 0.0), (4076, 0.0), (4077, 0.20590801315872265), (4078, 0.12496654864718983), (4079, 0.19185849505123137), (4080, 0.16877414255082338), (4081, 0.1703555050816464), (4082, 0.07183237010713388), (4083, 0.14019016330249423), (4084, 0.08562056193833438), (4085, 0.0), (4086, 0.0), (4087, 0.15775692434279806), (4088, 0.17027812561595218), (4089, 0.12701312614471477), (4090, 0.17914916213372065), (4091, 0.0), (4092, 0.1403197638818996), (4093, 0.0), (4094, 0.0906835104403579), (4095, 0.0), (4096, 0.13715015769429095), (4097, 0.08686990237237334), (4098, 0.1686021995571198), (4099, 0.09709695355938305), (4100, 0.12668374570891844), (4101, 0.08941447064783133), (4102, 0.09006180140396404), (4103, 0.16495026756418243), (4104, 0.0), (4105, 0.04228955109780654), (4106, 0.09891390348726348), (4107, 0.1689088694181071), (4108, 0.0), (4109, 0.15311741543706361), (4110, 0.07760233095191685), (4111, 0.0), (4112, 0.0), (4113, 0.0), (4114, 0.10815770334197651), (4115, 0.0), (4116, 0.06068230054732946), (4117, 0.07126208886843105), (4118, 0.0), (4119, 0.0), (4120, 0.0), (4121, 0.0), (4122, 0.036857366752545535), (4123, 0.0), (4124, 0.0), (4125, 0.10138693820664045), (4126, 0.1769834309107004), (4127, 0.10659830806355934), (4128, 0.11173696078365496), (4129, 0.12303161453551678), (4130, 0.09099822022208427), (4131, 0.08988225183127223), (4132, 0.14016442225415396), (4133, 0.10426734904644115), (4134, 0.16833229448374354), (4135, 0.11134307471694484), (4136, 0.0), (4137, 0.11217161196565421), (4138, 0.07845985618190059), (4139, 0.14077693453274023), (4140, 0.0), (4141, 0.0), (4142, 0.029139795796842703), (4143, 0.0), (4144, 0.15082326291274073), (4145, 0.0), (4146, 0.06222854804816), (4147, 0.0), (4148, 0.0), (4149, 0.06668364286060867), (4150, 0.08318976165637715), (4151, 0.11346847804416763), (4152, 0.0), (4153, 0.11571581452765167), (4154, 0.0), (4155, 0.08540934041135442), (4156, 0.0), (4157, 0.15003087365080642), (4158, 0.08776340158993313), (4159, 0.14638008843636888), (4160, 0.0), (4161, 0.0), (4162, 0.15641893412862576), (4163, 0.1359342034259638), (4164, 0.09624060002546203), (4165, 0.0), (4166, 0.1412334716596673), (4167, 0.12186545188637951), (4168, 0.0), (4169, 0.0), (4170, 0.12970434632066838), (4171, 0.18984730872651429), (4172, 0.1440044302498695), (4173, 0.13025490510535137), (4174, 0.18770988481306608), (4175, 0.2029088829815666), (4176, 0.08937446242692283), (4177, 0.10107128970060997), (4178, 0.0), (4179, 0.1005129815323494), (4180, 0.0993839480342679), (4181, 0.08619799274535397), (4182, 0.12291384262401166), (4183, 0.12527785819981427), (4184, 0.0), (4185, 0.0), (4186, 0.0), (4187, 0.0), (4188, 0.08099545113221109), (4189, 0.13878527036644095), (4190, 0.15557748321436696), (4191, 0.11992220078213414), (4192, 0.09340797604974552), (4193, 0.1273984211518349), (4194, 0.11796327297070072), (4195, 0.1309660211341286), (4196, 0.16872850980730267), (4197, 0.20537275960785997), (4198, 0.0), (4199, 0.0), (4200, 0.15469423593736614), (4201, 0.1289126545546405), (4202, 0.08897751574361794), (4203, 0.07280157603366542), (4204, 0.1026057707875783), (4205, 0.0), (4206, 0.0), (4207, 0.0), (4208, 0.0), (4209, 0.0802958304458034), (4210, 0.0), (4211, 0.13457744883625775), (4212, 0.0), (4213, 0.1685514740213407), (4214, 0.10778530942321389), (4215, 0.08170751593982739), (4216, 0.1254943870342561), (4217, 0.0), (4218, 0.12443270845486869), (4219, 0.10473001714553663), (4220, 0.0), (4221, 0.0958911243810002), (4222, 0.09002384892772944), (4223, 0.15209620837496277), (4224, 0.1212345226377414), (4225, 0.20514358725822676), (4226, 0.14226724433979276), (4227, 0.0), (4228, 0.16924092187945655), (4229, 0.24521205242082791), (4230, 0.0), (4231, 0.0), (4232, 0.09438887046446404), (4233, 0.07216640608381579), (4234, 0.14941960150000036), (4235, 0.0), (4236, 0.0), (4237, 0.12916228619184159), (4238, 0.15004230400771876), (4239, 0.08132785234857622), (4240, 0.10011295929084488), (4241, 0.08492516003217766), (4242, 0.0), (4243, 0.0), (4244, 0.0), (4245, 0.12079063658700948), (4246, 0.1430510300190201), (4247, 0.10507498288877515), (4248, 0.08042966327023958), (4249, 0.15626412857884744), (4250, 0.0), (4251, 0.16035634454900993), (4252, 0.0), (4253, 0.0), (4254, 0.0), (4255, 0.09687104123245606), (4256, 0.0), (4257, 0.12559462563916288), (4258, 0.0), (4259, 0.16423778231156871), (4260, 0.12327165592334707), (4261, 0.05143721454759154), (4262, 0.0), (4263, 0.10154684744450318), (4264, 0.19270760205859), (4265, 0.0), (4266, 0.06892739503399765), (4267, 0.18410890260800894), (4268, 0.18217126640902281), (4269, 0.0), (4270, 0.0), (4271, 0.0), (4272, 0.0), (4273, 0.0), (4274, 0.06872015591482787), (4275, 0.0), (4276, 0.10125926054187191), (4277, 0.0), (4278, 0.0862075244955703), (4279, 0.0), (4280, 0.0), (4281, 0.19061955994990148), (4282, 0.10010397893111203), (4283, 0.12894637448296564), (4284, 0.1711757321428266), (4285, 0.06621693186756887), (4286, 0.11729859889849506), (4287, 0.1413845143477329), (4288, 0.0654677584944963), (4289, 0.0), (4290, 0.0), (4291, 0.11525507011539902), (4292, 0.0), (4293, 0.0), (4294, 0.0), (4295, 0.14241622607850274), (4296, 0.0), (4297, 0.1840771551601857), (4298, 0.12585092102422102), (4299, 0.038456368616482786), (4300, 0.1575493159422634), (4301, 0.0), (4302, 0.12467390080328997), (4303, 0.0), (4304, 0.06637666774999496), (4305, 0.0665015873846991), (4306, 0.07324290504565582), (4307, 0.0), (4308, 0.0), (4309, 0.0), (4310, 0.135605079930758), (4311, 0.04865315318774577), (4312, 0.16633705516320657), (4313, 0.05555764745588093), (4314, 0.0), (4315, 0.0724094755415553), (4316, 0.07025540919342926), (4317, 0.045489113013836416), (4318, 0.0), (4319, 0.10967854960708426), (4320, 0.12214531833536425), (4321, 0.12424564524279279), (4322, 0.0), (4323, 0.0), (4324, 0.0), (4325, 0.10419508758861397), (4326, 0.11115645426580406), (4327, 0.11746447700020007), (4328, 0.0810287817005989), (4329, 0.15306526707215656), (4330, 0.0854413632384261), (4331, 0.13422349936755706), (4332, 0.15184435764409743), (4333, 0.1439096098191873), (4334, 0.0), (4335, 0.09111941558317807), (4336, 0.17134292878610818), (4337, 0.14150268917116873), (4338, 0.07958251640360457), (4339, 0.16610715745482135), (4340, 0.12201988923350791), (4341, 0.13508493062152732), (4342, 0.0), (4343, 0.08212631332396328), (4344, 0.12980371488228495), (4345, 0.15740613909513085), (4346, 0.19882968388591413), (4347, 0.13542048950630875), (4348, 0.11999686184450867), (4349, 0.11794783039244648), (4350, 0.13206138020880998), (4351, 0.08726383423316703), (4352, 0.13393139977031346), (4353, 0.14979211045246918), (4354, 0.0), (4355, 0.18045353853350313), (4356, 0.06891654515494157), (4357, 0.10582654991891553), (4358, 0.1647780256116115), (4359, 0.16890307354612644), (4360, 0.08935516745383748), (4361, 0.0), (4362, 0.0), (4363, 0.0), (4364, 0.13828688907396952), (4365, 0.14682009770962434), (4366, 0.05588049733766428), (4367, 0.0), (4368, 0.1078409333377179), (4369, 0.05544070661194618), (4370, 0.0), (4371, 0.1374558913044578), (4372, 0.1606001160577684), (4373, 0.12253211436825431), (4374, 0.06002319333295302), (4375, 0.10128374561130223), (4376, 0.0), (4377, 0.0), (4378, 0.18993414838417788), (4379, 0.0), (4380, 0.1494634343778085), (4381, 0.06727659057898547), (4382, 0.05784074458907892), (4383, 0.06652133732364851), (4384, 0.0), (4385, 0.0), (4386, 0.0777851678286913), (4387, 0.0), (4388, 0.10884493848975577), (4389, 0.0), (4390, 0.10940703830474474), (4391, 0.12096431107031137), (4392, 0.11337340507517116), (4393, 0.09807088848144771), (4394, 0.08113864624546654), (4395, 0.0), (4396, 0.0), (4397, 0.13696692080049766), (4398, 0.06632036772403417), (4399, 0.0), (4400, 0.0), (4401, 0.0), (4402, 0.1310041134284764), (4403, 0.0), (4404, 0.07684362257971067), (4405, 0.0), (4406, 0.0), (4407, 0.14885899775567182), (4408, 0.0), (4409, 0.0), (4410, 0.0), (4411, 0.10273074666424113), (4412, 0.08820745560548637), (4413, 0.0), (4414, 0.06776333515253573), (4415, 0.09384649744036394), (4416, 0.0), (4417, 0.0), (4418, 0.0), (4419, 0.0), (4420, 0.1356913365540286), (4421, 0.056294941380160675), (4422, 0.0), (4423, 0.15027232735623153), (4424, 0.0), (4425, 0.0), (4426, 0.035311371026269744), (4427, 0.11111477429468837), (4428, 0.1408340803904913), (4429, 0.08616932439630345), (4430, 0.0), (4431, 0.0), (4432, 0.10729909833501974), (4433, 0.20279041692894756), (4434, 0.1465444094258934), (4435, 0.0), (4436, 0.2369245366286078), (4437, 0.1740365249196447), (4438, 0.0), (4439, 0.10179131908466005), (4440, 0.1708953120838995), (4441, 0.15094292197898412), (4442, 0.07563374873313845), (4443, 0.10694316546608917), (4444, 0.0), (4445, 0.0), (4446, 0.11093863954570972), (4447, 0.1166623148918162), (4448, 0.09496469517685707), (4449, 0.10424893096510672), (4450, 0.0845967669531669), (4451, 0.0), (4452, 0.12226745283044384), (4453, 0.14596418945467773), (4454, 0.15006244164223906), (4455, 0.06880863171555), (4456, 0.0), (4457, 0.0), (4458, 0.0), (4459, 0.0), (4460, 0.0), (4461, 0.0), (4462, 0.0), (4463, 0.0), (4464, 0.09595340735816597), (4465, 0.0), (4466, 0.0), (4467, 0.16480636514751015), (4468, 0.0), (4469, 0.0), (4470, 0.11724243566917852), (4471, 0.07096564518040305), (4472, 0.0), (4473, 0.1422151371133279), (4474, 0.08741746098179129), (4475, 0.07758387957494639), (4476, 0.11002306746533284), (4477, 0.17250749912322175), (4478, 0.06361526798953791), (4479, 0.1508998485500095), (4480, 0.11432749196308292), (4481, 0.0), (4482, 0.04758870286060022), (4483, 0.12131172691533905), (4484, 0.0), (4485, 0.09249360429328513), (4486, 0.07667086313594942), (4487, 0.0), (4488, 0.07679144016414642), (4489, 0.12248427667550055), (4490, 0.0), (4491, 0.0), (4492, 0.0), (4493, 0.04740723816799168), (4494, 0.1312373238600843), (4495, 0.12180521697778113), (4496, 0.1494820318520382), (4497, 0.11550526445546434), (4498, 0.10602621534398227), (4499, 0.0), (4500, 0.0), (4501, 0.05561107269296456), (4502, 0.0), (4503, 0.0), (4504, 0.0), (4505, 0.0), (4506, 0.05619536329555385), (4507, 0.13848577665581113), (4508, 0.0), (4509, 0.19093513653333274), (4510, 0.0), (4511, 0.14494268891062503), (4512, 0.0), (4513, 0.0), (4514, 0.14082685707068623), (4515, 0.051807727952255314), (4516, 0.12479236939860452), (4517, 0.0), (4518, 0.12156210383113786), (4519, 0.04952121212499525), (4520, 0.0), (4521, 0.0), (4522, 0.0927621004876546), (4523, 0.08057093573283057), (4524, 0.053817059003346525), (4525, 0.12219079743802579), (4526, 0.07322891750571246), (4527, 0.07390376620444064), (4528, 0.17109799839930454), (4529, 0.11308367964155418), (4530, 0.14293335905713317), (4531, 0.0), (4532, 0.0), (4533, 0.12058365046770607), (4534, 0.0), (4535, 0.12942416172259874), (4536, 0.0), (4537, 0.15910868092828598), (4538, 0.0), (4539, 0.14411178100596467), (4540, 0.0), (4541, 0.0), (4542, 0.15002364192608048), (4543, 0.06354506282441902), (4544, 0.0), (4545, 0.10904652914915765), (4546, 0.0), (4547, 0.0), (4548, 0.0), (4549, 0.0), (4550, 0.0), (4551, 0.15205695855919413), (4552, 0.0), (4553, 0.0), (4554, 0.0), (4555, 0.14574319498357532), (4556, 0.0), (4557, 0.09042718387442349), (4558, 0.08604835971422148), (4559, 0.06983218705393009), (4560, 0.0), (4561, 0.0), (4562, 0.0), (4563, 0.1574549942651953), (4564, 0.0), (4565, 0.0), (4566, 0.0), (4567, 0.1332520073578477), (4568, 0.0), (4569, 0.01973621722679195), (4570, 0.0), (4571, 0.0), (4572, 0.0811239944190653), (4573, 0.0), (4574, 0.04977875400016546), (4575, 0.2146859840934739), (4576, 0.12245267030820638), (4577, 0.09757608767661544), (4578, 0.0), (4579, 0.12847593368838203), (4580, 0.06721915404168927), (4581, 0.0), (4582, 0.0), (4583, 0.08501728311992163), (4584, 0.0), (4585, 0.17583350682690885), (4586, 0.1442095397285493), (4587, 0.0), (4588, 0.0), (4589, 0.07898170086930922), (4590, 0.0), (4591, 0.09532129542905142), (4592, 0.14700132731574317), (4593, 0.0), (4594, 0.10577496872991196), (4595, 0.15288404970390718), (4596, 0.13360363979376227), (4597, 0.0707593946012658), (4598, 0.0), (4599, 0.0), (4600, 0.07712692041096009), (4601, 0.0), (4602, 0.15294812017685228), (4603, 0.1890089951514023), (4604, 0.11673379945088627), (4605, 0.14810549502177428), (4606, 0.11629326482375535), (4607, 0.08049082078130497), (4608, 0.1085964581097109), (4609, 0.0636523521651526), (4610, 0.16865227407426328), (4611, 0.0), (4612, 0.0), (4613, 0.1498067452564879), (4614, 0.0), (4615, 0.0), (4616, 0.0), (4617, 0.0), (4618, 0.0), (4619, 0.0), (4620, 0.0), (4621, 0.0), (4622, 0.0), (4623, 0.09208082902242633), (4624, 0.0), (4625, 0.061313370621091476), (4626, 0.08156128899882967), (4627, 0.0), (4628, 0.07067012479367633), (4629, 0.07774378371014892), (4630, 0.06434856466496308), (4631, 0.15322751803002455), (4632, 0.0), (4633, 0.0), (4634, 0.03849202562691236), (4635, 0.0), (4636, 0.06808585125156394), (4637, 0.0), (4638, 0.0655165743934117), (4639, 0.16336092685728262), (4640, 0.0), (4641, 0.0), (4642, 0.0), (4643, 0.10982115457585385), (4644, 0.0), (4645, 0.0), (4646, 0.05621926313402676), (4647, 0.19360479617318194), (4648, 0.1768365255693757), (4649, 0.12515284778877986), (4650, 0.15588468766778563), (4651, 0.0), (4652, 0.0), (4653, 0.0), (4654, 0.11689922286383679), (4655, 0.059832692335113395), (4656, 0.06829282483785694), (4657, 0.0), (4658, 0.0), (4659, 0.10539824142146274), (4660, 0.0), (4661, 0.0), (4662, 0.0), (4663, 0.0), (4664, 0.08578367130901264), (4665, 0.049243031637452764), (4666, 0.1237034543393918), (4667, 0.048218370817652734), (4668, 0.07475920816625849), (4669, 0.14088277652158268), (4670, 0.17632602756217555), (4671, 0.1430335766509186), (4672, 0.09245381505605675), (4673, 0.07873242894734937), (4674, 0.0), (4675, 0.11004884130243624), (4676, 0.0), (4677, 0.10928570902209678), (4678, 0.070449810997383), (4679, 0.05632942037577347), (4680, 0.0), (4681, 0.0), (4682, 0.0), (4683, 0.0), (4684, 0.0), (4685, 0.0), (4686, 0.0), (4687, 0.14671915339651714), (4688, 0.18554991994352038), (4689, 0.0), (4690, 0.0), (4691, 0.0), (4692, 0.0), (4693, 0.0), (4694, 0.0), (4695, 0.08925377163047937), (4696, 0.12012487630086843), (4697, 0.09979760936405342), (4698, 0.0), (4699, 0.0), (4700, 0.0), (4701, 0.15076640932190097), (4702, 0.0), (4703, 0.1019295054933666), (4704, 0.1837406292678744), (4705, 0.0), (4706, 0.0), (4707, 0.15832191121283307), (4708, 0.0), (4709, 0.10361809825974251), (4710, 0.0), (4711, 0.09371440321559882), (4712, 0.0), (4713, 0.0), (4714, 0.0), (4715, 0.0), (4716, 0.0), (4717, 0.157613648121282), (4718, 0.04269198526312852), (4719, 0.0927931077904354), (4720, 0.06743945372892048), (4721, 0.03141650480769608), (4722, 0.07702356633653153), (4723, 0.12780001390418802), (4724, 0.17099409438691568), (4725, 0.04891662574497687), (4726, 0.1334113614272367), (4727, 0.09285480593958324), (4728, 0.10470591832612564), (4729, 0.0), (4730, 0.10123472934856778), (4731, 0.0), (4732, 0.15477146292446656), (4733, 0.10941239223344451), (4734, 0.10227870636915093), (4735, 0.09140111222862735), (4736, 0.0), (4737, 0.0), (4738, 0.12816613340841182), (4739, 0.13492066445475503), (4740, 0.07714830621667707), (4741, 0.0), (4742, 0.10533544426930032), (4743, 0.040893884835155325), (4744, 0.16281724879211837), (4745, 0.1435332966395712), (4746, 0.1201941972950053), (4747, 0.0), (4748, 0.07128388832411535), (4749, 0.1334362041629854), (4750, 0.0), (4751, 0.0), (4752, 0.1382883999947519), (4753, 0.07762947950590539), (4754, 0.0), (4755, 0.0), (4756, 0.0), (4757, 0.07341898409436058), (4758, 0.10762430733321794), (4759, 0.0), (4760, 0.07044501544486378), (4761, 0.0), (4762, 0.0), (4763, 0.07242834930717644), (4764, 0.07881285583395223), (4765, 0.09520770881771423), (4766, 0.05233292364563523), (4767, 0.17499593733554053), (4768, 0.0), (4769, 0.0), (4770, 0.0), (4771, 0.0), (4772, 0.1336749047137879), (4773, 0.0771793557215865), (4774, 0.11896035686876723), (4775, 0.0), (4776, 0.14311376499277226), (4777, 0.0), (4778, 0.11097991360703631), (4779, 0.0), (4780, 0.0), (4781, 0.13849843162422207), (4782, 0.0), (4783, 0.0935522075502859), (4784, 0.0), (4785, 0.0), (4786, 0.0), (4787, 0.05313782316786615), (4788, 0.16758268712673194), (4789, 0.08338567887445833), (4790, 0.0), (4791, 0.05252351636775205), (4792, 0.18309187614216424), (4793, 0.12319549794757514), (4794, 0.0), (4795, 0.09310870585177984), (4796, 0.15203316618669202), (4797, 0.0), (4798, 0.08358233986914017), (4799, 0.05731662512666291), (4800, 0.0), (4801, 0.03307902721867066), (4802, 0.0)]\n"
          ]
        }
      ]
    },
    {
      "cell_type": "code",
      "source": [
        "len(Recommendation_Score)"
      ],
      "metadata": {
        "colab": {
          "base_uri": "https://localhost:8080/"
        },
        "id": "a2QCk_XOrgrI",
        "outputId": "bda4aba5-9385-49ec-cc71-3f31e0728ff6"
      },
      "execution_count": 189,
      "outputs": [
        {
          "output_type": "execute_result",
          "data": {
            "text/plain": [
              "4803"
            ]
          },
          "metadata": {},
          "execution_count": 189
        }
      ]
    },
    {
      "cell_type": "markdown",
      "source": [
        "Sorting Based on Recommendation Score"
      ],
      "metadata": {
        "id": "f5HEXpa6vg78"
      }
    },
    {
      "cell_type": "code",
      "source": [
        "Sorted_Similar_Movies = sorted(Recommendation_Score,key = lambda x:x[1],reverse = True)\n",
        "print(Sorted_Similar_Movies)"
      ],
      "metadata": {
        "colab": {
          "base_uri": "https://localhost:8080/"
        },
        "id": "EknJ2MOYuxOo",
        "outputId": "9bb4c3da-2a83-41fa-ee0d-b5573755ac02"
      },
      "execution_count": 190,
      "outputs": [
        {
          "output_type": "stream",
          "name": "stdout",
          "text": [
            "[(2846, 1.0000000000000002), (3237, 0.2945715088714556), (2428, 0.2577127447569911), (2887, 0.2572864399020773), (2827, 0.256340077792333), (583, 0.2549030404897177), (2285, 0.2508800155570852), (3946, 0.2505997148023016), (1748, 0.2505504232439694), (4229, 0.24521205242082791), (784, 0.24282175980625947), (2442, 0.23877710064587912), (3577, 0.2373245204991752), (4436, 0.2369245366286078), (3933, 0.2342342665043593), (1874, 0.23370106266560914), (123, 0.23124185084111054), (2923, 0.2273731216025397), (2330, 0.2271956551305615), (156, 0.2268888129899537), (17, 0.22515754369766444), (2156, 0.22508638764570188), (525, 0.22491251789079184), (884, 0.2241402823472058), (2568, 0.2233624528852132), (2628, 0.22276667415733217), (3011, 0.22252460569180182), (3949, 0.2224305977088838), (106, 0.22214978886517356), (3910, 0.22201592692952832), (322, 0.22141284823220253), (3746, 0.22080747101110793), (3631, 0.22059228438615625), (196, 0.22019967330255888), (215, 0.21927604907119622), (3313, 0.21800030600186268), (1103, 0.21790301939100998), (296, 0.2177326386610466), (3594, 0.21741962071941084), (3423, 0.21732644059506617), (1331, 0.21728041353763125), (983, 0.21709876825885632), (138, 0.21643963089936627), (3160, 0.21598037856468424), (2540, 0.21592117842691178), (1499, 0.21568013864232194), (1535, 0.2156069747456142), (2169, 0.21483779225233052), (1731, 0.21481045803966636), (4575, 0.2146859840934739), (2076, 0.21411425404984988), (92, 0.21399164704271953), (1696, 0.2135193624000839), (183, 0.213504665638312), (2163, 0.21331484644934595), (234, 0.21286146594778718), (455, 0.21242533244611744), (119, 0.21225740772179358), (3696, 0.21210278387887663), (1133, 0.21196796604618653), (3697, 0.21172546628262934), (1613, 0.2113087216983684), (139, 0.21112036008710588), (3936, 0.21002746713689566), (95, 0.20970740801375354), (812, 0.20962707149140405), (2030, 0.20923671484274797), (2968, 0.2090709222106426), (1695, 0.2088396025227689), (370, 0.20865381789849347), (3357, 0.20846217111229676), (133, 0.20843002572222535), (3580, 0.2081342682800733), (431, 0.2077899505837197), (2884, 0.2075390907979959), (2409, 0.2072977527851082), (124, 0.20715574366397882), (3848, 0.20705233711276502), (2104, 0.20703063980162545), (3334, 0.20689360090926423), (1831, 0.2068745270252092), (2181, 0.20660452109970315), (1200, 0.20600264796581494), (558, 0.205961540665122), (4077, 0.20590801315872265), (1560, 0.20557650650502665), (152, 0.20553473602873756), (4197, 0.20537275960785997), (1, 0.2052498563756079), (4225, 0.20514358725822676), (1061, 0.2050095915912176), (2238, 0.2049846694428335), (2042, 0.20483548468290444), (1425, 0.2045470566544573), (3303, 0.20451236863597216), (2799, 0.20441647144348854), (1694, 0.2042958267702759), (1655, 0.20425951619155477), (165, 0.2042189285285696), (801, 0.20385110941836676), (634, 0.20381763063825817), (778, 0.20364694868088665), (1702, 0.20350794459931265), (876, 0.20344202783560303), (1029, 0.20334893508775626), (1754, 0.2033454311950252), (2368, 0.20329827440083958), (1526, 0.20292591098147555), (4175, 0.2029088829815666), (4433, 0.20279041692894756), (2145, 0.20272744010335567), (2422, 0.2026009492525703), (144, 0.20233748684138816), (3593, 0.201835243414275), (862, 0.20166406670227985), (677, 0.2016420008834582), (2594, 0.2014240390375223), (698, 0.20134557441877213), (327, 0.20132500469683498), (2298, 0.20130764569884785), (0, 0.20125187280593862), (3567, 0.2011716075440587), (2510, 0.20112013781188595), (3541, 0.20086362399563826), (1761, 0.2008364396343201), (702, 0.20076428391933432), (821, 0.2007168754755253), (2200, 0.2006793611307297), (1594, 0.2006786741531279), (2553, 0.2002855098358076), (2941, 0.2001455089226134), (2068, 0.20014472782681988), (1044, 0.1997289370159513), (594, 0.19956741953479679), (2412, 0.1993639314697363), (810, 0.1993366033493694), (287, 0.1991912176407992), (2640, 0.19898770269451882), (103, 0.19893682797678214), (4346, 0.19882968388591413), (1080, 0.1988119923383714), (672, 0.19878209918704334), (2209, 0.19871901554293683), (1861, 0.198654332218599), (246, 0.1984423153308512), (180, 0.1983571901914736), (73, 0.19834345590178712), (3735, 0.1980177530300044), (3252, 0.19765187427986589), (1851, 0.19762310179962822), (2561, 0.19761314613759776), (3450, 0.19758582258104812), (1068, 0.19751777881602814), (3784, 0.19734382512905005), (3368, 0.19722535126983887), (3536, 0.19720593959342603), (2450, 0.19718048420880452), (114, 0.19711931555526255), (1170, 0.19709975816171466), (2610, 0.196924820366558), (1120, 0.1967874671318793), (1026, 0.1966233623195389), (442, 0.19661699089832807), (329, 0.1965239448097974), (2380, 0.19638765019403676), (3465, 0.19635183441122475), (425, 0.1962925139904394), (1016, 0.19617931913704953), (1358, 0.19608864115820918), (625, 0.195953509831512), (1707, 0.19595288659473525), (176, 0.19563586429733354), (261, 0.19559728814312072), (1751, 0.195529233390748), (416, 0.1954482993908867), (506, 0.19539345105160208), (3143, 0.19539041844275126), (3276, 0.19531090806550644), (1408, 0.19519771128263702), (186, 0.19512938148517764), (410, 0.19507957770872347), (2944, 0.19505842866846576), (3345, 0.19504513098004467), (1893, 0.19502179770755948), (172, 0.19490260453019012), (2152, 0.19490108289758565), (2751, 0.1948609116090365), (1825, 0.19484844227753512), (3189, 0.1944670957569798), (1826, 0.19438241789945668), (3947, 0.19419083302738296), (1753, 0.19406350730851452), (3887, 0.19391581794534957), (396, 0.19390770545760833), (1492, 0.19364289935021137), (2516, 0.19362188629575802), (4647, 0.19360479617318194), (390, 0.19358974027688888), (744, 0.19357470386659997), (1112, 0.19345961440150913), (1337, 0.1934289352642251), (1596, 0.1933635171430301), (2810, 0.19324020008272155), (1468, 0.19319680767196887), (3717, 0.19303979966070656), (326, 0.19285500301820588), (654, 0.1928220256078137), (618, 0.1927433766563073), (4264, 0.19270760205859), (2235, 0.1925516228884421), (1870, 0.19251331298530164), (451, 0.19245792804166276), (1352, 0.1923887544392911), (947, 0.19225732282358207), (3706, 0.19222758557115932), (849, 0.19219806738106332), (2321, 0.19209269452488545), (1968, 0.1920223176146159), (1446, 0.19195289546067956), (181, 0.1919509814770325), (1749, 0.19189445189602458), (809, 0.19186938559810213), (4079, 0.19185849505123137), (606, 0.19181251534456592), (834, 0.19175729937732816), (516, 0.1917535885720328), (2094, 0.19166348669115052), (212, 0.19145596360697714), (617, 0.1914320663802848), (3218, 0.1914115071620702), (1842, 0.1910893927360543), (1523, 0.1910840884649279), (4509, 0.19093513653333274), (1401, 0.1909176008543602), (2467, 0.1908851173698794), (961, 0.19078175423182536), (2935, 0.1906313854724089), (2675, 0.19063058591715226), (4281, 0.19061955994990148), (143, 0.19051181095932215), (286, 0.1904466801442831), (1720, 0.1904046060032907), (3881, 0.19034815442112793), (501, 0.1902991096043179), (2880, 0.19022345517774933), (160, 0.1901851015715526), (3641, 0.19009229821099607), (2461, 0.19003130444386043), (2960, 0.19002353296016386), (394, 0.18997024746768154), (4378, 0.18993414838417788), (576, 0.1899248167287599), (3979, 0.18984989645560943), (4171, 0.18984730872651429), (1033, 0.1896004309703467), (2790, 0.1895746045156174), (380, 0.18953706078370341), (1096, 0.18947639857019258), (598, 0.1893022893606048), (1586, 0.18924954760686297), (770, 0.18922693611488992), (1221, 0.18921991516668754), (1122, 0.18918153417174127), (1991, 0.1890868029586334), (3750, 0.18903766671954478), (637, 0.18903235774524943), (4603, 0.1890089951514023), (46, 0.18896190988639908), (1958, 0.18871050111637777), (88, 0.18867712682247711), (2171, 0.1886666260946809), (2879, 0.18858742723763985), (1079, 0.188561516986829), (1048, 0.1884693970355441), (969, 0.18831926142775576), (3869, 0.18826353538513804), (3349, 0.18821020943679312), (2177, 0.18820879041543406), (3239, 0.18805744815502365), (694, 0.18804609398981662), (1844, 0.1879929818516815), (2454, 0.18788415414954998), (3754, 0.18774682871705312), (4174, 0.18770988481306608), (1150, 0.18764312875347322), (3246, 0.18758718177317732), (2551, 0.18743877986254262), (355, 0.1873988985758684), (1095, 0.18736495995102145), (781, 0.18735235572425218), (3640, 0.18732000608670377), (2157, 0.18723440466947286), (2717, 0.18721609879263493), (1878, 0.18720835879591485), (3258, 0.18716738228799684), (553, 0.18713858606582878), (2753, 0.18713378454230914), (931, 0.1870942755915719), (3167, 0.18707174011115663), (82, 0.18694026913897832), (1529, 0.1869053908639981), (591, 0.1868608962636534), (2457, 0.18677092730691125), (953, 0.18670445597602087), (3343, 0.18656609265053967), (692, 0.18651968701443186), (1896, 0.18629903752251856), (2853, 0.1861654800991489), (1799, 0.1861369638006993), (2824, 0.18612055426789736), (2022, 0.18607516428853269), (1286, 0.1860153969181315), (199, 0.1859884589994112), (3216, 0.1858838591277636), (395, 0.18573283667491702), (1634, 0.18570830491234658), (1512, 0.18568896525159295), (1145, 0.18556963135403218), (4688, 0.18554991994352038), (673, 0.18554293129993552), (791, 0.18551841428846366), (742, 0.1854211148392716), (696, 0.18541712144050615), (3339, 0.1853744341119763), (3169, 0.18536273185919178), (2756, 0.185319512399026), (2296, 0.1852027755766717), (510, 0.18520054017560655), (2240, 0.18514533017166301), (3336, 0.18511912959275867), (1106, 0.18504155966659183), (464, 0.18501705426157067), (3370, 0.18501113693343096), (3352, 0.18500790218565774), (1865, 0.18499909267228273), (2109, 0.1849454740213789), (3986, 0.1849114312749802), (614, 0.18490512774263854), (3236, 0.18488458077130773), (2127, 0.18481717801828831), (446, 0.18481646004153912), (2911, 0.1847909760323007), (1533, 0.18475540080283048), (1410, 0.1847186678241544), (2224, 0.18464658406729134), (415, 0.18461863406798287), (3579, 0.18461075749203762), (3731, 0.18455690831949306), (534, 0.18450999798363302), (14, 0.18444128824960393), (1449, 0.18442395138499224), (1500, 0.18440214524555518), (4267, 0.18410890260800894), (4297, 0.1840771551601857), (2638, 0.18394704271178342), (2183, 0.18382187488550927), (2500, 0.18375712318528548), (4704, 0.1837406292678744), (3148, 0.18373802628161304), (998, 0.18363457813541584), (2173, 0.18363408576148263), (533, 0.1836023028426705), (2389, 0.18359096765862776), (2314, 0.18348890894582462), (3873, 0.18346091030263284), (3639, 0.18340263763903533), (3170, 0.18319117067417845), (3778, 0.18317672666852142), (4792, 0.18309187614216424), (1178, 0.1830766296083345), (3671, 0.18304234685628093), (740, 0.18285826376812805), (3088, 0.18285825225100957), (1152, 0.1825855008051144), (2828, 0.18250730334224968), (935, 0.18246300955956818), (2927, 0.1824603097762666), (2071, 0.18245835622887557), (3997, 0.18245494420137787), (2491, 0.1824529611387193), (2842, 0.18235972895902625), (268, 0.182329056061005), (127, 0.18227962093075276), (2045, 0.18224876640831505), (4268, 0.18217126640902281), (191, 0.18216926865071337), (1551, 0.1821117389443842), (854, 0.1820475504285424), (269, 0.18204648144041674), (2981, 0.18203429652556052), (899, 0.18202847442849776), (113, 0.18201005198107617), (900, 0.1819855274541303), (2997, 0.1818580022517925), (1366, 0.18152303726627023), (872, 0.1814075421377989), (1433, 0.18138286604326095), (4033, 0.18132480206973445), (1373, 0.1812998230648932), (1563, 0.18111838539078942), (666, 0.18108497303731766), (922, 0.18103124745084667), (303, 0.18098649668817537), (3057, 0.18096728822243435), (813, 0.18096342788463385), (1867, 0.18095468246280208), (653, 0.18089184750934403), (2465, 0.18088367864880373), (1195, 0.18086371070107332), (2404, 0.18078320250740137), (3048, 0.18077753533289048), (299, 0.18077352062247373), (240, 0.18076450711913555), (1129, 0.18072075311799765), (2136, 0.1806765320002769), (238, 0.18065654630249234), (1165, 0.18063946452336552), (2613, 0.1805543570715283), (4355, 0.18045353853350313), (1635, 0.1804109405775056), (3880, 0.18039074570000618), (1471, 0.18030439312229254), (2355, 0.18026243232665676), (3893, 0.18014258398878652), (1374, 0.1800877928382455), (1027, 0.18008486700863902), (2967, 0.1800165132414838), (2294, 0.17999037051421124), (941, 0.17998879418159666), (1752, 0.17998507366969552), (55, 0.1798763375310869), (1869, 0.17983104739942588), (3512, 0.17981222326692944), (54, 0.17959755613370665), (4039, 0.17954231154779646), (3251, 0.17953977673788796), (1515, 0.17953080961221388), (2149, 0.17952551714844556), (1056, 0.17929243561581792), (1283, 0.17923525856849043), (4090, 0.17914916213372065), (505, 0.17912165861971033), (125, 0.17903866613876612), (273, 0.17900459910733463), (1205, 0.17899215968444088), (1031, 0.17893737811458796), (3937, 0.1789296365282692), (566, 0.17892897089818807), (945, 0.17884204729726902), (454, 0.17882621980645402), (3955, 0.17875917709900196), (76, 0.1786965131695281), (1432, 0.17851840642135736), (2250, 0.17851268574164642), (3621, 0.17849688937422944), (2801, 0.17836392284658084), (1971, 0.1783125388626495), (1390, 0.17830816661854423), (1847, 0.17825917766365812), (281, 0.17815688553881778), (2678, 0.17815331866971032), (2416, 0.1780156200514518), (387, 0.17800826056799146), (417, 0.17791463508981703), (386, 0.17787243463526542), (2625, 0.17782275904933798), (2776, 0.17775111582763672), (3525, 0.17774725075743522), (2306, 0.17772878650349105), (98, 0.17771211932501577), (163, 0.17768266141047406), (3743, 0.17766225334393426), (2860, 0.17765647398716028), (1015, 0.17761769998832153), (2116, 0.17756369970576366), (459, 0.17756122541357117), (737, 0.17754164369717948), (1019, 0.17754046679992827), (1948, 0.17741273947679734), (2600, 0.17740788032532703), (2087, 0.1773815286884658), (932, 0.17737163288572447), (1713, 0.1773370854574892), (292, 0.1772515313234065), (104, 0.17723956515767894), (2537, 0.17721690419759228), (2462, 0.17716439645137885), (3372, 0.17710477857855675), (2455, 0.17704386565832814), (3448, 0.17703338769059035), (3014, 0.17702021405310883), (4126, 0.1769834309107004), (420, 0.17696920689019463), (2902, 0.17688132709735402), (4648, 0.1768365255693757), (305, 0.17683418775256746), (1900, 0.17672018853284838), (539, 0.1766376416571382), (972, 0.17655606340600913), (2060, 0.17648233480331027), (188, 0.17637268008521725), (3444, 0.176358907746177), (1617, 0.17633867099170947), (4670, 0.17632602756217555), (385, 0.1762578422486366), (3813, 0.1762308272759409), (3383, 0.17622182090012045), (2067, 0.17620840335204313), (478, 0.17617144356509912), (3442, 0.17615778843282157), (852, 0.17611670549851807), (12, 0.1761004604104513), (3739, 0.17608493920543547), (3174, 0.1760844327152591), (391, 0.17606234169544724), (725, 0.1760577681363858), (1567, 0.17589676928099635), (3709, 0.17584337981125978), (2907, 0.17584075083777975), (4585, 0.17583350682690885), (2501, 0.17580878512443907), (3499, 0.17576337215650434), (421, 0.17575846723606256), (1612, 0.1757449095338497), (2858, 0.17556929563228948), (27, 0.17544947535216238), (1102, 0.17536374129094828), (2760, 0.17532344703789168), (1757, 0.1752512044223708), (1784, 0.17524773420173673), (3504, 0.17524707099071277), (5, 0.17522125485418139), (4073, 0.17514342031838284), (1936, 0.17509324147173597), (2735, 0.17507032909761366), (360, 0.1750243590306278), (3767, 0.17501510316113353), (4767, 0.17499593733554053), (3466, 0.17480228512235155), (112, 0.17473696478712192), (2366, 0.1746544016879501), (3507, 0.17458198662599098), (3311, 0.17458062428063081), (2348, 0.1745515661205085), (526, 0.17449534724450053), (2237, 0.17444560612156204), (2748, 0.1744101712878809), (2580, 0.17440732691244548), (1905, 0.1743647373984889), (2477, 0.1743243600003762), (310, 0.17421954688886482), (2808, 0.17421269759626276), (3586, 0.17418998464425614), (2008, 0.17410695714112465), (2569, 0.17406848658331953), (4437, 0.1740365249196447), (2159, 0.1740147441009451), (750, 0.17394355282096705), (383, 0.1738814005372862), (1835, 0.1737822467915633), (100, 0.1737569597159336), (65, 0.17364377262507363), (1525, 0.17353943119928789), (262, 0.17351903753453132), (819, 0.173515960273825), (551, 0.17350059976750723), (2609, 0.17349612568339862), (4024, 0.17339467196680497), (2475, 0.17328152328797322), (3139, 0.17325653349716874), (3896, 0.17322722821269024), (3035, 0.17322318062864536), (3942, 0.17315898805199217), (1640, 0.1731452009557149), (1100, 0.17314041698066926), (2281, 0.17310244657026883), (122, 0.17303026288484535), (200, 0.1730054293131466), (1098, 0.17299616519967712), (276, 0.17299499350206127), (1988, 0.17297780303698265), (2515, 0.17289611415594772), (3177, 0.1728431500617389), (3238, 0.1727735843363661), (2063, 0.1725087644637446), (4477, 0.17250749912322175), (90, 0.17233632533566529), (807, 0.17232697503011968), (1956, 0.17223502280220598), (3351, 0.17201999601557985), (1610, 0.17196823561339789), (2262, 0.17192909230573655), (955, 0.17191336078986422), (628, 0.1718736083463992), (3273, 0.17185263145090207), (3677, 0.17183269123666978), (924, 0.1717644451310969), (3204, 0.1717301198112559), (4041, 0.17167251383105758), (1207, 0.17165023930925025), (1083, 0.17160904275086275), (828, 0.17160233775515962), (3898, 0.17153747611102863), (1852, 0.17141291243999976), (4336, 0.17134292878610818), (3158, 0.17133303009608256), (1203, 0.17131222019081993), (4284, 0.1711757321428266), (4528, 0.17109799839930454), (2024, 0.17106462795524027), (117, 0.1710622427429814), (3901, 0.17104558953430768), (3149, 0.17104032634920766), (2543, 0.17102354323187538), (4724, 0.17099409438691568), (830, 0.17093682972816718), (547, 0.17091834473581108), (4440, 0.1708953120838995), (1215, 0.17081092169634113), (363, 0.1708102756946942), (934, 0.170802667212616), (2102, 0.1707435726073928), (2405, 0.17071559570292352), (1619, 0.17065064185445764), (582, 0.17060638439258582), (1134, 0.17059522662270007), (3668, 0.1705794740879308), (626, 0.17054601996033797), (220, 0.170521604555543), (3907, 0.17040079237423728), (2667, 0.17038605361593065), (1400, 0.17037335232589218), (2283, 0.17036922821201905), (4081, 0.1703555050816464), (2781, 0.17031348051019793), (2897, 0.17029475268847524), (4088, 0.17027812561595218), (1680, 0.1702083351541508), (15, 0.170201947830986), (765, 0.1701636970652077), (4015, 0.17015123093889242), (917, 0.1701494612017929), (2406, 0.1701349481972434), (352, 0.17007748825281288), (1156, 0.17003097489088337), (565, 0.16994096532311803), (964, 0.16991449924587965), (2036, 0.16991046003941965), (2581, 0.16982608279068143), (1328, 0.16964922454278739), (1704, 0.16962648145356846), (1223, 0.16957807420341497), (245, 0.16956625886122229), (4025, 0.16954664867596586), (2108, 0.16949740953294345), (1697, 0.16948678426977365), (532, 0.16947906388681058), (213, 0.16933937228631307), (328, 0.16932383685804986), (870, 0.16931437708366046), (1537, 0.16926271481353), (4228, 0.16924092187945655), (2681, 0.16921487751836092), (2762, 0.16919657537094862), (1228, 0.16918065155815828), (1630, 0.16902052065591813), (330, 0.1690136966260309), (4107, 0.1689088694181071), (4359, 0.16890307354612644), (115, 0.16885809545505662), (3307, 0.1688278503743489), (4080, 0.16877414255082338), (1115, 0.16876071998438477), (4196, 0.16872850980730267), (986, 0.1687044646545118), (2925, 0.16868972054448386), (4610, 0.16865227407426328), (571, 0.1686180694599104), (1260, 0.16861745656659122), (4098, 0.1686021995571198), (2247, 0.16858239457688215), (1957, 0.1685747810839866), (177, 0.16857198477319918), (3, 0.1685524198087678), (4213, 0.1685514740213407), (756, 0.16852308576489783), (1199, 0.1685118529888757), (2558, 0.16838372292615278), (3700, 0.1683704525678946), (741, 0.16836431375226651), (1521, 0.1683588901003003), (4049, 0.1683550736827143), (1841, 0.1683433564414152), (4134, 0.16833229448374354), (3323, 0.16829493937132112), (1871, 0.1680401921408516), (1402, 0.16803275943734536), (254, 0.1680256847306344), (2961, 0.16802546576803942), (1633, 0.16799905156231568), (107, 0.16792915721212978), (3676, 0.1679073578443332), (2957, 0.16790522887418247), (197, 0.16781662011435747), (1318, 0.16770825333752445), (2085, 0.16767183180733447), (904, 0.1676433535026654), (4788, 0.16758268712673194), (682, 0.16753946428960742), (201, 0.1675331585748824), (2289, 0.16753074650677238), (460, 0.16749046248672975), (853, 0.1674794607183197), (2029, 0.167370120139149), (270, 0.16730294307497923), (2948, 0.16724858618854407), (1090, 0.16722801647910515), (3473, 0.167192490834154), (3440, 0.16717833689692135), (1758, 0.1671739301684583), (2795, 0.16716533415938656), (2920, 0.16716073314051502), (2724, 0.16714784563621124), (569, 0.16713883571499552), (3469, 0.16708292264993233), (118, 0.16702650704251953), (3600, 0.1668998744578708), (2106, 0.16678483001913874), (265, 0.16675506478155985), (63, 0.16672975141003551), (2886, 0.1667139392183184), (2121, 0.16669273250575747), (1652, 0.16661139339589542), (2752, 0.166519289534805), (1281, 0.1665095335877469), (2218, 0.16645302500913634), (820, 0.16641069971936498), (4312, 0.16633705516320657), (3841, 0.16630823709751621), (1967, 0.16628861518964605), (2585, 0.16624127215325152), (864, 0.16623101890146694), (2520, 0.1662289487448521), (365, 0.16617644485225716), (2375, 0.16617581940385143), (1683, 0.16610746516175498), (4339, 0.16610715745482135), (1682, 0.16609801660446039), (3622, 0.16608970627730155), (4003, 0.16607659382673567), (980, 0.16606767654430468), (1915, 0.1660475521252714), (843, 0.16603805762235416), (225, 0.16602972028133411), (3429, 0.16593630217765618), (1198, 0.16593462363523964), (3350, 0.16590844014422995), (776, 0.16581574992836423), (429, 0.16579971029161217), (2278, 0.16574177557426611), (185, 0.16565795095843755), (2337, 0.1655966056132186), (267, 0.1654580684110136), (3211, 0.16536743498274345), (2284, 0.1653045052028299), (2438, 0.16529355210511582), (1427, 0.1652654954980734), (3445, 0.16513830772749147), (3699, 0.16511562768295765), (3227, 0.16508083807704135), (659, 0.16507331747083762), (8, 0.16505655607133396), (3455, 0.16503117115146157), (2018, 0.16502277562126805), (2541, 0.16502084421595947), (2318, 0.16499122234834127), (1827, 0.16497937767050844), (4103, 0.16495026756418243), (3538, 0.16492808117853536), (645, 0.16490234877461865), (4071, 0.16483747140375168), (4467, 0.16480636514751015), (4358, 0.1647780256116115), (61, 0.16475472714355305), (1559, 0.16472609311238315), (2249, 0.16469243435162542), (838, 0.16466830504254878), (1077, 0.16461222277005505), (1006, 0.16461203067616498), (130, 0.16454895529481192), (248, 0.16453444001979256), (2072, 0.16449749705296027), (3526, 0.16448907494628182), (977, 0.16447844589977387), (1040, 0.1644741083346254), (3843, 0.16438266712326666), (80, 0.16434524971751638), (573, 0.1643138488768885), (209, 0.16428551287037607), (2013, 0.16427339664938811), (4259, 0.16423778231156871), (3845, 0.1642031279883121), (2621, 0.16397332311364593), (1118, 0.16393798120678624), (2225, 0.1639188742434547), (3074, 0.16390550139627041), (3064, 0.16382078535407532), (184, 0.16381840199815548), (844, 0.16363797513961478), (1554, 0.1636132611268801), (2850, 0.16359719245963122), (349, 0.16357866405589386), (1405, 0.1635535729415251), (803, 0.1635498946591773), (2331, 0.16347950046617843), (2514, 0.16345006611603236), (708, 0.1634331468648459), (2324, 0.16342758518652079), (3018, 0.16339823956793553), (3534, 0.16338783135453122), (4639, 0.16336092685728262), (3866, 0.16334269923384376), (426, 0.16332421365635627), (893, 0.16331136507109442), (811, 0.16330370691355842), (2015, 0.16327418912042918), (1375, 0.16325498701965327), (521, 0.16323031976440636), (861, 0.16321339064150722), (1564, 0.16316501739123893), (39, 0.16309284303560212), (69, 0.16308714978862326), (2843, 0.16308479374849827), (3171, 0.16305461603781962), (294, 0.16300637030333898), (2627, 0.16297424646642714), (2826, 0.16285769811002265), (4744, 0.16281724879211837), (635, 0.16280262778762994), (868, 0.16275943225512302), (1458, 0.16268488608802367), (1013, 0.1626345678696511), (230, 0.16261651246818026), (3748, 0.16258207689703835), (3050, 0.16256045520925902), (243, 0.1624697353296198), (2865, 0.1623784953917684), (2197, 0.16236830629468857), (1300, 0.16231532549220895), (1990, 0.16231417283476335), (2123, 0.1622904618671621), (3566, 0.16223468108160224), (1238, 0.16223302842053797), (1342, 0.1622141775628619), (1661, 0.16217445318814866), (1065, 0.16217404941420635), (3603, 0.16215375509537774), (2363, 0.16210652008615953), (2069, 0.1620980882069988), (2953, 0.16204514613038892), (3738, 0.16201563129262617), (300, 0.16195857274683784), (889, 0.16188541425346847), (3850, 0.1618600066876422), (149, 0.16185277986531937), (1132, 0.16183765429518107), (1568, 0.16180590293985114), (688, 0.1617167727648004), (2509, 0.161688960565664), (198, 0.16158952615580013), (1294, 0.1615696881537383), (25, 0.16153166792801696), (1744, 0.16152084050448984), (2774, 0.16150864938060128), (3297, 0.161433974542961), (108, 0.16141194784737734), (1486, 0.16140946207830126), (1519, 0.16135650684925487), (3653, 0.16126577979048826), (2914, 0.16124273183338675), (638, 0.1612315459253913), (2166, 0.16114300079349717), (897, 0.16113346225351263), (2264, 0.16113309266175918), (2966, 0.1611327274132347), (120, 0.1611268574161097), (3290, 0.1610930253460942), (1127, 0.16104464452195127), (432, 0.16098180218902908), (2991, 0.16085842926100924), (564, 0.16082537258603832), (3940, 0.16081622501897277), (827, 0.16081317477019758), (795, 0.1608070606744854), (2117, 0.16076774758935908), (974, 0.1607563905879299), (933, 0.16073044334122802), (2403, 0.16071444011136476), (2014, 0.1606651617646319), (2739, 0.16061176415790535), (4372, 0.1606001160577684), (485, 0.16059266630397867), (1980, 0.16057911774195907), (30, 0.16051770893021683), (110, 0.16046494710154025), (204, 0.16045887167182935), (3615, 0.1604485203098954), (232, 0.16043803377947619), (3414, 0.16036558214077315), (4251, 0.16035634454900993), (111, 0.16034821936775773), (504, 0.16027394514570503), (129, 0.16025232047422183), (4017, 0.16020580020222897), (445, 0.1601377861466182), (1803, 0.16008940396928467), (3379, 0.1600269495190823), (151, 0.16001987567688258), (1885, 0.16000840045725534), (342, 0.15997964852668767), (2196, 0.15994876334360175), (1970, 0.15993895271728484), (2683, 0.15979367461878896), (145, 0.15978706152750935), (2329, 0.15978617508323892), (2742, 0.15972513892844178), (3587, 0.15972317411333045), (2180, 0.15967202860079985), (1902, 0.1596526958918668), (3156, 0.1596437795410778), (3065, 0.15960801754668175), (2560, 0.1595965598884904), (2315, 0.15959032938143627), (2549, 0.15942430960384457), (3726, 0.15936184180148255), (3789, 0.1592164845204723), (3906, 0.15921207530657724), (1924, 0.15920634787426102), (4537, 0.15910868092828598), (266, 0.15909145249918305), (158, 0.15900365491584387), (2190, 0.15896209326966051), (3934, 0.15894679779811427), (3159, 0.1588427811560654), (578, 0.15879181903879935), (1987, 0.1585924247827063), (3924, 0.1584416884970078), (3651, 0.15843795972518393), (274, 0.1584210353167117), (957, 0.15838663520842866), (260, 0.15835001656965658), (4707, 0.15832191121283307), (3120, 0.15825498218228892), (1292, 0.15817226664895556), (3288, 0.1580592133356178), (3255, 0.15799343774032992), (3605, 0.15797600590431002), (519, 0.15796026370968283), (2325, 0.15795897004125184), (1181, 0.15794651281984137), (195, 0.157915543931102), (3245, 0.15791339332352325), (665, 0.15789660487937424), (343, 0.15788642897334912), (1377, 0.15787198256436266), (3812, 0.15785469885833478), (4087, 0.15775692434279806), (714, 0.1577033543687225), (1756, 0.15770210354206232), (1556, 0.15765258795585668), (968, 0.1576485675269141), (1075, 0.15764031708940535), (4717, 0.157613648121282), (777, 0.15761155698423637), (636, 0.15761081398219737), (4300, 0.1575493159422634), (282, 0.15754610155335605), (2449, 0.15749957167784012), (4563, 0.1574549942651953), (836, 0.15741440559435987), (4345, 0.15740613909513085), (494, 0.15735583551352944), (1505, 0.15733199530288522), (2680, 0.1573020886592716), (593, 0.15729061730228946), (939, 0.1571907537202879), (3799, 0.15717685678201765), (3315, 0.15707875828286164), (1196, 0.1569316040467449), (2716, 0.1569315222934545), (875, 0.15689493184314088), (3617, 0.1568629862682084), (2167, 0.15685888158415687), (1969, 0.15683543643627898), (2532, 0.15682191040100515), (1590, 0.15668127557255201), (2606, 0.1566079076611567), (2820, 0.15659297857929574), (823, 0.1565660508435825), (1204, 0.1565544651149341), (154, 0.1564817902158634), (1603, 0.15647118518655845), (2299, 0.15645726413005775), (1338, 0.1564499875829417), (336, 0.15644062908689396), (4162, 0.15641893412862576), (1944, 0.1564116792836347), (3606, 0.15637335577456618), (1296, 0.15636357267391632), (31, 0.15635214222239865), (4249, 0.15626412857884744), (470, 0.1561956205198947), (1041, 0.15618937497472057), (359, 0.15617693645185973), (2214, 0.15617192044989842), (4, 0.15610940029414294), (473, 0.15608278889724053), (2796, 0.15605892569732477), (403, 0.1560584431900312), (2484, 0.15603805384063438), (252, 0.15600420370222484), (2388, 0.1559894807061906), (3161, 0.15595968308401134), (2567, 0.1559266878519118), (2554, 0.1559190731274332), (3918, 0.1559125019436901), (3278, 0.1559011936657411), (4650, 0.15588468766778563), (1960, 0.15577584797960764), (1073, 0.15575506880987935), (424, 0.15574798091783176), (3055, 0.15573191914915765), (3825, 0.15571761196736375), (1561, 0.15563240678241533), (647, 0.155613910113925), (4190, 0.15557748321436696), (524, 0.15557637712403272), (4060, 0.15555496040542968), (3056, 0.15554118896022381), (2126, 0.15546850015791278), (3981, 0.15542989255355105), (886, 0.1553408007081841), (1235, 0.1553323966312708), (3330, 0.1552700548888442), (3082, 0.15522167972824125), (216, 0.15516975493155616), (661, 0.1551462311859142), (249, 0.15504733816595817), (1376, 0.1550264296914825), (2725, 0.15500321066462788), (207, 0.1549922252260999), (1168, 0.1548364506328403), (89, 0.15482716234910016), (4732, 0.15477146292446656), (1684, 0.15475380321069343), (4200, 0.15469423593736614), (333, 0.15463832543903183), (2632, 0.1544976294897447), (2587, 0.1544242885552052), (657, 0.15440085602585013), (577, 0.15433448232983216), (2659, 0.15432043276398094), (2530, 0.15429595778965033), (2844, 0.15427978942253323), (4020, 0.15426315474698377), (2949, 0.1542614231368679), (178, 0.15426078886551273), (2097, 0.15419708554278075), (1856, 0.15418292568352093), (743, 0.15418251875680472), (1647, 0.15415199651733058), (3871, 0.1541055190111479), (1866, 0.15410124366756334), (2773, 0.15408323188557785), (2439, 0.15407644396367257), (1188, 0.1540322122988289), (2349, 0.15402235746068996), (2280, 0.154018801042103), (4006, 0.15390530617896345), (2468, 0.15389293905421875), (96, 0.15388301879245778), (2834, 0.1538601356951018), (227, 0.1538566250530267), (3520, 0.15382665275689217), (1472, 0.15382651168207614), (3476, 0.15381094920791602), (2556, 0.1537726514613694), (3527, 0.15373882469168826), (226, 0.1536771937589604), (1012, 0.15360478991800852), (2075, 0.15360230205994946), (944, 0.15356605754491615), (3106, 0.15356290752964138), (2395, 0.15353234039797942), (1859, 0.1534850789331023), (2512, 0.1534808854657701), (491, 0.15345448593463012), (161, 0.15345300510490167), (3568, 0.15344429742563356), (2937, 0.15340817925894512), (1108, 0.15339541729126766), (3192, 0.15338665652776207), (2730, 0.15336823787167428), (3049, 0.15333792635451096), (4631, 0.15322751803002455), (409, 0.15316525598543512), (4109, 0.15311741543706361), (3638, 0.15308352538796377), (3870, 0.15306859882234344), (4329, 0.15306526707215656), (2179, 0.15295144316202455), (4602, 0.15294812017685228), (1637, 0.1529394818964437), (1553, 0.15292759962831246), (704, 0.15291119321323934), (4595, 0.15288404970390718), (1441, 0.1528731785183072), (695, 0.15286329526600664), (3633, 0.15286188873133894), (37, 0.15284062387105496), (3832, 0.15281135649580466), (350, 0.1527932727935646), (3984, 0.15277046274851705), (1889, 0.152769803578243), (2727, 0.1527081416274607), (1155, 0.1526951029256419), (1545, 0.15267474877198856), (2274, 0.15265970363778594), (579, 0.15262858421542946), (271, 0.15262063712216956), (3210, 0.15257671070181816), (2351, 0.1525219113342885), (1883, 0.1524367418522751), (2983, 0.1524248527605826), (604, 0.15242442799338274), (1808, 0.1523784871340398), (2711, 0.152361764862129), (1322, 0.15235651243853499), (3460, 0.152345369498293), (3958, 0.15232069996162442), (3023, 0.15230984669112263), (428, 0.15229600192512988), (4066, 0.15229547923092313), (2912, 0.15228689848388735), (2838, 0.1522803761757814), (1798, 0.15222451534901066), (3563, 0.1521804435172243), (3770, 0.15214905081643154), (1626, 0.15210292863624267), (1762, 0.1521015913117335), (4223, 0.15209620837496277), (2642, 0.1520898553875846), (4551, 0.15205695855919413), (4796, 0.15203316618669202), (3232, 0.1519735049729563), (1656, 0.1519447670591283), (419, 0.15193940912261314), (354, 0.15193212469668402), (2178, 0.15192722531604416), (2358, 0.1519133926086119), (159, 0.151858878833966), (4332, 0.15184435764409743), (3467, 0.15182065294750516), (3551, 0.15178492451188544), (28, 0.15174140572446437), (1180, 0.15172687092532372), (1333, 0.1516676089377447), (1243, 0.15155966008079738), (3766, 0.1515248547838359), (6, 0.15150190465449742), (2856, 0.15148312979030754), (2830, 0.1514681690676273), (2398, 0.1514032991880061), (1518, 0.1513702875409603), (2189, 0.15131487621250558), (1964, 0.15129491118729582), (2626, 0.1512672791572635), (214, 0.15126364954043284), (1244, 0.15126299304138718), (2423, 0.15124255741378245), (148, 0.1512193727410036), (2792, 0.1511594712931477), (1171, 0.15115172892303247), (87, 0.15114485869410538), (452, 0.15111581268428165), (2813, 0.15110773981270229), (794, 0.15101771798441113), (1822, 0.15098669997092598), (2815, 0.1509588442130713), (4441, 0.15094292197898412), (4479, 0.1508998485500095), (631, 0.15088664594240425), (2446, 0.1508307882602869), (808, 0.1508239518727319), (4144, 0.15082326291274073), (26, 0.1508193275119081), (785, 0.15077569538085345), (1191, 0.15077058986209196), (4701, 0.15076640932190097), (1719, 0.1507321410976566), (3973, 0.15066677526061242), (2282, 0.15064070536733043), (168, 0.1506035376744838), (1089, 0.15059737219786587), (42, 0.15050822894399987), (3786, 0.15045571903226004), (301, 0.15044828509405386), (3554, 0.15039490466467523), (1153, 0.1503656237409337), (937, 0.15034409865530826), (290, 0.15034402709020867), (1137, 0.1503196792573768), (4423, 0.15027232735623153), (1997, 0.1502665536646649), (2435, 0.15025749795071477), (356, 0.15021645660798355), (423, 0.1502006444129905), (2164, 0.15015015024211892), (885, 0.15012688726302534), (1225, 0.15011697951567385), (2017, 0.15011214018690555), (1539, 0.15008417317371117), (4454, 0.15006244164223906), (1506, 0.15006209970128218), (4238, 0.15004230400771876), (4157, 0.15003087365080642), (4542, 0.15002364192608048), (2696, 0.14985796812113586), (2660, 0.14985252253520043), (1052, 0.14985199650365985), (2943, 0.14984164658761), (1940, 0.149840004854788), (1101, 0.14983114233050637), (1778, 0.14982965038413754), (4613, 0.1498067452564879), (4353, 0.14979211045246918), (1230, 0.14971895905239738), (1573, 0.14966659469301094), (2607, 0.14964717343899916), (2460, 0.14963857812373627), (367, 0.14962811585666966), (339, 0.14960961436565368), (1467, 0.14960265102406461), (711, 0.149581983536757), (1584, 0.14955979873949293), (2233, 0.14949551360272134), (4496, 0.1494820318520382), (4380, 0.1494634343778085), (408, 0.14943858006325192), (4234, 0.14941960150000036), (109, 0.14941451583264465), (3013, 0.1493363315611208), (840, 0.14928943179187937), (2819, 0.14925798271250298), (818, 0.14925309291539665), (1167, 0.14920373224736921), (1609, 0.14920139458183937), (211, 0.14919507554036937), (1143, 0.14919103480437426), (612, 0.14912457092474776), (3091, 0.14911871964389387), (1838, 0.149102331830882), (1070, 0.14910125254705475), (1226, 0.14899265468947276), (621, 0.14898796176850843), (671, 0.1489189553575312), (1495, 0.148901313600904), (16, 0.14888778623017462), (4407, 0.14885899775567182), (728, 0.14885833379183652), (3073, 0.14885365823448646), (3027, 0.1488524368285821), (805, 0.1488360941839342), (3495, 0.14882355754469728), (3479, 0.14882097290414048), (1394, 0.1487816584291724), (169, 0.14873249532729493), (3090, 0.14855751803093065), (1686, 0.14853464945042286), (2041, 0.14839606666772032), (3358, 0.14835301006611865), (1583, 0.14831772437201732), (2731, 0.1482999638797588), (3348, 0.14818404574465557), (1800, 0.1481732008080843), (3532, 0.14813786385933053), (4605, 0.14810549502177428), (3126, 0.14808888547673518), (298, 0.14806970603480832), (3443, 0.1480619852868018), (2525, 0.14803705157441163), (1725, 0.1480188864666513), (2821, 0.14800273404426986), (2722, 0.1479522720104637), (433, 0.14790250930625917), (1557, 0.14784664989777246), (2458, 0.14784387813075356), (2797, 0.14782668821924683), (867, 0.1477362276837895), (908, 0.1477287774478891), (2615, 0.14772715823986526), (1442, 0.14772148944396324), (2922, 0.14771961476283682), (2208, 0.14768506561623815), (1781, 0.14761285835624605), (502, 0.14761057921207016), (3337, 0.14759139843390756), (3695, 0.14757122515912882), (767, 0.1475706726785347), (1062, 0.14753666287781272), (116, 0.1475281388095062), (1588, 0.14750929627754447), (1438, 0.14749568959608647), (43, 0.14744046016315276), (592, 0.1472432249634476), (1920, 0.14720077488442773), (1582, 0.1471798759540247), (1110, 0.1471679567207202), (2187, 0.14715385135330464), (1420, 0.14711406374551578), (1055, 0.14711111181344422), (3530, 0.1471087125210686), (1159, 0.14710342884085797), (3401, 0.14709817552983417), (174, 0.1470732077099721), (2619, 0.14706858883714558), (2290, 0.147055774311696), (755, 0.1470327291943747), (1344, 0.14702196817602417), (587, 0.14701906280116536), (2390, 0.14700715270283699), (413, 0.1470049707767409), (4592, 0.14700132731574317), (35, 0.14695438694258087), (53, 0.1469258874398883), (2346, 0.14688957467405506), (563, 0.14688189287936995), (782, 0.14687555929746582), (231, 0.14686848958272672), (950, 0.14686532422344706), (4365, 0.14682009770962434), (1413, 0.14678982039263275), (2433, 0.14677222079882085), (4687, 0.14671915339651714), (2802, 0.14671045991519766), (3802, 0.14663623410781929), (1737, 0.14661240896620617), (2783, 0.1465727705959265), (730, 0.1465711939315537), (208, 0.1465650959100162), (4434, 0.1465444094258934), (52, 0.14639507079348804), (3305, 0.14639008559184047), (4159, 0.14638008843636888), (3004, 0.1463472364170864), (1766, 0.14631773901897208), (1846, 0.14629381703816371), (1271, 0.14628251211983023), (1105, 0.14621585605291812), (624, 0.1461756292568262), (93, 0.14615456371627156), (1548, 0.14614682887161878), (3931, 0.14611777307763513), (493, 0.14610158872626022), (724, 0.14608751087736407), (3883, 0.14607892628719277), (686, 0.14605831237937403), (879, 0.1460460539628132), (1131, 0.14601720590013656), (2668, 0.14601119817335775), (4453, 0.14596418945467773), (2965, 0.14593534527760169), (1638, 0.1459181976569742), (279, 0.14591284027860754), (528, 0.14588286637155126), (101, 0.14584687204931326), (2769, 0.14579172944248942), (962, 0.14578957312088706), (690, 0.14578579946341602), (368, 0.14577363079790906), (263, 0.1457676382542754), (754, 0.14576713092202284), (2747, 0.14576263239825654), (2469, 0.14575475933258777), (4555, 0.14574319498357532), (2490, 0.14572866962662703), (1465, 0.14563982807595677), (3457, 0.1455745329749534), (572, 0.14557197782793427), (1983, 0.1455712640275642), (3095, 0.145556640882643), (361, 0.14552600049736983), (47, 0.1455251477053585), (50, 0.1454934005088447), (337, 0.14542813191840306), (364, 0.1454127415659744), (3151, 0.1453470811987984), (3132, 0.14526058250603852), (2170, 0.1452350638740214), (898, 0.14517210010302226), (689, 0.1451127798705296), (3202, 0.14511269126077975), (3876, 0.14509163288702215), (435, 0.14505123998790911), (348, 0.14496077152031744), (4511, 0.14494268891062503), (1250, 0.14494134717642407), (194, 0.14492976065358337), (1670, 0.1448961478890765), (85, 0.1448904236374778), (3581, 0.1448211493792958), (2397, 0.1447833327627482), (546, 0.14476633316255047), (2101, 0.14473734445725667), (3419, 0.14466414774025854), (2037, 0.14465345250655912), (987, 0.14465234699497972), (1624, 0.14460127283950172), (332, 0.14458562861505772), (2982, 0.1445317039159531), (544, 0.14451323306300043), (3283, 0.14445067123732483), (990, 0.14442120843022674), (384, 0.14440025376397247), (3774, 0.14437167207808074), (596, 0.14435945333668382), (3470, 0.1443571005286303), (1795, 0.14430935031840367), (20, 0.14422009039554934), (3484, 0.1442101159184), (4586, 0.1442095397285493), (2809, 0.14414259207273145), (41, 0.14413094962010076), (3184, 0.14411723649567496), (1783, 0.14411558872321156), (4539, 0.14411178100596467), (1034, 0.14408130050176704), (1632, 0.14405668081336195), (13, 0.1440066360957366), (4172, 0.1440044302498695), (1531, 0.14393314218328815), (4333, 0.1439096098191873), (3269, 0.14390784173429996), (23, 0.14389603274398965), (1439, 0.14378586544595628), (2056, 0.1437648648104175), (1887, 0.1437623617014616), (3257, 0.1437592619721506), (1176, 0.14374468972238463), (314, 0.14373903249794537), (64, 0.14372203486752932), (373, 0.14368367679508642), (334, 0.14364947314340346), (2328, 0.1436280438220919), (2204, 0.1435587951525447), (2133, 0.14355823684281332), (1378, 0.1435443980585793), (4745, 0.1435332966395712), (3406, 0.14351304891683436), (1185, 0.143445078707216), (40, 0.14344275727046352), (1578, 0.14337192131915044), (2293, 0.1433055905498245), (2459, 0.14327384992379538), (2471, 0.14327263845616073), (242, 0.1432417288675972), (175, 0.14318299277691166), (2260, 0.14317019102310394), (4776, 0.14311376499277226), (3925, 0.143094250314792), (150, 0.14309069325553456), (2524, 0.14305242634920567), (4246, 0.1430510300190201), (4671, 0.1430335766509186), (3643, 0.14299066340188096), (374, 0.1429381607775451), (2481, 0.1429380965150178), (4530, 0.14293335905713317), (2732, 0.14290682493344045), (19, 0.14279667484540434), (1385, 0.14277795083557082), (1363, 0.14274383676357777), (1239, 0.14269716335012736), (1192, 0.14262432935436858), (3296, 0.1425597908956946), (562, 0.14251651695478976), (762, 0.1424916678146366), (1536, 0.14242998882736638), (4295, 0.14241622607850274), (1266, 0.14241087321164395), (633, 0.14240062795885766), (1164, 0.14238794441299574), (1742, 0.14234359845895422), (3342, 0.14233218274726203), (2893, 0.14231093988140314), (4226, 0.14226724433979276), (4473, 0.1422151371133279), (1339, 0.14220089255975213), (669, 0.14218622736386352), (3597, 0.14215586935965233), (4012, 0.14215310783335688), (1651, 0.14214388973272615), (1175, 0.14209687188207376), (32, 0.14203867459805036), (2946, 0.14199927591914419), (2672, 0.14199699028242876), (3374, 0.14196176840450708), (710, 0.14192000007756786), (2027, 0.1418520890025349), (793, 0.14181702555844478), (1330, 0.1418154965162262), (2978, 0.14180180186874816), (136, 0.1417753351885651), (799, 0.1417565007334525), (2579, 0.1417124264091559), (2544, 0.14171052475208834), (720, 0.14165351190720435), (3083, 0.14164694734489142), (597, 0.14162715240078425), (2686, 0.1415860895073392), (2635, 0.14158102264387631), (1066, 0.14158053166868315), (1350, 0.14155067160821896), (3376, 0.14152605015352585), (4337, 0.14150268917116873), (411, 0.1414748300906669), (1549, 0.14146610940492688), (1340, 0.14144933527835005), (613, 0.14144710136014815), (1481, 0.14141354403013637), (4287, 0.1413845143477329), (3046, 0.141376112621561), (1113, 0.1413714631925727), (482, 0.14135366976514127), (2571, 0.14132673718528238), (221, 0.1412799824624468), (2529, 0.14127083465178905), (3293, 0.14124665408101852), (4166, 0.1412334716596673), (1313, 0.14121529098476535), (1770, 0.141171015267444), (1407, 0.1411556507648337), (1780, 0.14115219624260217), (3741, 0.14113537333977086), (94, 0.1411276606316978), (1817, 0.141064982597043), (453, 0.14100813308734594), (846, 0.14100346115086426), (2822, 0.14098293304956533), (3692, 0.1409212186398477), (1201, 0.1409077355340145), (399, 0.14090640137203167), (257, 0.1409036287009573), (4669, 0.14088277652158268), (4428, 0.1408340803904913), (4514, 0.14082685707068623), (4139, 0.14077693453274023), (3822, 0.14075800868650712), (3277, 0.1407381762577105), (2038, 0.14072741189484858), (503, 0.1407077789757799), (956, 0.14060987858236765), (1508, 0.14060553395665), (3592, 0.140603001471623), (407, 0.1405789103238617), (3885, 0.14054691091696211), (1206, 0.1405084945168261), (1977, 0.14050648000421345), (126, 0.1404977065327449), (68, 0.1404944287468791), (3890, 0.14043785413396956), (2578, 0.14043373863478448), (335, 0.14042010801524205), (1045, 0.1404042611099911), (693, 0.14039817893296774), (3595, 0.14039425549856885), (1329, 0.14038121604578008), (3162, 0.14034747700540018), (4092, 0.1403197638818996), (2447, 0.14026953700919867), (1139, 0.14024138158527336), (4083, 0.14019016330249423), (3456, 0.14017428609957466), (4132, 0.14016442225415396), (1750, 0.14016207597107322), (3611, 0.14013376867957505), (1231, 0.1401299334799851), (2852, 0.14012563597726224), (2559, 0.14012425529087194), (2425, 0.14011021521215544), (873, 0.14008994316401127), (1576, 0.1400734859051282), (646, 0.14005706724575637), (1804, 0.1400046882182621), (1570, 0.13997130506818103), (3201, 0.13996952000324708), (1245, 0.13996686597297817), (2533, 0.13993383255569794), (792, 0.1399217272533534), (81, 0.13991450127275618), (3886, 0.13990495679431922), (1000, 0.13982858616454036), (1812, 0.1397824690832131), (2407, 0.13977841572672764), (3772, 0.1397423253389868), (2671, 0.13967386906853682), (1111, 0.13966499406355257), (2061, 0.13966205217889374), (768, 0.13965292539308005), (3369, 0.1396149227334083), (2975, 0.13958737823353154), (275, 0.13958379679221786), (3424, 0.13956982266390158), (514, 0.13953504054344856), (2570, 0.1395058078930651), (3093, 0.13945634570979543), (24, 0.13943778842216084), (1646, 0.13942301725881667), (1484, 0.13941521108594773), (1975, 0.1394104923579242), (833, 0.13938739500748354), (3865, 0.13931144605355097), (202, 0.13931128361774542), (642, 0.13926348225207946), (495, 0.13922358470357032), (141, 0.13920801257916024), (293, 0.1392046620023168), (3691, 0.139163476250542), (2091, 0.13914337954110115), (668, 0.13914111638798965), (1177, 0.13912226718543994), (816, 0.13907882894607032), (4046, 0.13907857684295546), (29, 0.1390344341082242), (3052, 0.1389955231872018), (33, 0.1389565066653633), (1587, 0.13894078224143913), (3601, 0.13888995050652084), (773, 0.13886213479975568), (418, 0.138841825241106), (1507, 0.13882524272536667), (3828, 0.1387958877051358), (1456, 0.13879267575382018), (3198, 0.1387918335472923), (1252, 0.1387884938124914), (4189, 0.13878527036644095), (1599, 0.13866372310043848), (779, 0.13865608523016182), (121, 0.1386332227880955), (3698, 0.1386009398406426), (2377, 0.1385469220555725), (2115, 0.1385398745933672), (4781, 0.13849843162422207), (4507, 0.13848577665581113), (1423, 0.13848307150141437), (2651, 0.1384360566501411), (1372, 0.13843498821250189), (1078, 0.13840383529072386), (3425, 0.13840100921884857), (2750, 0.13836062428157297), (2003, 0.13835636151694897), (2945, 0.1383419932323474), (2605, 0.13831631638410893), (1607, 0.1383010406130968), (351, 0.13830026453846245), (4752, 0.1382883999947519), (4364, 0.13828688907396952), (556, 0.13827469322287825), (3404, 0.1382593413341624), (284, 0.13825369868342172), (1904, 0.13823970543096012), (443, 0.13821010816469367), (589, 0.13820993103064785), (554, 0.1381700739607625), (1494, 0.13815507530728074), (3224, 0.1381396132912077), (480, 0.1380798221714569), (2239, 0.13797948508323366), (570, 0.13794010632349085), (973, 0.1379392241372631), (1348, 0.1378953691931276), (2874, 0.13785652367002005), (757, 0.13782610091068653), (1151, 0.13773505389245594), (3247, 0.13771199404984424), (2083, 0.13763967288575826), (2048, 0.13760173586846758), (3588, 0.13759517965991777), (1351, 0.13759423242239657), (2448, 0.13754828794878246), (2736, 0.1375133887381725), (4371, 0.1374558913044578), (705, 0.13745322470174998), (468, 0.1373910036601241), (978, 0.13736046404879035), (1809, 0.13727886963846594), (1714, 0.13727191844741565), (489, 0.13727008130508098), (644, 0.13725333087604188), (3837, 0.1371526945944137), (4096, 0.13715015769429095), (3416, 0.1371463757018292), (434, 0.13710411881085802), (1119, 0.13705599852073197), (341, 0.1370475523561544), (752, 0.1369975247938927), (2191, 0.13698508047898095), (3537, 0.13696716685404875), (4397, 0.13696692080049766), (2611, 0.13694608448600346), (3994, 0.13685432072405126), (3439, 0.13681372710152964), (1668, 0.13674599404860743), (1615, 0.13674076663519394), (2733, 0.13673545889802025), (1672, 0.13662403848347865), (850, 0.13659375405451352), (535, 0.1365760276881171), (2215, 0.13656265255414157), (928, 0.1365527172944835), (3829, 0.13655068125581277), (2573, 0.1365504361382348), (1255, 0.13654058936948507), (616, 0.13652726035297583), (1076, 0.1365081104055413), (405, 0.13647050617854972), (912, 0.13646655434787996), (2849, 0.13645013407197581), (522, 0.13643422584019554), (1003, 0.13641011199601166), (804, 0.13636957415262815), (585, 0.13635773139579752), (2745, 0.13634330934324462), (3755, 0.13633926610927244), (278, 0.1361697909976216), (155, 0.13616563695780481), (72, 0.1361448602895899), (4010, 0.13611346644856312), (561, 0.1361122348583181), (3807, 0.1360518150054887), (3560, 0.13601224352454516), (1821, 0.1359757552596968), (2871, 0.13594791862379127), (1953, 0.13593935099996624), (4163, 0.1359342034259638), (3233, 0.13587579203534053), (3664, 0.13583343306061235), (440, 0.13583261189522383), (1212, 0.1357533306289289), (542, 0.1357245875133456), (2618, 0.13571500187774793), (1067, 0.13569349297767214), (4420, 0.1356913365540286), (837, 0.13568038200577853), (488, 0.13566037854855348), (1415, 0.13565755844530653), (1128, 0.1356497241943635), (34, 0.13561506104936571), (2630, 0.13560985263660943), (4310, 0.135605079930758), (907, 0.13560461320543674), (2546, 0.1355888937298603), (490, 0.13555015469617873), (3005, 0.1355415595978519), (590, 0.13553328709312867), (2103, 0.1354697469576134), (4347, 0.13542048950630875), (699, 0.13541690489852096), (3492, 0.1353947892573652), (2527, 0.13538834298121372), (2517, 0.13537826650920928), (316, 0.13532654772883929), (1728, 0.13531884298490632), (1540, 0.1352959665525091), (1973, 0.1352700186848553), (2232, 0.13525449846285856), (1636, 0.13516517715123394), (297, 0.13516104904983858), (9, 0.13514130131751279), (134, 0.13510102289267267), (3985, 0.1351008886849625), (1335, 0.13508660257085753), (4341, 0.13508493062152732), (2175, 0.13503725683641885), (2513, 0.13502725323990644), (241, 0.13501280524725354), (1992, 0.1350034798811943), (1021, 0.1349318642574352), (4739, 0.13492066445475503), (3234, 0.13491815111178726), (2805, 0.1349133342385984), (1086, 0.13488696668811764), (3761, 0.13488014018959654), (1257, 0.13487515372006878), (707, 0.1348732105589784), (472, 0.1348401561709152), (684, 0.13479656682462215), (2198, 0.13479190488302156), (1141, 0.1347824764201702), (369, 0.13477762198770912), (1763, 0.13471871153608286), (59, 0.13469742971762597), (3974, 0.13463567872217683), (3556, 0.1346174880286365), (2847, 0.1345961321955875), (1538, 0.13459393293437125), (4211, 0.13457744883625775), (746, 0.1344955006822713), (1648, 0.13444472512499575), (7, 0.13443532595555377), (3705, 0.1343850510910714), (1591, 0.13436444025589372), (3353, 0.13435685692002036), (2148, 0.1343192714659966), (3552, 0.1342635330154262), (1018, 0.13426092887436392), (2311, 0.13424826506367252), (77, 0.13423027461711973), (4331, 0.13422349936755706), (1717, 0.1342179379840248), (4062, 0.13417187829025445), (483, 0.13415613469982698), (1664, 0.13411201939543418), (4032, 0.13407354784567535), (2142, 0.13400929348779264), (3877, 0.13399013180482813), (4074, 0.1339782280492984), (1246, 0.13394160711747852), (537, 0.13393579106143494), (4352, 0.13393139977031346), (2995, 0.13392441985673106), (3480, 0.1338968004009976), (3596, 0.13386495011864302), (2206, 0.13384536229689456), (2402, 0.1338368994030386), (1437, 0.13380500449952212), (437, 0.13374388947332824), (1024, 0.13373471503507708), (4772, 0.1336749047137879), (2814, 0.1336377247799471), (2134, 0.13363685498102995), (1399, 0.13363445381143718), (1404, 0.1336116716490324), (4596, 0.13360363979376227), (3734, 0.133569778179466), (1850, 0.13354377003275192), (2794, 0.13352986686368015), (2114, 0.133477213696042), (1218, 0.1334557698814378), (4749, 0.1334362041629854), (2685, 0.1334156108813055), (4726, 0.1334113614272367), (1411, 0.13339399415652664), (629, 0.13338621531823963), (179, 0.1333514307349969), (3884, 0.13331253719154512), (3181, 0.13326762554775262), (4567, 0.1332520073578477), (2137, 0.13322503162830873), (3878, 0.13322321044716073), (3966, 0.13319700851869978), (3511, 0.13318469760943877), (430, 0.13318287043672572), (1711, 0.13317180996576078), (3434, 0.13315456793241398), (3045, 0.1331213092132794), (1213, 0.133108255793769), (2135, 0.133054496255125), (1710, 0.13300553265647586), (2186, 0.13299594803018758), (748, 0.13299050130411624), (2666, 0.13296594353145075), (1790, 0.13295749299903348), (3122, 0.13294172948159955), (1359, 0.1329065597577931), (3294, 0.13289221233356605), (2221, 0.13282372123754352), (2812, 0.1328200799456351), (3409, 0.13280398507233476), (1786, 0.13278274616293448), (295, 0.13278169053554953), (3188, 0.13277400550111748), (3821, 0.13273817654148584), (1406, 0.13272667581882014), (378, 0.13272630596100246), (3256, 0.13271732420210838), (2376, 0.1327156534227497), (620, 0.13263887450698836), (995, 0.13262368937871563), (2336, 0.1325752928462966), (309, 0.13256713161823183), (3635, 0.13256282543392822), (2111, 0.1325512173851176), (2483, 0.1325497839883823), (2141, 0.13254580366492005), (1708, 0.13252851541393224), (2424, 0.13252438514347334), (2511, 0.13251559809970453), (1671, 0.13251162217569068), (938, 0.1325039452481725), (402, 0.13249054329630588), (1598, 0.1324318865875385), (936, 0.13237594156263077), (3024, 0.13236229641710034), (787, 0.1323290412604067), (3109, 0.1323013811711185), (3253, 0.13228439764654637), (2888, 0.1322796472781427), (476, 0.13227336007423335), (517, 0.13221259019727977), (2677, 0.13215446406398224), (2803, 0.1321270754506953), (2918, 0.1321096697645131), (903, 0.13206243793633893), (4350, 0.13206138020880998), (1081, 0.13198084271789956), (691, 0.13198017760207956), (2033, 0.1318544390892518), (2759, 0.13185174670483157), (1828, 0.13184846014986903), (3749, 0.13180875465446762), (3964, 0.131715244801097), (3309, 0.13169351119801673), (568, 0.1316620445273756), (2053, 0.1316341257492872), (759, 0.13156650318209517), (1718, 0.13155833118747817), (3068, 0.1315243372778101), (1356, 0.13149249363887136), (1654, 0.131457673836251), (1367, 0.13145449230046513), (3987, 0.1314265473269864), (1020, 0.13134902656258957), (218, 0.13134011547679902), (346, 0.13130335397781592), (4043, 0.13128799865721202), (2547, 0.1312846532323249), (447, 0.13127119482254943), (1136, 0.13125277018975953), (2096, 0.1312446579323603), (2353, 0.13123845335022225), (4494, 0.1312373238600843), (3753, 0.13123002552943389), (1995, 0.13120994643646153), (1618, 0.13117730244696138), (3107, 0.13116976446486), (311, 0.13116029350709307), (2139, 0.1311528975817205), (1412, 0.13114399974259638), (2536, 0.13112803530442482), (530, 0.13102135577843627), (4402, 0.1310041134284764), (1645, 0.1310016306897602), (2258, 0.13098413047444848), (4195, 0.1309660211341286), (2545, 0.13088241271375534), (1123, 0.13086495844307197), (650, 0.13060564520407003), (3163, 0.13049189751288479), (2399, 0.13043802013353575), (2333, 0.1303654350162825), (1604, 0.1303548770108267), (2245, 0.13034142300775628), (3628, 0.13033939143619463), (2542, 0.1303038627825691), (4173, 0.13025490510535137), (929, 0.13023417924111702), (531, 0.1302303238472527), (1815, 0.13019243633932814), (3260, 0.13015797503796533), (1527, 0.13014041898007322), (3737, 0.1301305701153185), (3939, 0.13008867868835958), (2118, 0.12999992992536907), (1025, 0.12997865505936188), (2199, 0.1299514608102062), (2661, 0.12994317747817358), (2738, 0.12988520489586108), (3872, 0.12987870077087663), (1497, 0.12987816119709605), (712, 0.12986110676725868), (325, 0.1298454483476983), (1274, 0.12981248734360704), (722, 0.1298052894200385), (4344, 0.12980371488228495), (2350, 0.12977537785553353), (1147, 0.12976874644596953), (2639, 0.12974692462352577), (2046, 0.12974299432093156), (3338, 0.12973364983923485), (3576, 0.12970440849997092), (4170, 0.12970434632066838), (507, 0.12970079787835112), (3378, 0.12961732506314697), (3009, 0.12949470769610574), (2480, 0.12947291791443896), (3980, 0.12945408011667692), (4535, 0.12942416172259874), (1384, 0.12937603619016486), (2952, 0.12936898214460266), (1190, 0.12934989245236728), (1001, 0.129340296070558), (1302, 0.12931978259003024), (3075, 0.12930781848701595), (2057, 0.12926519358289962), (3003, 0.1292118090220189), (4237, 0.12916228619184159), (2807, 0.12910720177443044), (3000, 0.12909586361222522), (2988, 0.12905929798815083), (1999, 0.12905297915375907), (2718, 0.12903430573936772), (788, 0.12900177877059688), (2291, 0.12897885401852482), (3573, 0.12897146012366195), (4283, 0.12894637448296564), (1581, 0.1289285653384002), (142, 0.1289278392047889), (4201, 0.1289126545546405), (2564, 0.12890204673361183), (3607, 0.12881784526460163), (2253, 0.1287936209562416), (277, 0.12866661820719372), (1534, 0.12864816127960307), (1760, 0.1286269239313896), (1917, 0.12855012667083462), (1242, 0.12852787319288253), (1379, 0.128497323321947), (545, 0.1284841791552231), (4579, 0.12847593368838203), (1308, 0.128458394289872), (894, 0.12839942095498563), (4011, 0.12839489453158057), (2381, 0.12839121853400332), (1275, 0.12837800264526017), (388, 0.1283569666797807), (1036, 0.12835571313234387), (1172, 0.12831601329059308), (2193, 0.12820225624151507), (3281, 0.1281928219536764), (4738, 0.12816613340841182), (331, 0.1281537050700041), (3454, 0.12812048965719683), (2851, 0.1281147655053853), (3475, 0.12811272123920403), (1805, 0.12809642819415415), (1051, 0.12804186108993773), (2086, 0.12797911730953554), (3861, 0.12797574450696464), (1240, 0.12794440602234555), (1925, 0.1279403935991966), (1653, 0.12793553990547707), (1293, 0.12793361653218324), (1389, 0.12790314981395473), (3259, 0.1278687154206613), (1663, 0.12786657550760677), (2584, 0.127825378686806), (3782, 0.12781081461802546), (4723, 0.12780001390418802), (2740, 0.12777774986041815), (439, 0.12777112807451668), (949, 0.12774934289285325), (3684, 0.1277332927819935), (1818, 0.12769872623947812), (471, 0.12768943121329956), (771, 0.12757781199670282), (3624, 0.12757503399933534), (3797, 0.12745684806702778), (1625, 0.12743549286912245), (951, 0.12742633387028093), (4052, 0.1274143564500235), (3516, 0.12740155988379231), (4193, 0.1273984211518349), (1513, 0.12736633561219474), (700, 0.1273316070528899), (2043, 0.1273304294673039), (285, 0.12732307880368335), (2636, 0.12729237092591011), (826, 0.1272807926488143), (3867, 0.1272512872048688), (438, 0.12720357512141595), (2508, 0.1271637372737983), (2062, 0.12715963439506242), (2312, 0.12702098337222845), (4089, 0.12701312614471477), (3242, 0.1270039102820582), (3411, 0.1269857659927963), (2673, 0.12696376359730321), (1450, 0.12694378851893873), (1361, 0.12691535555428574), (1914, 0.12690842202514668), (3291, 0.1269052090675112), (584, 0.12690329511044748), (131, 0.126901043044127), (3153, 0.12686999744868546), (1320, 0.126796938805445), (2050, 0.12676282331948122), (3063, 0.1267552863701135), (1972, 0.12674667450952168), (3703, 0.12674473671594894), (1734, 0.12672621788713362), (3834, 0.1266970765783782), (4100, 0.12668374570891844), (622, 0.1266801898388546), (3417, 0.12665914488442312), (2301, 0.12659139064707037), (463, 0.12657871039792876), (2158, 0.12656784032354249), (3427, 0.12655538502840935), (84, 0.1264682182430206), (1186, 0.1264498788147371), (2862, 0.12641483881853716), (1005, 0.12633187670069618), (2832, 0.12633132459668134), (2384, 0.1263035295377827), (2185, 0.12629412873804888), (3891, 0.1262179999497072), (189, 0.12619379382489182), (1210, 0.12618085488163674), (2522, 0.12613487452087147), (1721, 0.12612728382124874), (1154, 0.1261252756385861), (3490, 0.12610852702201888), (839, 0.1260468095219089), (1282, 0.12603819769273236), (2334, 0.1258954702615741), (3111, 0.12586897071946498), (4298, 0.12585092102422102), (1053, 0.12582737951014458), (3518, 0.12582243598595874), (217, 0.12582030697886687), (2, 0.12579514611575066), (1693, 0.12579263662535822), (2051, 0.1257352453037006), (2138, 0.12572802538500458), (555, 0.12571620128226949), (1369, 0.12570346914171648), (475, 0.12570180935048425), (1035, 0.12568340202240352), (1146, 0.12566375554040674), (4257, 0.12559462563916288), (2950, 0.12556264720170107), (3764, 0.12552552339127568), (4216, 0.1254943870342561), (2039, 0.1254890656071804), (3751, 0.12547727856131763), (3627, 0.1254488384886312), (2184, 0.12544045769639253), (3002, 0.12543523271824852), (3680, 0.12542853211772043), (2084, 0.12541761470914214), (2319, 0.12541613646955924), (3733, 0.12541143106322614), (2243, 0.125384142480644), (1998, 0.12528100036178694), (4183, 0.12527785819981427), (1297, 0.12524808973210969), (3903, 0.12524123398351175), (2320, 0.12517063122326566), (4649, 0.12515284778877986), (1289, 0.12513355231934936), (3983, 0.12510500413149905), (1490, 0.12509841260466656), (1326, 0.12508437050488563), (3609, 0.12508233196117735), (1996, 0.1250614358420366), (228, 0.1250464524854454), (4078, 0.12496654864718983), (1084, 0.12495370454761723), (2782, 0.12490888146348392), (1854, 0.12489185620567599), (892, 0.12488525471665118), (1216, 0.12486264313999859), (1452, 0.1248583546675312), (4516, 0.12479236939860452), (393, 0.12478252395008348), (2905, 0.12474411350002598), (3040, 0.1246753413062028), (687, 0.12467484289172784), (4302, 0.12467390080328997), (2811, 0.12466690787091893), (3604, 0.12466286797700896), (2986, 0.12466027628611069), (135, 0.12464223480720533), (2818, 0.12463873290813882), (1017, 0.12457706726064002), (3860, 0.124567985999627), (187, 0.12456137257592938), (940, 0.12454602513290926), (3150, 0.12450689350545686), (4218, 0.12443270845486869), (3250, 0.12440815943523864), (1928, 0.1243736180048221), (1160, 0.12435342073277135), (2474, 0.1243353996358366), (2269, 0.12430439728176924), (2647, 0.1242893296493441), (1819, 0.12427982495000872), (4321, 0.12424564524279279), (1396, 0.12421192704447676), (627, 0.12421151542626915), (2431, 0.12411929781576224), (2831, 0.12410784207416722), (3685, 0.12410666849229425), (3168, 0.12407078271623156), (2073, 0.12407022503727107), (2021, 0.12403918438086904), (2026, 0.12399972709702375), (2095, 0.12388206957922474), (2654, 0.12382306313450946), (874, 0.12376310344049639), (2586, 0.12375778857476392), (1643, 0.1237346618175569), (4666, 0.1237034543393918), (527, 0.12367917120770341), (2784, 0.12363863417801564), (3928, 0.12363144490104701), (2323, 0.1236282274587878), (406, 0.12361177252988591), (1692, 0.1236078022552894), (3988, 0.12352057392618641), (1606, 0.12346556013342799), (984, 0.12341095483477853), (11, 0.12340265601070877), (358, 0.1233714657512828), (1532, 0.12336347963012152), (1642, 0.12336147673112142), (398, 0.12336093407858566), (2936, 0.12329290859023563), (4260, 0.12327165592334707), (444, 0.12323993018221224), (4793, 0.12319549794757514), (2829, 0.12318124452594222), (697, 0.12316722666604243), (2729, 0.1230353201693476), (4129, 0.12303161453551678), (2093, 0.12299985072283659), (1386, 0.12298808443191624), (1577, 0.12297864644915918), (1855, 0.122977777855327), (1336, 0.12294004295303816), (210, 0.12293197493224377), (38, 0.12291658033212076), (4182, 0.12291384262401166), (2669, 0.12287484263764026), (469, 0.12284906602343892), (397, 0.12280450507362836), (1047, 0.12276151083012041), (105, 0.12272641613717311), (3854, 0.12270948546962424), (404, 0.12270626702208262), (1184, 0.12268987390814204), (954, 0.12266668074075131), (321, 0.12261639442106606), (4373, 0.12253211436825431), (3312, 0.12252900441994719), (2054, 0.1225194873326714), (1813, 0.12248472448170905), (4489, 0.12248427667550055), (1931, 0.12247630309634064), (2441, 0.122467357805135), (4576, 0.12245267030820638), (847, 0.1224099209092906), (2207, 0.12238270867079755), (22, 0.12237147647895297), (842, 0.12234384247661921), (3217, 0.12233031605816144), (2800, 0.12229837480992237), (3763, 0.12228034898751597), (256, 0.1222765874751308), (4452, 0.12226745283044384), (1743, 0.12223056020767158), (1370, 0.12222481093823341), (1193, 0.12220523885712353), (3462, 0.12220202968300835), (2371, 0.12219748510854225), (4525, 0.12219079743802579), (2836, 0.12217505718740979), (3137, 0.12214709273175628), (258, 0.12214646945129666), (4320, 0.12214531833536425), (3644, 0.12213945873941806), (2124, 0.12213576394658214), (2132, 0.12208608844284824), (680, 0.1220743464060843), (891, 0.12206816049761297), (4340, 0.12201988923350791), (1482, 0.12196458978830693), (732, 0.12194612554231254), (2451, 0.1219154829331205), (353, 0.12189563331416538), (4167, 0.12186545188637951), (3704, 0.1218340237648474), (4495, 0.12180521697778113), (1234, 0.12176913992717948), (233, 0.12176218012719078), (1182, 0.12173219223743229), (1463, 0.12166163466487127), (1888, 0.12163823407783543), (441, 0.12157330224412564), (4518, 0.12156210383113786), (2921, 0.12153727013172284), (920, 0.12146793069911067), (2664, 0.1214208374377667), (2534, 0.12140828234633956), (675, 0.12139765550075615), (2343, 0.12137329508875637), (2120, 0.12136638513608304), (2220, 0.12132042435100152), (4483, 0.12131172691533905), (3030, 0.12124484767115276), (887, 0.12124122879970775), (4224, 0.1212345226377414), (1759, 0.12121787919306762), (1580, 0.12119457068125203), (3399, 0.12115489273412096), (3895, 0.1211522415286084), (449, 0.12105290709731184), (825, 0.12102652145038477), (3978, 0.12096897684854861), (4391, 0.12096431107031137), (1689, 0.12095670448709324), (789, 0.12093721825650333), (1004, 0.12093408286740494), (2757, 0.12091961406438385), (4245, 0.12079063658700948), (324, 0.12075709352646606), (3219, 0.12073669301484134), (79, 0.12065949265578804), (1334, 0.12063188795879155), (1032, 0.12062547169713077), (4533, 0.12058365046770607), (3719, 0.12057029181557252), (3920, 0.12055964922130674), (1391, 0.12055142026369148), (1810, 0.12051839757232445), (3529, 0.12050632763348842), (1483, 0.12050548250666765), (3524, 0.12049116497664636), (734, 0.12048827765423067), (1688, 0.12045495383821515), (549, 0.12042239621649746), (340, 0.12041367515179634), (1611, 0.12039705416624881), (448, 0.12039507683496702), (3549, 0.12037825337650998), (993, 0.12032453114355471), (2275, 0.12031333991240734), (3360, 0.12023351382389001), (4746, 0.1201941972950053), (3033, 0.12019345895669513), (3214, 0.12018413604689981), (3905, 0.12017629183470996), (930, 0.12017304975343031), (848, 0.12017161111521482), (609, 0.12017105018013333), (458, 0.12017003518218661), (4696, 0.12012487630086843), (4348, 0.11999686184450867), (658, 0.11994624989976124), (4191, 0.11992220078213414), (414, 0.11991532547101294), (3545, 0.11990536042371945), (1431, 0.11988675113639438), (3991, 0.11988549853757421), (3944, 0.11984511194564688), (3862, 0.11983557207374465), (1845, 0.11980942372437547), (3599, 0.11980263768114302), (371, 0.11979538889199061), (2432, 0.11979490913475857), (2419, 0.11978716398973445), (610, 0.1197678858889456), (3765, 0.11976658547616807), (3463, 0.11973510278931383), (619, 0.11973418726480521), (3932, 0.11969858675524925), (3616, 0.1196198625002869), (2971, 0.11959205549287247), (450, 0.11956253681003111), (1461, 0.11954153651249813), (1397, 0.1195069091274916), (1723, 0.11947807316910858), (2958, 0.11945908069948247), (3187, 0.11942704567313636), (4063, 0.11935616453490935), (2737, 0.11934876022131112), (3209, 0.11931264931731009), (70, 0.11927961065098346), (4053, 0.11925273639271973), (2575, 0.11918555722862166), (709, 0.11916164564489602), (800, 0.11915525993650103), (2040, 0.11914272390655516), (1794, 0.11913740834556641), (2919, 0.1191025016124237), (761, 0.11902055367380086), (1724, 0.11898029578388386), (1007, 0.11896475735866426), (4774, 0.11896035686876723), (681, 0.11894785300190318), (2720, 0.11894220708217523), (3481, 0.11891035631538636), (2016, 0.11887615525236922), (1298, 0.11883679857663403), (2383, 0.11883264492705135), (3795, 0.11881555741223207), (1890, 0.11873856110897729), (229, 0.11873057072519487), (3365, 0.11870796944702738), (511, 0.11870771943374622), (851, 0.118707083225938), (3375, 0.11863417176445583), (721, 0.11861501582528165), (318, 0.11860083557746293), (1555, 0.11859719768298486), (1038, 0.11855870029253206), (1217, 0.11854044368387331), (914, 0.1184349229631339), (2147, 0.1184173819488954), (74, 0.11838246384671144), (457, 0.11834211080445177), (976, 0.11831835811523041), (3539, 0.11820248317128523), (2210, 0.11820137810282519), (97, 0.11819950530753172), (3266, 0.11817995790680985), (2339, 0.11815500722503032), (1445, 0.11814529545709453), (3275, 0.1181126392395861), (2929, 0.11811190390624035), (1085, 0.11808514901151346), (1473, 0.11808408632151425), (2719, 0.11804298792260765), (2734, 0.1179997688150351), (775, 0.11797731683944349), (3138, 0.11797421638612259), (925, 0.11796662094350113), (4194, 0.11796327297070072), (18, 0.11795352837699571), (4349, 0.11794783039244648), (2478, 0.1179089666815986), (2327, 0.11788032473988068), (906, 0.11786493647248636), (1575, 0.11783142494751649), (731, 0.11781266727443204), (1715, 0.11776360067794113), (3472, 0.11775394856954359), (4058, 0.11775296941476511), (1459, 0.11771076515516808), (1443, 0.11768931003825017), (1219, 0.11768870092421341), (538, 0.11764701441609063), (2788, 0.11762275262139726), (3459, 0.11749010460970302), (190, 0.11747041846762984), (4327, 0.11746447700020007), (1703, 0.11740836494353529), (48, 0.11737275756527225), (3133, 0.11735411417541876), (3136, 0.11730814783945501), (4286, 0.11729859889849506), (2400, 0.11725672317454257), (4470, 0.11724243566917852), (171, 0.11724138889040525), (99, 0.11716794305825347), (2741, 0.11716536546599265), (2310, 0.11716492937885237), (2019, 0.11714499739300009), (2263, 0.11714209957785507), (641, 0.11710255235783987), (1059, 0.1170115573124679), (206, 0.1170037753771182), (1174, 0.11695292128879087), (2146, 0.11694723865203482), (3954, 0.1169304793493163), (2417, 0.11692732788706298), (3851, 0.11692576098929519), (1158, 0.11692304935698188), (515, 0.11690798051474814), (4654, 0.11689922286383679), (2219, 0.11681875865647273), (2100, 0.11679296752305174), (1945, 0.11673479603032771), (4604, 0.11673379945088627), (2453, 0.11671117505787672), (910, 0.11667902886943282), (2365, 0.11667406571171006), (1043, 0.1166740561388423), (4447, 0.1166623148918162), (607, 0.11662843106009162), (377, 0.11661060542472426), (2058, 0.11660134955331414), (1303, 0.11654945554883411), (3086, 0.11654496354277612), (1858, 0.11648956940568893), (817, 0.11648602334020886), (2113, 0.1164678684575154), (2996, 0.1164665436661611), (3602, 0.11638393779179544), (3421, 0.11638134608635549), (1989, 0.11636173467979288), (2396, 0.1163360270940881), (3559, 0.11632245104796501), (965, 0.11629591113005759), (4606, 0.11629326482375535), (3175, 0.11628741419267245), (2603, 0.1162814768238054), (3413, 0.1162762515755462), (3561, 0.11626888681423168), (2128, 0.11617355302614138), (895, 0.1161717193928745), (1832, 0.116169317112704), (2303, 0.11616363600369947), (2496, 0.1161102147897926), (719, 0.11608459963308783), (2915, 0.11603871821817552), (1669, 0.11603450169567317), (2080, 0.11602381216227055), (2700, 0.11600817835494609), (3362, 0.115991380951174), (2872, 0.11598894971619561), (3104, 0.11598862169678227), (3008, 0.11598636035982333), (3449, 0.11591162120240996), (1263, 0.11584626740618013), (153, 0.1158158779476358), (1605, 0.11579306321503259), (559, 0.11577260898194867), (3301, 0.11575498479026897), (3010, 0.11575167261252389), (4153, 0.11571581452765167), (3391, 0.11570873029275056), (1894, 0.11569917793497764), (1030, 0.11565893636280786), (1959, 0.11564996624220585), (2413, 0.1155420970390758), (3420, 0.11553159667641989), (3662, 0.1155244858748304), (4497, 0.11550526445546434), (2387, 0.11547598947428993), (760, 0.11542736765168438), (1314, 0.11534407509756006), (86, 0.11532919243095756), (877, 0.11531896791833893), (3675, 0.1153105226323374), (4291, 0.11525507011539902), (1498, 0.11522936874252983), (883, 0.11521669204810213), (1220, 0.11520258150353783), (999, 0.11516898639708682), (1908, 0.11512872740424687), (581, 0.11505683230962964), (1739, 0.11503533204946786), (1092, 0.11503516259573564), (1768, 0.11502198859202545), (1649, 0.11501970548360813), (3222, 0.11500753267394455), (1307, 0.1149852216779635), (1782, 0.11492155445694195), (3041, 0.11490297783107777), (3019, 0.11488974897225104), (2012, 0.1148671092992661), (1881, 0.11486332141869518), (2577, 0.11480548151782216), (3826, 0.1147975937080947), (2682, 0.11479207874081289), (3390, 0.11478913963071985), (3899, 0.11478397464421933), (3195, 0.11475567684232148), (45, 0.11473020185984527), (1849, 0.11472553781236003), (289, 0.11472308278419824), (1251, 0.1146870646583379), (3468, 0.11467838607902803), (683, 0.11464693092554587), (21, 0.11458659383342562), (2657, 0.11451454905325172), (1764, 0.11448865437036439), (1233, 0.11446579480407797), (1057, 0.11446118927154024), (2602, 0.11441903531195424), (1109, 0.11441180045149317), (1194, 0.1144093648419905), (3347, 0.11440517394246306), (982, 0.11438639421002034), (3690, 0.11438529935621393), (3546, 0.11437524751781013), (3012, 0.11437235185285322), (2947, 0.11435426370581747), (4480, 0.11432749196308292), (2993, 0.11428165156629289), (3320, 0.11426900656664139), (308, 0.11426588645480769), (1622, 0.11426522509600516), (2817, 0.11426261900709613), (1877, 0.11424121657946684), (3775, 0.11423772940141219), (1517, 0.11421945487572208), (3244, 0.1142020985109426), (3572, 0.11419217430488399), (1279, 0.11417457306457403), (599, 0.11415136438215764), (2131, 0.11411241377013634), (911, 0.11407291608334243), (236, 0.11405127522897392), (2877, 0.1140360148793492), (2979, 0.11396630988470242), (2270, 0.11395361429357853), (2313, 0.11389818069802321), (3108, 0.11389327048437572), (320, 0.1138619603135553), (676, 0.11385167694925465), (896, 0.11378803606463284), (362, 0.1137840067881604), (170, 0.11377390308101075), (132, 0.11373668967239844), (3930, 0.11373350100659804), (543, 0.11371806126537488), (766, 0.11369390805931964), (203, 0.11368372546974982), (1773, 0.11365019063690592), (2052, 0.11364206422708215), (3598, 0.11364169166386365), (595, 0.1136029503311708), (496, 0.11350842561905845), (1802, 0.11350675730846758), (2386, 0.1135033990001974), (4151, 0.11346847804416763), (1264, 0.11340009710509952), (1392, 0.11338330011576868), (4392, 0.11337340507517116), (512, 0.11335805486912645), (1183, 0.11333137505011517), (1082, 0.11331630324345096), (1501, 0.11329720386804468), (3989, 0.11327822344144683), (1107, 0.11323825551610459), (1916, 0.11319874862169937), (3097, 0.11317937334303092), (611, 0.11313911021522692), (1939, 0.11313113276050654), (855, 0.11310867202383726), (858, 0.11310354872426585), (3123, 0.11310138328572447), (4529, 0.11308367964155418), (575, 0.1130506646757929), (182, 0.11304788975541569), (2244, 0.11297456642464884), (1202, 0.11297361603903555), (1224, 0.11294441750910042), (2977, 0.1129439508648622), (1565, 0.11284326422310824), (1496, 0.11279335584242946), (1214, 0.11276756395785503), (1229, 0.11270573210527782), (2078, 0.11266382666664482), (3574, 0.11263219111731668), (3240, 0.11262612294152297), (3683, 0.11259729003924085), (36, 0.11257925274000312), (997, 0.11257606549212418), (2345, 0.11257529125732324), (735, 0.1125695807892633), (1451, 0.11256291188371213), (1797, 0.11253975615744326), (2216, 0.11253521485704088), (3582, 0.11249200663970575), (1706, 0.11245578787636784), (3446, 0.11243437665519221), (247, 0.11238854762916552), (1806, 0.11237009706706486), (648, 0.11227341330232142), (1227, 0.11226305992052582), (3914, 0.11224179974520684), (1923, 0.11221424838408763), (4137, 0.11217161196565421), (75, 0.11216768581369504), (3819, 0.11209007108757359), (960, 0.11208392584955107), (3649, 0.11208343425426538), (283, 0.11208215360489995), (1829, 0.11205507322959966), (3006, 0.1120359049869215), (615, 0.11202954208802982), (729, 0.1119603394718931), (102, 0.11194256747387694), (3398, 0.111924139275288), (2939, 0.11184299827918824), (890, 0.1117789516038565), (988, 0.11177815444887577), (2308, 0.11177170783310889), (1853, 0.11175703819024654), (2526, 0.11174990282630673), (4128, 0.11173696078365496), (2286, 0.11170248750105245), (3119, 0.11169929814328029), (1254, 0.1116959962987808), (3094, 0.11168616339849048), (3780, 0.11167846555207016), (422, 0.11159202900801898), (1747, 0.11150863879004098), (1162, 0.11148963925623735), (2408, 0.11141323449044103), (2582, 0.11141279129343164), (3658, 0.11140018429312509), (2112, 0.11137846932792231), (3386, 0.11137807634586004), (902, 0.1113482194428426), (4135, 0.11134307471694484), (1792, 0.11131060499026203), (244, 0.11129813013884501), (291, 0.11126152373495485), (2917, 0.11125056275259264), (1470, 0.11122853993315938), (4326, 0.11115645426580406), (548, 0.11113937310323875), (4427, 0.11111477429468837), (3571, 0.1110569742842443), (1952, 0.11104836830239802), (60, 0.11102337769542081), (2684, 0.11099630169700744), (1514, 0.11098416102698636), (4778, 0.11097991360703631), (2535, 0.11096231508657742), (4446, 0.11093863954570972), (2489, 0.11090681222346319), (749, 0.1109042340732348), (996, 0.11090093534707342), (727, 0.1108961181920767), (1791, 0.11085852911530476), (1454, 0.11085212025045643), (2228, 0.11081695335458536), (2002, 0.11080607231609794), (1299, 0.11079554226421437), (1462, 0.11079452663321095), (1049, 0.11070324553541376), (3477, 0.11066718380515554), (3062, 0.11065991329767519), (3141, 0.11063390815877969), (1666, 0.11056946293528393), (222, 0.1105674710321919), (926, 0.1105210300326964), (1837, 0.11050667101352268), (1552, 0.11048620551184501), (1911, 0.11039972753852258), (3619, 0.1103969976831205), (1436, 0.11039222726067653), (1365, 0.11035706741857887), (1620, 0.11034350035599504), (3902, 0.11033614769255315), (3231, 0.11030214450747935), (3975, 0.11027183832888517), (2195, 0.1102631402923184), (372, 0.1102259745251848), (758, 0.11019559126697538), (237, 0.11016935260999854), (2565, 0.11010445608508453), (4675, 0.11004884130243624), (4061, 0.11002516354489886), (2153, 0.11002470385986933), (4476, 0.11002306746533284), (1927, 0.11000516976192487), (3279, 0.10992495225666342), (2592, 0.10990801304328332), (2044, 0.10987626403436926), (2766, 0.10986656422663749), (167, 0.10984523957037039), (4643, 0.10982115457585385), (2597, 0.10980943158771599), (389, 0.10979185593842641), (44, 0.10977529999325102), (2168, 0.10976194224675344), (3612, 0.10970750116636416), (2495, 0.10970163450148217), (4319, 0.10967854960708426), (550, 0.10957552021645392), (2047, 0.10953376574617539), (832, 0.10953106240388354), (1978, 0.10951386978945452), (2870, 0.10949382579233954), (601, 0.1094931731074091), (3557, 0.10949239409383212), (192, 0.10948526425691159), (1430, 0.10946853580168563), (3919, 0.10943979616327329), (3070, 0.1094296679017547), (1409, 0.10942601262973717), (1457, 0.109421414109601), (4733, 0.10941239223344451), (4390, 0.10940703830474474), (2473, 0.10940213134327666), (2155, 0.1093537164139188), (915, 0.10933706639460605), (2066, 0.10931669209775974), (1736, 0.10930363961932688), (1787, 0.1092857564305419), (4677, 0.10928570902209678), (2839, 0.10928165106850506), (487, 0.10923302168300562), (2307, 0.10921358923380071), (1364, 0.10917272847537461), (2868, 0.10915686978056956), (2160, 0.10913239041981641), (2354, 0.10912625156240167), (1444, 0.1091248796691651), (3329, 0.10911182876168653), (2676, 0.1090903656662519), (219, 0.10907251274879613), (2105, 0.1090564176465387), (4545, 0.10904652914915765), (1981, 0.10903285051970721), (456, 0.10890896565086325), (2234, 0.10884961073265147), (4388, 0.10884493848975577), (1873, 0.10883085713804702), (1993, 0.10882426365459388), (2645, 0.10876855752285874), (2394, 0.10874792629951192), (2595, 0.10871907826752056), (1316, 0.10867754536978051), (918, 0.10863450627703539), (603, 0.10862691901427622), (392, 0.10862641020446094), (4608, 0.1085964581097109), (2703, 0.10858567460503664), (2749, 0.10858252784787481), (1976, 0.10857366802447267), (3085, 0.10855680452601617), (1323, 0.10854889354072392), (3483, 0.10848762120358464), (253, 0.10847953347865563), (2994, 0.10846151053563112), (1811, 0.10844915393649854), (3318, 0.10844559463987033), (251, 0.1084105330901154), (2566, 0.10840681869440426), (1428, 0.10840396187818666), (963, 0.1083950809278306), (994, 0.10831523711441265), (2090, 0.1082981702567386), (3543, 0.10827446995645287), (3124, 0.10826265686558692), (871, 0.10825705265239327), (1278, 0.10823114214161349), (790, 0.10821348147739936), (4114, 0.10815770334197651), (3725, 0.10811512132587439), (2930, 0.10799785084285748), (670, 0.10798803430663764), (1571, 0.10798104337218148), (1629, 0.1079318667027741), (2418, 0.10793156808423032), (508, 0.10789276331068716), (1712, 0.10786975029473998), (4368, 0.1078409333377179), (62, 0.10780362582165988), (1562, 0.10779431315601053), (4214, 0.10778530942321389), (1345, 0.10777981852911041), (2445, 0.10771053596114204), (2255, 0.10770140401507383), (3389, 0.1076913285520978), (2361, 0.10768982896697206), (1745, 0.10763802198374378), (3827, 0.10763762508106704), (4758, 0.10762430733321794), (1440, 0.10762384170157734), (1211, 0.10757389737571182), (1659, 0.10756267831636089), (3715, 0.1075330722748774), (3332, 0.1075109471218612), (901, 0.10750377466496668), (3341, 0.10750055761216226), (2276, 0.10749214184498569), (1875, 0.10745664681549405), (3235, 0.10745050131532295), (3584, 0.10740596631137718), (919, 0.10740078378557391), (3630, 0.10733067502481672), (4432, 0.10729909833501974), (347, 0.10728116011464969), (3629, 0.10722526246110162), (481, 0.1072047423088473), (2092, 0.10719007862863322), (2359, 0.10716056151923009), (400, 0.10713493782859786), (2704, 0.1071078026781343), (137, 0.10703798282389439), (2633, 0.1070236449580101), (1097, 0.10701966789092807), (774, 0.10697559135169901), (4443, 0.10694316546608917), (2901, 0.10690998043374644), (948, 0.10689626566390904), (3811, 0.10682684963304948), (1796, 0.10681786897966403), (366, 0.10681594412754211), (306, 0.10677611363487668), (3152, 0.10676412810430928), (3769, 0.10674257260298325), (3381, 0.10672988754367568), (71, 0.10671470970594488), (1236, 0.1066969896518532), (2563, 0.10669401089999904), (3570, 0.10669028027614993), (3441, 0.10667324194457709), (4127, 0.10659830806355934), (1417, 0.10650396420414047), (880, 0.10649518654820221), (3264, 0.10648683669386304), (2614, 0.10642851034766203), (2392, 0.10632611628678164), (798, 0.10625395149156372), (783, 0.10624344519168309), (2326, 0.10617662884553944), (3212, 0.10614856053003284), (2702, 0.10613142957369433), (2212, 0.1061195154861853), (1419, 0.10609759843704332), (1929, 0.10606847456655326), (608, 0.10605485096838434), (4498, 0.10602621534398227), (1362, 0.10602447478995662), (3859, 0.10596065727422181), (259, 0.1059330893400737), (685, 0.10593282669554802), (1864, 0.10587367462406926), (523, 0.1058622732559376), (1265, 0.1058341991913213), (4357, 0.10582654991891553), (1510, 0.1058253914834313), (518, 0.10579144715989856), (2279, 0.10578379821544942), (4594, 0.10577496872991196), (3637, 0.10570511387933056), (3099, 0.10568717933105354), (1735, 0.10567130278063054), (3650, 0.10566319025796347), (630, 0.10561202563880312), (223, 0.10559619159222716), (2172, 0.10558172576566904), (1740, 0.1055415156997697), (3165, 0.10553639750605756), (3711, 0.10552437166283535), (2940, 0.10551861242422746), (1699, 0.10550133061792848), (1424, 0.10548347491066278), (3652, 0.10547102035389348), (764, 0.105455868815651), (1222, 0.10544318101213593), (3282, 0.10541014356139881), (4659, 0.10539824142146274), (3824, 0.10536856380660929), (4742, 0.10533544426930032), (1197, 0.10530686859877074), (2518, 0.105276871651051), (1388, 0.10524887280007973), (2873, 0.10512988802296105), (1793, 0.10512309726536324), (4247, 0.10507498288877515), (1312, 0.10500840640976795), (2482, 0.1049767650547086), (2576, 0.10493514359893669), (1395, 0.10491760881402949), (1327, 0.10478344674899237), (2470, 0.10478108011780837), (3486, 0.10475200559653768), (4219, 0.10473001714553663), (1429, 0.10471036276025966), (4728, 0.10470591832612564), (3026, 0.10448468170794344), (2980, 0.1044655610208215), (1566, 0.10446211380107351), (831, 0.1044270582538885), (814, 0.10442691672965786), (2088, 0.10437919945179785), (4133, 0.10426734904644115), (4449, 0.10424893096510672), (888, 0.10423506401765534), (1621, 0.10421502535541952), (1071, 0.10420519488545721), (4325, 0.10419508758861397), (664, 0.10416343841040071), (3186, 0.10405843090185357), (1487, 0.10398263166750309), (2755, 0.10389414040820487), (2688, 0.10389122618760568), (3820, 0.10388773846861078), (1836, 0.103861351760731), (1259, 0.10384965951028723), (2410, 0.10379926251198414), (2288, 0.10377451621917158), (656, 0.10376132505435115), (3100, 0.10374486937091514), (2144, 0.10372868829222354), (1093, 0.10366583066894097), (639, 0.10364807567740969), (4709, 0.10361809825974251), (2998, 0.10358546577390342), (3779, 0.10357359504929929), (3287, 0.103555122791677), (1848, 0.10353555685191813), (2154, 0.10346772235883438), (632, 0.10345887019249986), (2229, 0.10336981605461582), (1301, 0.10336350963414483), (3794, 0.10332897464337301), (2583, 0.10312609623805177), (83, 0.10312053464829475), (3001, 0.10307026266650868), (3081, 0.10306732338066982), (3361, 0.10302909906842758), (1343, 0.10299649949727928), (3998, 0.10299445783434248), (2987, 0.10296852224258052), (3505, 0.1029462256778721), (4050, 0.10292291153395958), (51, 0.10291730659474714), (745, 0.1028486670559906), (250, 0.10276299236517966), (376, 0.10273289943627477), (3058, 0.10273189047840253), (4411, 0.10273074666424113), (2763, 0.1027220496388981), (3098, 0.10271244799962956), (173, 0.10264042298789182), (4204, 0.1026057707875783), (3428, 0.10259768591354), (2420, 0.1025846994936153), (663, 0.10256818968751244), (3146, 0.10256066948049522), (2004, 0.10253006235787726), (3842, 0.10249936061519316), (2992, 0.10248574514129206), (2150, 0.1024843258633172), (3356, 0.10244399448144374), (1602, 0.10241169759013495), (4008, 0.1024111491863672), (979, 0.10238730980075823), (1823, 0.10236771036147731), (1726, 0.1023161294878717), (1830, 0.10230832154373364), (67, 0.10230816111111007), (3084, 0.10228132512153874), (4734, 0.10227870636915093), (1453, 0.1022384104805748), (909, 0.10219684354986258), (3785, 0.10218094593582447), (1371, 0.1021768870442011), (1485, 0.10212894949400646), (3346, 0.10209337484889403), (1037, 0.10206369187549143), (1422, 0.10204042510468887), (2023, 0.10199981973264964), (1346, 0.1019728167013115), (4703, 0.1019295054933666), (1179, 0.10191016191295006), (567, 0.10190207522599101), (140, 0.1018802572239062), (1209, 0.10185553110262195), (3648, 0.10185284865406116), (4439, 0.10179131908466005), (1416, 0.1017741069917463), (1476, 0.10168768267581295), (2845, 0.10165295697082069), (1660, 0.10164315922120373), (3447, 0.10158734968384721), (1140, 0.1015873166709598), (1058, 0.10155172162672196), (205, 0.10154716117691484), (4263, 0.10154684744450318), (2140, 0.10151588323308633), (3542, 0.10146405080317301), (1247, 0.10143150505767917), (1091, 0.10141371133920402), (4125, 0.10138693820664045), (1601, 0.10138552500457364), (1892, 0.10130322733489197), (1788, 0.1012971479338504), (4375, 0.10128374561130223), (586, 0.1012787979991949), (3364, 0.10126817894524964), (4276, 0.10125926054187191), (1550, 0.10124794647778265), (3657, 0.10123971091267764), (4730, 0.10123472934856778), (1325, 0.10121230659200388), (224, 0.10118582253199725), (58, 0.10114162674033128), (1116, 0.1010874619728301), (2340, 0.10108151420910709), (4177, 0.10107128970060997), (2616, 0.10105493586289356), (2786, 0.10100049555174263), (164, 0.10091219513402228), (1589, 0.10088089035278622), (3042, 0.1008191491596555), (2364, 0.10070194872441152), (1050, 0.10066974590184843), (3713, 0.10063577657735923), (4022, 0.10061496619024562), (500, 0.10060702945236619), (2162, 0.10059155074916523), (2859, 0.10057047929581701), (878, 0.10052164004952407), (4179, 0.1005129815323494), (466, 0.1004597584420806), (1489, 0.10044065981012108), (3394, 0.1004055410385887), (1674, 0.10039341505084533), (2342, 0.10038532878908137), (1310, 0.10028026054407285), (2129, 0.10024803660410272), (2414, 0.10024536433523568), (2689, 0.1002282297543236), (3548, 0.1001373882023884), (4240, 0.10011295929084488), (4282, 0.10010397893111203), (315, 0.10005007815810762), (1733, 0.10004058404605143), (1868, 0.10002846196220827), (723, 0.10002608880973393), (2357, 0.10000081586379475), (1262, 0.09980229974628083), (4697, 0.09979760936405342), (1311, 0.099677618068336), (1907, 0.09962819873773177), (992, 0.09961231383892565), (841, 0.09954429145656302), (1891, 0.09952406444563769), (2267, 0.09942324268499572), (4180, 0.0993839480342679), (3752, 0.09921376894485562), (829, 0.09918629909207875), (2335, 0.0990761474714395), (3017, 0.09906313701157758), (2706, 0.09904938505343641), (1414, 0.09900789262788325), (970, 0.09899770538854936), (4106, 0.09891390348726348), (379, 0.09890937665184829), (2443, 0.09888419276661845), (304, 0.09888214870715574), (2374, 0.09878115665225094), (3844, 0.09875755834543543), (1435, 0.09875432035257439), (1273, 0.09873431942609828), (1125, 0.09871849348012349), (2934, 0.09867326219181538), (3321, 0.09847073677783737), (3647, 0.09839097088568857), (2804, 0.09838053036763952), (1814, 0.09836437949585224), (2125, 0.09828668489861611), (3044, 0.09827891967705663), (3142, 0.09821445379841653), (958, 0.0981572353556548), (2746, 0.09814860425273955), (3263, 0.09811865560691527), (1722, 0.09807204620175672), (4393, 0.09807088848144771), (3956, 0.09804104894563903), (2791, 0.09802830023608528), (2624, 0.09801158584468671), (2304, 0.09796803628475127), (2372, 0.09792984941438611), (1546, 0.09792549678936255), (946, 0.09777015889802895), (157, 0.09776941887686688), (1304, 0.09773794541271517), (751, 0.0976947202870762), (2726, 0.09769446833719844), (2913, 0.09767457924638265), (4577, 0.09757608767661544), (3433, 0.09755491967556305), (375, 0.09754991693316356), (4051, 0.09754035373041213), (674, 0.09749209134241947), (2227, 0.09748225259313661), (497, 0.09745253875760372), (1765, 0.09743611469977735), (2743, 0.0974198865435591), (557, 0.09739614321575338), (2025, 0.09731969024560401), (2989, 0.09729649805069106), (2415, 0.09725806962580025), (1504, 0.09725527959794793), (3916, 0.09724326912299529), (1820, 0.09721800562416766), (1493, 0.09718917766662563), (2612, 0.09717667649339014), (2899, 0.09717367794586194), (2598, 0.0971729897835828), (3805, 0.0971681395001252), (4099, 0.09709695355938305), (739, 0.0970557487499977), (338, 0.09703621709516842), (302, 0.09703075850957617), (2430, 0.09700525201160781), (1807, 0.0969773664688728), (1542, 0.09692235195727653), (147, 0.09691290084956294), (4255, 0.09687104123245606), (1918, 0.09685450108202653), (477, 0.09684663750915518), (49, 0.0968120407350386), (651, 0.09678092122489504), (2697, 0.09668519103867089), (2020, 0.09663978215605765), (1491, 0.09662908038216704), (1063, 0.09659196520613596), (1187, 0.09658157096030233), (1398, 0.09655261559835611), (427, 0.09653660605128586), (280, 0.09653059701735633), (701, 0.09652421107816943), (2049, 0.09650507743320633), (2230, 0.09648223853629818), (513, 0.09642825782479157), (1690, 0.09631685107127086), (3762, 0.09630699284845445), (2143, 0.09626131508416949), (4164, 0.09624060002546203), (312, 0.09623156384821817), (1403, 0.09620409059675473), (1687, 0.09619568618221704), (3833, 0.09618863736695435), (2883, 0.0961854387210939), (2608, 0.09612415542914503), (3864, 0.09609681716303982), (3054, 0.09605750000069234), (943, 0.09601477774376904), (3915, 0.09598769502676063), (4464, 0.09595340735816597), (3053, 0.09590821267711533), (4221, 0.0958911243810002), (3179, 0.09584531569279689), (3147, 0.09582854761963139), (1163, 0.09580030908704369), (3344, 0.09579871568443926), (1426, 0.09578691466794417), (319, 0.09573416802009986), (1008, 0.09573174226608946), (662, 0.09555710096281825), (4014, 0.0955355596178198), (1614, 0.09540453494424889), (4591, 0.09532129542905142), (2596, 0.09531347696511464), (462, 0.09531213887842786), (3791, 0.09529786295255496), (869, 0.09529783278799699), (255, 0.09527077298743636), (4765, 0.09520770881771423), (520, 0.09520468226530683), (2251, 0.09519358014083239), (640, 0.09517989903853682), (2194, 0.09513471522671685), (1332, 0.09504547032354577), (1130, 0.09496540777143186), (4448, 0.09496469517685707), (856, 0.09492419189627416), (574, 0.0948897612968326), (2411, 0.09473012887374369), (3229, 0.09469588268122536), (1124, 0.0946711549630382), (2622, 0.09466746913772678), (2906, 0.0946031117519434), (3007, 0.09457058766825968), (1639, 0.09454848430302223), (2205, 0.09454698133184221), (3031, 0.09449543824997869), (1380, 0.09446704662085857), (2904, 0.0944643375989787), (1474, 0.09446269310731245), (1921, 0.0943936404996677), (4232, 0.09438887046446404), (3418, 0.09433638081898185), (1777, 0.09431441035893029), (3155, 0.09428141600857225), (2464, 0.09426199452664137), (2176, 0.09424450615719973), (3415, 0.0941789957344494), (1161, 0.09413100368539556), (541, 0.09409588450141944), (2213, 0.09406477759152332), (1644, 0.09403962232154754), (3230, 0.0940105380265721), (3634, 0.09400083967425577), (1650, 0.09387244569939221), (1353, 0.09386246844158246), (4415, 0.09384649744036394), (1447, 0.09381291580632807), (3363, 0.09372913701263857), (4711, 0.09371440321559882), (2074, 0.09370547829432053), (905, 0.09370254099748863), (3722, 0.09369424177558183), (484, 0.09365165559925433), (2485, 0.093646218967279), (2488, 0.0936042702626031), (2999, 0.09356025099041877), (4783, 0.0935522075502859), (1064, 0.0934113667168607), (4192, 0.09340797604974552), (3482, 0.09339561538891424), (2429, 0.093393156229091), (1241, 0.09336795595761549), (3853, 0.0933261061631115), (3405, 0.09331041615846446), (3868, 0.09325424733002048), (2620, 0.0932471297493449), (2698, 0.09324508723901795), (461, 0.09322039138858004), (3620, 0.09321763740649995), (3957, 0.09321402711398313), (467, 0.09320956164274893), (3758, 0.0931707947857429), (4795, 0.09310870585177984), (2466, 0.09310123856443736), (2765, 0.09308852678638052), (1324, 0.09305017745330399), (1448, 0.09305007737445062), (2962, 0.09304869532505554), (272, 0.09304313556175099), (3051, 0.09303353190574597), (763, 0.09300890413965382), (239, 0.09287014062927848), (486, 0.09285571612022991), (4727, 0.09285480593958324), (4719, 0.0927931077904354), (1608, 0.09278830454753038), (1942, 0.09277940538190968), (4522, 0.0927621004876546), (2623, 0.09268019852492088), (3528, 0.09267836810377054), (2674, 0.09266969444283056), (1121, 0.09266180814532882), (2823, 0.0926558228607885), (2572, 0.09262391550030082), (3636, 0.0925967376806729), (4485, 0.09249360429328513), (4672, 0.09245381505605675), (3693, 0.09244928147322527), (2107, 0.09244662561508821), (1009, 0.09241616627230217), (382, 0.09238727025933685), (1833, 0.09238596758375228), (2165, 0.09230887848780392), (2009, 0.09227630733047174), (989, 0.09227158338073545), (2000, 0.09222733504333999), (1839, 0.09216793784502021), (2699, 0.09213062558590258), (3562, 0.09210472657590744), (4623, 0.09208082902242633), (1876, 0.09206868886152213), (703, 0.09204829849659324), (3076, 0.09200234709687796), (1349, 0.09197465806927176), (3319, 0.09196711573522416), (1961, 0.09195079163993874), (3464, 0.09187334113402773), (1315, 0.09176657784104296), (2964, 0.09175165568192913), (733, 0.09173104449415402), (1558, 0.09170504872650946), (1930, 0.0916684642907411), (3373, 0.09166046700019093), (3506, 0.09163125277084282), (3569, 0.09162536585612674), (2891, 0.09156505789374784), (1631, 0.09153756723912622), (2300, 0.09151778429364762), (959, 0.09147375132930989), (4735, 0.09140111222862735), (1232, 0.09134570240510577), (1816, 0.09131311281739515), (3015, 0.09130198746694629), (2528, 0.09124987455727558), (1675, 0.09123258275495483), (3847, 0.09114641042787351), (4335, 0.09111941558317807), (865, 0.0911024884045831), (1789, 0.09105478806102756), (2456, 0.09101344510849721), (4130, 0.09099822022208427), (1014, 0.09099288797873877), (1368, 0.0909694046677254), (1884, 0.09093466659538253), (652, 0.09091361403137395), (753, 0.09091051794214107), (3458, 0.09069813099743274), (4094, 0.0906835104403579), (2798, 0.0906119749289358), (401, 0.09052495055205748), (1882, 0.09051674173504463), (4557, 0.09042718387442349), (3047, 0.09041565538082268), (991, 0.09039849865633838), (2352, 0.09032876629302175), (1002, 0.09023432924451455), (3889, 0.09019635431347049), (3879, 0.09016865618076739), (4102, 0.09006180140396404), (1628, 0.09003412409601144), (4222, 0.09002384892772944), (1705, 0.08997552948445411), (1046, 0.08994511623185336), (1946, 0.08992955737021098), (3521, 0.08990377385810094), (4131, 0.08988225183127223), (2332, 0.08972280843673693), (3265, 0.08971411262650367), (3967, 0.08968861871365888), (3793, 0.0896320647301756), (345, 0.08962364199737424), (717, 0.08961695679036057), (1126, 0.08955364674952489), (4101, 0.08941447064783133), (4176, 0.08937446242692283), (4360, 0.08935516745383748), (3550, 0.08934106926129451), (1616, 0.08930206125417067), (1072, 0.08928264692589677), (4695, 0.08925377163047937), (1592, 0.08924833204828997), (1237, 0.08901104251282524), (2356, 0.0889980317877135), (1166, 0.0889864243660788), (4202, 0.08897751574361794), (780, 0.0889131846203974), (1662, 0.08876329906783931), (2864, 0.08874909594650691), (2778, 0.08873314339805283), (2463, 0.088710826548456), (2161, 0.0886538828744971), (2236, 0.08860879518251928), (1488, 0.08856298396659101), (3284, 0.08855266079701432), (3114, 0.08853571162348868), (715, 0.08851264353205664), (975, 0.08843471193129325), (2007, 0.08833908015646917), (3302, 0.0882964333091818), (1157, 0.08826492957408932), (863, 0.08825813647657267), (1135, 0.0882424585244379), (1022, 0.08822317777888364), (4412, 0.08820745560548637), (2338, 0.08813271994461744), (412, 0.08800867592397243), (509, 0.08797215316456365), (3900, 0.08785521402291958), (2486, 0.08785250458757579), (2692, 0.08783595517685618), (313, 0.08782439946571065), (3694, 0.08780899445846277), (3092, 0.0877700819127804), (4158, 0.08776340158993313), (1269, 0.08773869946618976), (3756, 0.0877037829133031), (4042, 0.08762878566658748), (3453, 0.08755107268069502), (1716, 0.08746192864362899), (2487, 0.08745934808693324), (4474, 0.08741746098179129), (1955, 0.08740204223636612), (927, 0.08740010803678759), (1779, 0.08737862516564512), (736, 0.08732222076937834), (4351, 0.08726383423316703), (1173, 0.08720924835080614), (3626, 0.08716559720043943), (323, 0.08712663531468376), (2816, 0.0869402360401805), (4097, 0.08686990237237334), (2064, 0.08684502089790605), (2779, 0.08679448870051087), (3817, 0.08666471184017653), (1623, 0.08666193512282441), (2070, 0.08664374731645524), (3286, 0.0864802744048384), (4045, 0.08644792969201771), (193, 0.08631890387677188), (1479, 0.08628794678816147), (3436, 0.08625432631349061), (1906, 0.08624828609017025), (4278, 0.0862075244955703), (4181, 0.08619799274535397), (4429, 0.08616932439630345), (1319, 0.08607951360880377), (4558, 0.08604835971422148), (882, 0.08597850806375534), (3972, 0.08597385553217698), (3308, 0.08595118761329691), (2648, 0.08593414603685756), (307, 0.08580984340653273), (1280, 0.0857893110712009), (4664, 0.08578367130901264), (3623, 0.08577052114241597), (1943, 0.08575021271063406), (4084, 0.08562056193833438), (797, 0.08552276050437292), (3642, 0.08544242518321161), (4330, 0.0854413632384261), (4155, 0.08540934041135442), (3806, 0.08528949919423107), (1138, 0.08520061620757274), (3474, 0.08518643720784426), (3322, 0.08506920594687177), (4583, 0.08501728311992163), (643, 0.08500898319112794), (1824, 0.08494229788458152), (4241, 0.08492516003217766), (498, 0.08490160528315818), (1898, 0.08482018376837858), (679, 0.08479886957468623), (3759, 0.08473456690831324), (4450, 0.0845967669531669), (2909, 0.08457804802852027), (3059, 0.08454259079444187), (2538, 0.08451759110966456), (3116, 0.08448177905746697), (2297, 0.08442795011807022), (1685, 0.08441387460367929), (1986, 0.08438428383293427), (2833, 0.08438096054980287), (1142, 0.08434862879856662), (1272, 0.08433479427263431), (3846, 0.08427561157076506), (3625, 0.08410660900034762), (3173, 0.08405716464503274), (3514, 0.08403544230642274), (1148, 0.08388522175031635), (1354, 0.0837681826687667), (1595, 0.08371153517204463), (1860, 0.08370283723092974), (4798, 0.08358233986914017), (1117, 0.08350466741431845), (3105, 0.08350425021831741), (1572, 0.08341139680114099), (4789, 0.08338567887445833), (2990, 0.08332670515189874), (2589, 0.08329083376553564), (815, 0.08329018772883404), (3069, 0.08321847923903511), (2707, 0.0832067326113073), (4150, 0.08318976165637715), (4069, 0.08312183570020143), (2082, 0.0831086976177074), (1903, 0.08297962645210168), (678, 0.08293711871781004), (1771, 0.08290453137663562), (1909, 0.0829034913832403), (1248, 0.0828979062147955), (2498, 0.08278222964405312), (4028, 0.08276006965785927), (1149, 0.08271433402985942), (3874, 0.08263153766714196), (3583, 0.08262630865717548), (1974, 0.08245137886731724), (3402, 0.08233476342333579), (1949, 0.08231855197715315), (2653, 0.08220901109067298), (2302, 0.08213069344057311), (4343, 0.08212631332396328), (3325, 0.08205958769959892), (3835, 0.08194770318807093), (1994, 0.08193655447965537), (4215, 0.08170751593982739), (1700, 0.08170595784717609), (2959, 0.08169619588961442), (2963, 0.08157522123435876), (4626, 0.08156128899882967), (600, 0.08147814004107604), (921, 0.08146523169574192), (2098, 0.08144820773785452), (747, 0.08143726560110774), (4239, 0.08132785234857622), (3501, 0.08127406219127126), (916, 0.08125836956701565), (2031, 0.08115337937293698), (4394, 0.08113864624546654), (4572, 0.0811239944190653), (860, 0.08105936622349182), (4328, 0.0810287817005989), (4188, 0.08099545113221109), (3970, 0.08083255633620297), (1657, 0.08073427365136641), (2938, 0.08069083537310846), (4523, 0.08057093573283057), (3078, 0.08054791076369133), (2035, 0.080532010365911), (4070, 0.08051907601460719), (4607, 0.08049082078130497), (4248, 0.08042966327023958), (3553, 0.08036204041023504), (1966, 0.08035382142918589), (3036, 0.08033632866237125), (4209, 0.0802958304458034), (479, 0.08024799818175705), (3249, 0.0801954167067443), (1347, 0.08019087288837691), (2555, 0.08017014583935689), (1455, 0.08009849745462609), (1767, 0.08007166919215439), (2188, 0.08006901472759967), (3517, 0.080051383400973), (1249, 0.0800143367946511), (2317, 0.07998647854173208), (3531, 0.07987256186612686), (3079, 0.07980342450816509), (2771, 0.07966779671615021), (3032, 0.07963058799612378), (529, 0.07960546741826442), (726, 0.07958697143733835), (4338, 0.07958251640360457), (1381, 0.07949480601555797), (552, 0.0794330732541553), (1544, 0.07941262957179988), (2322, 0.0793558370520526), (3814, 0.07933190897238707), (1114, 0.07928517975326095), (2292, 0.07910820470240841), (264, 0.07909049786932924), (3225, 0.07907869398656389), (4589, 0.07898170086930922), (2889, 0.07897818254392919), (1434, 0.07888843047069238), (866, 0.0788435697626705), (4764, 0.07881285583395223), (3016, 0.07874898776107733), (4673, 0.07873242894734937), (2254, 0.0787255589924958), (3254, 0.07858979217062047), (2182, 0.07858091714094695), (3564, 0.07853857239631402), (3858, 0.07853222286332352), (2539, 0.0785254614997936), (91, 0.07849484742235147), (923, 0.07848281224620879), (623, 0.07846728874322928), (3021, 0.0784641104687863), (4138, 0.07845985618190059), (1574, 0.07837325166737463), (706, 0.07810755300432759), (3908, 0.07804704879634812), (2440, 0.07801810107693809), (3182, 0.07788255237737113), (4386, 0.0777851678286913), (4629, 0.07774378371014892), (2894, 0.0776729248438931), (4753, 0.07762947950590539), (3790, 0.07762162078051639), (4110, 0.07760233095191685), (2231, 0.07758990522604328), (4475, 0.07758387957494639), (2973, 0.07746254218594104), (1982, 0.07739567353926999), (2316, 0.07737501537212568), (3127, 0.07731930582654968), (2081, 0.07729181685177555), (2837, 0.07727375281525957), (4773, 0.0771793557215865), (3804, 0.07716460403046918), (4740, 0.07714830621667707), (1585, 0.0771459165395642), (4600, 0.07712692041096009), (4722, 0.07702356633653153), (3451, 0.07697980596951495), (4404, 0.07684362257971067), (1309, 0.07680343909865117), (4488, 0.07679144016414642), (2942, 0.07667321431038052), (4486, 0.07667086313594942), (881, 0.07664520048746255), (3585, 0.07663840348191334), (2110, 0.0766224493606128), (3515, 0.0765516429587754), (3176, 0.07648282497169075), (2931, 0.0764401049802127), (1060, 0.07640842162254301), (2793, 0.0761514658788944), (2768, 0.07604728285259653), (2452, 0.0760284913192462), (1746, 0.07592509204990786), (2780, 0.07590729561710348), (2649, 0.07579775990728796), (2924, 0.07577989804307202), (4442, 0.07563374873313845), (3508, 0.07536006111703242), (580, 0.07534862342082224), (1270, 0.07529071969514814), (605, 0.07517753527410839), (4001, 0.0751221839156019), (1547, 0.07502977332343375), (3199, 0.07498636012095407), (1477, 0.07495937415352817), (2695, 0.0749529194475219), (1169, 0.07494440286285663), (3798, 0.07482804388641873), (4668, 0.07475920816625849), (1785, 0.07465602241002146), (3682, 0.07464098408561126), (4031, 0.07462583207173978), (2202, 0.0746010960448087), (649, 0.07435826043935947), (1383, 0.07397388260310082), (4007, 0.07393860784347443), (4527, 0.07390376620444064), (2721, 0.07350325551299525), (1732, 0.0734320340489374), (3857, 0.07343148954192956), (4757, 0.07341898409436058), (2099, 0.07337443850143219), (3072, 0.07333496250677154), (1480, 0.0733055940938332), (3645, 0.0732986625444377), (2785, 0.07329483833799019), (4306, 0.07324290504565582), (146, 0.0732409673332467), (4526, 0.07322891750571246), (1042, 0.07306727138061925), (1678, 0.07304082316715275), (718, 0.07294448144986286), (2744, 0.07288757403179283), (3632, 0.07285354268586279), (4203, 0.07280157603366542), (3982, 0.07252388442886765), (4763, 0.07242834930717644), (4315, 0.0724094755415553), (3172, 0.0723470993568199), (3038, 0.07218451178068201), (4233, 0.07216640608381579), (3144, 0.07206838754894727), (2644, 0.07205857997771972), (1774, 0.07195682554803377), (4082, 0.07183237010713388), (3299, 0.07180866829915676), (3112, 0.07180836089510169), (1926, 0.07171842543121847), (2506, 0.07168204788717532), (2507, 0.07165694816921728), (57, 0.07165384743684347), (2367, 0.07164965488659318), (1843, 0.07160500433310794), (2223, 0.07144789624725484), (1901, 0.07142403632578524), (3267, 0.07135041832375826), (3241, 0.07133499464950117), (4748, 0.07128388832411535), (4117, 0.07126208886843105), (588, 0.07123958289212327), (2391, 0.07106055821253766), (4471, 0.07096564518040305), (3608, 0.07088763972805413), (3513, 0.07080128775329886), (4597, 0.0707593946012658), (1285, 0.07069699402750912), (3747, 0.07068988477077831), (1305, 0.07068168463190666), (4628, 0.07067012479367633), (4678, 0.070449810997383), (4760, 0.07044501544486378), (4316, 0.07025540919342926), (716, 0.0701541775828381), (913, 0.06994102315241968), (4559, 0.06983218705393009), (3274, 0.0698097003408285), (4013, 0.06977946429774183), (2932, 0.06960379861919824), (162, 0.06947767673405905), (3855, 0.06946350024359021), (1910, 0.0693416622541439), (981, 0.06930230877104816), (3678, 0.06909837705780181), (2777, 0.06896743752138002), (4266, 0.06892739503399765), (4356, 0.06891654515494157), (3803, 0.06887252247948568), (4455, 0.06880863171555), (4274, 0.06872015591482787), (3742, 0.06868288427810218), (2878, 0.06866678870095727), (2305, 0.06858183473062086), (1947, 0.06840056806127365), (3395, 0.06839689428611415), (4656, 0.06829282483785694), (3575, 0.06811013427700328), (4636, 0.06808585125156394), (3888, 0.06780557220065798), (2492, 0.06778256026676346), (2122, 0.06777850042917448), (4414, 0.06776333515253573), (1862, 0.06750090344189894), (4720, 0.06743945372892048), (1863, 0.0674115756197809), (1039, 0.06739057767228596), (1641, 0.06731307896965541), (4381, 0.06727659057898547), (4580, 0.06721915404168927), (966, 0.06717193006575875), (3660, 0.06701499121099287), (4149, 0.06668364286060867), (772, 0.0666332194489777), (4383, 0.06652133732364851), (4305, 0.0665015873846991), (4304, 0.06637666774999496), (4398, 0.06632036772403417), (4285, 0.06621693186756887), (3020, 0.066145521497434), (1503, 0.06596430229479906), (357, 0.06587088007996955), (1755, 0.06583417094500617), (3205, 0.06583306145831873), (1879, 0.06580803501551538), (4638, 0.0655165743934117), (3777, 0.06550332993105051), (2715, 0.06547063129154199), (4288, 0.0654677584944963), (2985, 0.06537051807080388), (3757, 0.06532525995521284), (4027, 0.06512675244622829), (3836, 0.0651003167450897), (3280, 0.0648411100428604), (802, 0.06478857817173174), (2557, 0.06466143176989421), (3207, 0.06436834877596861), (4630, 0.06434856466496308), (1520, 0.06428243434425371), (2174, 0.06411730494400408), (2370, 0.06371514865326404), (3948, 0.06369807986839489), (4609, 0.0636523521651526), (4478, 0.06361526798953791), (4543, 0.06354506282441902), (1701, 0.06353336595482637), (2226, 0.0635170131826248), (2663, 0.06350430079906305), (2679, 0.06330090167204906), (2761, 0.06326661912862536), (560, 0.06324099414465845), (2028, 0.06313161254131963), (1276, 0.06268490955616052), (3331, 0.06230729108725352), (4146, 0.06222854804816), (2531, 0.06195394553948627), (2562, 0.061710522749291), (3213, 0.06163401474358531), (3591, 0.06156447792237596), (3840, 0.06144126538947956), (3736, 0.06136267994486333), (4625, 0.061313370621091476), (3306, 0.06095133694780098), (1857, 0.06069747463161465), (4116, 0.06068230054732946), (1913, 0.06042604173216411), (2928, 0.060210630758325764), (4374, 0.06002319333295302), (1466, 0.05995782073117248), (4655, 0.059832692335113395), (3661, 0.059667311063034835), (3077, 0.05939906835872653), (2789, 0.05912582511826449), (3066, 0.058722469951373577), (2034, 0.05871615380123287), (2665, 0.05869196388582436), (3503, 0.05856166394499988), (3590, 0.058445713041825234), (3911, 0.058429842615142905), (3996, 0.058167701847694674), (4382, 0.05784074458907892), (1597, 0.05758790640173016), (1054, 0.057528370871628126), (1469, 0.057424386741472495), (4799, 0.05731662512666291), (3223, 0.05649876051514887), (967, 0.05635806530273154), (4679, 0.05632942037577347), (4421, 0.056294941380160675), (3959, 0.05626948207565357), (4646, 0.05621926313402676), (4506, 0.05619536329555385), (4035, 0.0561535357211524), (4366, 0.05588049733766428), (4501, 0.05561107269296456), (4313, 0.05555764745588093), (4369, 0.05544070661194618), (3823, 0.05541528938797509), (2252, 0.05540595922114334), (4048, 0.05487402157161038), (1502, 0.05482568449979256), (4040, 0.054649685711717605), (4037, 0.054324367459045446), (3509, 0.05416706312768401), (2646, 0.054138315249288665), (4524, 0.053817059003346525), (3412, 0.05345251155708991), (3485, 0.053398657030566656), (3669, 0.053158911915296404), (4787, 0.05313782316786615), (3787, 0.052715056861682874), (4791, 0.05252351636775205), (4766, 0.05233292364563523), (4009, 0.05216739948779393), (3976, 0.052035962984011634), (3808, 0.051882633502069016), (4515, 0.051807727952255314), (1104, 0.05166626621617572), (499, 0.05162524570222081), (344, 0.05160411407672899), (4261, 0.05143721454759154), (3203, 0.051403882461533344), (3326, 0.0513686290399109), (1775, 0.051011398908255685), (2437, 0.05078356733115366), (3555, 0.05066536456706579), (1593, 0.05066182891315372), (3243, 0.050434973426495486), (4574, 0.04977875400016546), (4519, 0.04952121212499525), (4665, 0.049243031637452764), (4725, 0.04891662574497687), (4311, 0.04865315318774577), (3963, 0.04861723826083219), (4667, 0.048218370817652734), (3796, 0.04784375557280229), (2976, 0.04777831703409604), (4482, 0.04758870286060022), (4493, 0.04740723816799168), (2360, 0.04733349020086175), (2382, 0.047204625209753034), (1189, 0.047162436609592975), (3913, 0.04680844324486279), (3355, 0.046147627697541306), (3335, 0.04600305393513221), (4317, 0.045489113013836416), (436, 0.04481283597856031), (4718, 0.04269198526312852), (3354, 0.042555248393836814), (4105, 0.04228955109780654), (2591, 0.04224645140290289), (857, 0.04198922905686539), (2427, 0.04184316285357652), (1834, 0.04180299644238581), (4743, 0.040893884835155325), (4029, 0.03953095847848903), (4634, 0.03849202562691236), (4299, 0.038456368616482786), (2242, 0.036880901966912), (4122, 0.036857366752545535), (4426, 0.035311371026269744), (2421, 0.03477992830858638), (4801, 0.03307902721867066), (4721, 0.03141650480769608), (4142, 0.029139795796842703), (2273, 0.024038301451489486), (4569, 0.01973621722679195), (10, 0.0), (56, 0.0), (66, 0.0), (78, 0.0), (128, 0.0), (166, 0.0), (235, 0.0), (288, 0.0), (317, 0.0), (381, 0.0), (465, 0.0), (474, 0.0), (492, 0.0), (536, 0.0), (540, 0.0), (602, 0.0), (655, 0.0), (660, 0.0), (667, 0.0), (713, 0.0), (738, 0.0), (769, 0.0), (786, 0.0), (796, 0.0), (806, 0.0), (822, 0.0), (824, 0.0), (835, 0.0), (845, 0.0), (859, 0.0), (942, 0.0), (952, 0.0), (971, 0.0), (985, 0.0), (1010, 0.0), (1011, 0.0), (1023, 0.0), (1028, 0.0), (1069, 0.0), (1074, 0.0), (1087, 0.0), (1088, 0.0), (1094, 0.0), (1099, 0.0), (1144, 0.0), (1208, 0.0), (1253, 0.0), (1256, 0.0), (1258, 0.0), (1261, 0.0), (1267, 0.0), (1268, 0.0), (1277, 0.0), (1284, 0.0), (1287, 0.0), (1288, 0.0), (1290, 0.0), (1291, 0.0), (1295, 0.0), (1306, 0.0), (1317, 0.0), (1321, 0.0), (1341, 0.0), (1355, 0.0), (1357, 0.0), (1360, 0.0), (1382, 0.0), (1387, 0.0), (1393, 0.0), (1418, 0.0), (1421, 0.0), (1460, 0.0), (1464, 0.0), (1475, 0.0), (1478, 0.0), (1509, 0.0), (1511, 0.0), (1516, 0.0), (1522, 0.0), (1524, 0.0), (1528, 0.0), (1530, 0.0), (1541, 0.0), (1543, 0.0), (1569, 0.0), (1579, 0.0), (1600, 0.0), (1627, 0.0), (1658, 0.0), (1665, 0.0), (1667, 0.0), (1673, 0.0), (1676, 0.0), (1677, 0.0), (1679, 0.0), (1681, 0.0), (1691, 0.0), (1698, 0.0), (1709, 0.0), (1727, 0.0), (1729, 0.0), (1730, 0.0), (1738, 0.0), (1741, 0.0), (1769, 0.0), (1772, 0.0), (1776, 0.0), (1801, 0.0), (1840, 0.0), (1872, 0.0), (1880, 0.0), (1886, 0.0), (1895, 0.0), (1897, 0.0), (1899, 0.0), (1912, 0.0), (1919, 0.0), (1922, 0.0), (1932, 0.0), (1933, 0.0), (1934, 0.0), (1935, 0.0), (1937, 0.0), (1938, 0.0), (1941, 0.0), (1950, 0.0), (1951, 0.0), (1954, 0.0), (1962, 0.0), (1963, 0.0), (1965, 0.0), (1979, 0.0), (1984, 0.0), (1985, 0.0), (2001, 0.0), (2005, 0.0), (2006, 0.0), (2010, 0.0), (2011, 0.0), (2032, 0.0), (2055, 0.0), (2059, 0.0), (2065, 0.0), (2077, 0.0), (2079, 0.0), (2089, 0.0), (2119, 0.0), (2130, 0.0), (2151, 0.0), (2192, 0.0), (2201, 0.0), (2203, 0.0), (2211, 0.0), (2217, 0.0), (2222, 0.0), (2241, 0.0), (2246, 0.0), (2248, 0.0), (2256, 0.0), (2257, 0.0), (2259, 0.0), (2261, 0.0), (2265, 0.0), (2266, 0.0), (2268, 0.0), (2271, 0.0), (2272, 0.0), (2277, 0.0), (2287, 0.0), (2295, 0.0), (2309, 0.0), (2341, 0.0), (2344, 0.0), (2347, 0.0), (2362, 0.0), (2369, 0.0), (2373, 0.0), (2378, 0.0), (2379, 0.0), (2385, 0.0), (2393, 0.0), (2401, 0.0), (2426, 0.0), (2434, 0.0), (2436, 0.0), (2444, 0.0), (2472, 0.0), (2476, 0.0), (2479, 0.0), (2493, 0.0), (2494, 0.0), (2497, 0.0), (2499, 0.0), (2502, 0.0), (2503, 0.0), (2504, 0.0), (2505, 0.0), (2519, 0.0), (2521, 0.0), (2523, 0.0), (2548, 0.0), (2550, 0.0), (2552, 0.0), (2574, 0.0), (2588, 0.0), (2590, 0.0), (2593, 0.0), (2599, 0.0), (2601, 0.0), (2604, 0.0), (2617, 0.0), (2629, 0.0), (2631, 0.0), (2634, 0.0), (2637, 0.0), (2641, 0.0), (2643, 0.0), (2650, 0.0), (2652, 0.0), (2655, 0.0), (2656, 0.0), (2658, 0.0), (2662, 0.0), (2670, 0.0), (2687, 0.0), (2690, 0.0), (2691, 0.0), (2693, 0.0), (2694, 0.0), (2701, 0.0), (2705, 0.0), (2708, 0.0), (2709, 0.0), (2710, 0.0), (2712, 0.0), (2713, 0.0), (2714, 0.0), (2723, 0.0), (2728, 0.0), (2754, 0.0), (2758, 0.0), (2764, 0.0), (2767, 0.0), (2770, 0.0), (2772, 0.0), (2775, 0.0), (2787, 0.0), (2806, 0.0), (2825, 0.0), (2835, 0.0), (2840, 0.0), (2841, 0.0), (2848, 0.0), (2854, 0.0), (2855, 0.0), (2857, 0.0), (2861, 0.0), (2863, 0.0), (2866, 0.0), (2867, 0.0), (2869, 0.0), (2875, 0.0), (2876, 0.0), (2881, 0.0), (2882, 0.0), (2885, 0.0), (2890, 0.0), (2892, 0.0), (2895, 0.0), (2896, 0.0), (2898, 0.0), (2900, 0.0), (2903, 0.0), (2908, 0.0), (2910, 0.0), (2916, 0.0), (2926, 0.0), (2933, 0.0), (2951, 0.0), (2954, 0.0), (2955, 0.0), (2956, 0.0), (2969, 0.0), (2970, 0.0), (2972, 0.0), (2974, 0.0), (2984, 0.0), (3022, 0.0), (3025, 0.0), (3028, 0.0), (3029, 0.0), (3034, 0.0), (3037, 0.0), (3039, 0.0), (3043, 0.0), (3060, 0.0), (3061, 0.0), (3067, 0.0), (3071, 0.0), (3080, 0.0), (3087, 0.0), (3089, 0.0), (3096, 0.0), (3101, 0.0), (3102, 0.0), (3103, 0.0), (3110, 0.0), (3113, 0.0), (3115, 0.0), (3117, 0.0), (3118, 0.0), (3121, 0.0), (3125, 0.0), (3128, 0.0), (3129, 0.0), (3130, 0.0), (3131, 0.0), (3134, 0.0), (3135, 0.0), (3140, 0.0), (3145, 0.0), (3154, 0.0), (3157, 0.0), (3164, 0.0), (3166, 0.0), (3178, 0.0), (3180, 0.0), (3183, 0.0), (3185, 0.0), (3190, 0.0), (3191, 0.0), (3193, 0.0), (3194, 0.0), (3196, 0.0), (3197, 0.0), (3200, 0.0), (3206, 0.0), (3208, 0.0), (3215, 0.0), (3220, 0.0), (3221, 0.0), (3226, 0.0), (3228, 0.0), (3248, 0.0), (3261, 0.0), (3262, 0.0), (3268, 0.0), (3270, 0.0), (3271, 0.0), (3272, 0.0), (3285, 0.0), (3289, 0.0), (3292, 0.0), (3295, 0.0), (3298, 0.0), (3300, 0.0), (3304, 0.0), (3310, 0.0), (3314, 0.0), (3316, 0.0), (3317, 0.0), (3324, 0.0), (3327, 0.0), (3328, 0.0), (3333, 0.0), (3340, 0.0), (3359, 0.0), (3366, 0.0), (3367, 0.0), (3371, 0.0), (3377, 0.0), (3380, 0.0), (3382, 0.0), (3384, 0.0), (3385, 0.0), (3387, 0.0), (3388, 0.0), (3392, 0.0), (3393, 0.0), (3396, 0.0), (3397, 0.0), (3400, 0.0), (3403, 0.0), (3407, 0.0), (3408, 0.0), (3410, 0.0), (3422, 0.0), (3426, 0.0), (3430, 0.0), (3431, 0.0), (3432, 0.0), (3435, 0.0), (3437, 0.0), (3438, 0.0), (3452, 0.0), (3461, 0.0), (3471, 0.0), (3478, 0.0), (3487, 0.0), (3488, 0.0), (3489, 0.0), (3491, 0.0), (3493, 0.0), (3494, 0.0), (3496, 0.0), (3497, 0.0), (3498, 0.0), (3500, 0.0), (3502, 0.0), (3510, 0.0), (3519, 0.0), (3522, 0.0), (3523, 0.0), (3533, 0.0), (3535, 0.0), (3540, 0.0), (3544, 0.0), (3547, 0.0), (3558, 0.0), (3565, 0.0), (3578, 0.0), (3589, 0.0), (3610, 0.0), (3613, 0.0), (3614, 0.0), (3618, 0.0), (3646, 0.0), (3654, 0.0), (3655, 0.0), (3656, 0.0), (3659, 0.0), (3663, 0.0), (3665, 0.0), (3666, 0.0), (3667, 0.0), (3670, 0.0), (3672, 0.0), (3673, 0.0), (3674, 0.0), (3679, 0.0), (3681, 0.0), (3686, 0.0), (3687, 0.0), (3688, 0.0), (3689, 0.0), (3701, 0.0), (3702, 0.0), (3707, 0.0), (3708, 0.0), (3710, 0.0), (3712, 0.0), (3714, 0.0), (3716, 0.0), (3718, 0.0), (3720, 0.0), (3721, 0.0), (3723, 0.0), (3724, 0.0), (3727, 0.0), (3728, 0.0), (3729, 0.0), (3730, 0.0), (3732, 0.0), (3740, 0.0), (3744, 0.0), (3745, 0.0), (3760, 0.0), (3768, 0.0), (3771, 0.0), (3773, 0.0), (3776, 0.0), (3781, 0.0), (3783, 0.0), (3788, 0.0), (3792, 0.0), (3800, 0.0), (3801, 0.0), (3809, 0.0), (3810, 0.0), (3815, 0.0), (3816, 0.0), (3818, 0.0), (3830, 0.0), (3831, 0.0), (3838, 0.0), (3839, 0.0), (3849, 0.0), (3852, 0.0), (3856, 0.0), (3863, 0.0), (3875, 0.0), (3882, 0.0), (3892, 0.0), (3894, 0.0), (3897, 0.0), (3904, 0.0), (3909, 0.0), (3912, 0.0), (3917, 0.0), (3921, 0.0), (3922, 0.0), (3923, 0.0), (3926, 0.0), (3927, 0.0), (3929, 0.0), (3935, 0.0), (3938, 0.0), (3941, 0.0), (3943, 0.0), (3945, 0.0), (3950, 0.0), (3951, 0.0), (3952, 0.0), (3953, 0.0), (3960, 0.0), (3961, 0.0), (3962, 0.0), (3965, 0.0), (3968, 0.0), (3969, 0.0), (3971, 0.0), (3977, 0.0), (3990, 0.0), (3992, 0.0), (3993, 0.0), (3995, 0.0), (3999, 0.0), (4000, 0.0), (4002, 0.0), (4004, 0.0), (4005, 0.0), (4016, 0.0), (4018, 0.0), (4019, 0.0), (4021, 0.0), (4023, 0.0), (4026, 0.0), (4030, 0.0), (4034, 0.0), (4036, 0.0), (4038, 0.0), (4044, 0.0), (4047, 0.0), (4054, 0.0), (4055, 0.0), (4056, 0.0), (4057, 0.0), (4059, 0.0), (4064, 0.0), (4065, 0.0), (4067, 0.0), (4068, 0.0), (4072, 0.0), (4075, 0.0), (4076, 0.0), (4085, 0.0), (4086, 0.0), (4091, 0.0), (4093, 0.0), (4095, 0.0), (4104, 0.0), (4108, 0.0), (4111, 0.0), (4112, 0.0), (4113, 0.0), (4115, 0.0), (4118, 0.0), (4119, 0.0), (4120, 0.0), (4121, 0.0), (4123, 0.0), (4124, 0.0), (4136, 0.0), (4140, 0.0), (4141, 0.0), (4143, 0.0), (4145, 0.0), (4147, 0.0), (4148, 0.0), (4152, 0.0), (4154, 0.0), (4156, 0.0), (4160, 0.0), (4161, 0.0), (4165, 0.0), (4168, 0.0), (4169, 0.0), (4178, 0.0), (4184, 0.0), (4185, 0.0), (4186, 0.0), (4187, 0.0), (4198, 0.0), (4199, 0.0), (4205, 0.0), (4206, 0.0), (4207, 0.0), (4208, 0.0), (4210, 0.0), (4212, 0.0), (4217, 0.0), (4220, 0.0), (4227, 0.0), (4230, 0.0), (4231, 0.0), (4235, 0.0), (4236, 0.0), (4242, 0.0), (4243, 0.0), (4244, 0.0), (4250, 0.0), (4252, 0.0), (4253, 0.0), (4254, 0.0), (4256, 0.0), (4258, 0.0), (4262, 0.0), (4265, 0.0), (4269, 0.0), (4270, 0.0), (4271, 0.0), (4272, 0.0), (4273, 0.0), (4275, 0.0), (4277, 0.0), (4279, 0.0), (4280, 0.0), (4289, 0.0), (4290, 0.0), (4292, 0.0), (4293, 0.0), (4294, 0.0), (4296, 0.0), (4301, 0.0), (4303, 0.0), (4307, 0.0), (4308, 0.0), (4309, 0.0), (4314, 0.0), (4318, 0.0), (4322, 0.0), (4323, 0.0), (4324, 0.0), (4334, 0.0), (4342, 0.0), (4354, 0.0), (4361, 0.0), (4362, 0.0), (4363, 0.0), (4367, 0.0), (4370, 0.0), (4376, 0.0), (4377, 0.0), (4379, 0.0), (4384, 0.0), (4385, 0.0), (4387, 0.0), (4389, 0.0), (4395, 0.0), (4396, 0.0), (4399, 0.0), (4400, 0.0), (4401, 0.0), (4403, 0.0), (4405, 0.0), (4406, 0.0), (4408, 0.0), (4409, 0.0), (4410, 0.0), (4413, 0.0), (4416, 0.0), (4417, 0.0), (4418, 0.0), (4419, 0.0), (4422, 0.0), (4424, 0.0), (4425, 0.0), (4430, 0.0), (4431, 0.0), (4435, 0.0), (4438, 0.0), (4444, 0.0), (4445, 0.0), (4451, 0.0), (4456, 0.0), (4457, 0.0), (4458, 0.0), (4459, 0.0), (4460, 0.0), (4461, 0.0), (4462, 0.0), (4463, 0.0), (4465, 0.0), (4466, 0.0), (4468, 0.0), (4469, 0.0), (4472, 0.0), (4481, 0.0), (4484, 0.0), (4487, 0.0), (4490, 0.0), (4491, 0.0), (4492, 0.0), (4499, 0.0), (4500, 0.0), (4502, 0.0), (4503, 0.0), (4504, 0.0), (4505, 0.0), (4508, 0.0), (4510, 0.0), (4512, 0.0), (4513, 0.0), (4517, 0.0), (4520, 0.0), (4521, 0.0), (4531, 0.0), (4532, 0.0), (4534, 0.0), (4536, 0.0), (4538, 0.0), (4540, 0.0), (4541, 0.0), (4544, 0.0), (4546, 0.0), (4547, 0.0), (4548, 0.0), (4549, 0.0), (4550, 0.0), (4552, 0.0), (4553, 0.0), (4554, 0.0), (4556, 0.0), (4560, 0.0), (4561, 0.0), (4562, 0.0), (4564, 0.0), (4565, 0.0), (4566, 0.0), (4568, 0.0), (4570, 0.0), (4571, 0.0), (4573, 0.0), (4578, 0.0), (4581, 0.0), (4582, 0.0), (4584, 0.0), (4587, 0.0), (4588, 0.0), (4590, 0.0), (4593, 0.0), (4598, 0.0), (4599, 0.0), (4601, 0.0), (4611, 0.0), (4612, 0.0), (4614, 0.0), (4615, 0.0), (4616, 0.0), (4617, 0.0), (4618, 0.0), (4619, 0.0), (4620, 0.0), (4621, 0.0), (4622, 0.0), (4624, 0.0), (4627, 0.0), (4632, 0.0), (4633, 0.0), (4635, 0.0), (4637, 0.0), (4640, 0.0), (4641, 0.0), (4642, 0.0), (4644, 0.0), (4645, 0.0), (4651, 0.0), (4652, 0.0), (4653, 0.0), (4657, 0.0), (4658, 0.0), (4660, 0.0), (4661, 0.0), (4662, 0.0), (4663, 0.0), (4674, 0.0), (4676, 0.0), (4680, 0.0), (4681, 0.0), (4682, 0.0), (4683, 0.0), (4684, 0.0), (4685, 0.0), (4686, 0.0), (4689, 0.0), (4690, 0.0), (4691, 0.0), (4692, 0.0), (4693, 0.0), (4694, 0.0), (4698, 0.0), (4699, 0.0), (4700, 0.0), (4702, 0.0), (4705, 0.0), (4706, 0.0), (4708, 0.0), (4710, 0.0), (4712, 0.0), (4713, 0.0), (4714, 0.0), (4715, 0.0), (4716, 0.0), (4729, 0.0), (4731, 0.0), (4736, 0.0), (4737, 0.0), (4741, 0.0), (4747, 0.0), (4750, 0.0), (4751, 0.0), (4754, 0.0), (4755, 0.0), (4756, 0.0), (4759, 0.0), (4761, 0.0), (4762, 0.0), (4768, 0.0), (4769, 0.0), (4770, 0.0), (4771, 0.0), (4775, 0.0), (4777, 0.0), (4779, 0.0), (4780, 0.0), (4782, 0.0), (4784, 0.0), (4785, 0.0), (4786, 0.0), (4790, 0.0), (4794, 0.0), (4797, 0.0), (4800, 0.0), (4802, 0.0)]\n"
          ]
        }
      ]
    },
    {
      "cell_type": "markdown",
      "source": [
        "Recommendation List Output"
      ],
      "metadata": {
        "id": "rvEkFePf-Z2E"
      }
    },
    {
      "cell_type": "code",
      "source": [
        "print('Top 20 Movies Suggested for You : \\n')\n",
        "\n",
        "i = 1\n",
        "\n",
        "for movie in Sorted_Similar_Movies:\n",
        "  index = movie[0]\n",
        "  title_from_index = df[df.index==index]['Title'].values[0]\n",
        "  if (i<21):\n",
        "    print(i, '.',title_from_index)\n",
        "    i+=1"
      ],
      "metadata": {
        "colab": {
          "base_uri": "https://localhost:8080/"
        },
        "id": "d6Dijz3TwYj8",
        "outputId": "9fc0b245-2eb8-4591-f351-87c3fd7ef5ba"
      },
      "execution_count": 191,
      "outputs": [
        {
          "output_type": "stream",
          "name": "stdout",
          "text": [
            "Top 20 Movies Suggested for You : \n",
            "\n",
            "1 . Aquamarine\n",
            "2 . Splash\n",
            "3 . Brooklyn's Finest\n",
            "4 . Ondine\n",
            "5 . Crossroads\n",
            "6 . Big Fish\n",
            "7 . Back to the Future\n",
            "8 . Fish Tank\n",
            "9 . Notes on a Scandal\n",
            "10 . The To Do List\n",
            "11 . In the Name of the King: A Dungeon Siege Tale\n",
            "12 . Southland Tales\n",
            "13 . The Way Way Back\n",
            "14 . Hard Candy\n",
            "15 . Jawbreaker\n",
            "16 . August Rush\n",
            "17 . The Matrix Revolutions\n",
            "18 . St. Trinian's\n",
            "19 . Mean Girls\n",
            "20 . The Last Samurai\n"
          ]
        }
      ]
    },
    {
      "cell_type": "markdown",
      "source": [
        "**Explanation**\n",
        "\n",
        "In this system, we are implementing Cosine Similarity Algorithm to Recommend movies bases on the given Favourite Movie.\n",
        "\n",
        "By using the terms: Genre, Description, Tagline and Keywords: we are able to calculate the similarites of the given favourite movie and all the movies in the dataset.\n",
        "The difflib library is used to understand the user input even when it is in gibberish and make the closest assumption based on the titles available in the dataset.\n",
        "Later, the similarities  are calculated based on the given terms in columns and a similarity score is generated.\n",
        "This score is later sorted and the highest ones (top 20) are displayed as the Recommended Movies."
      ],
      "metadata": {
        "id": "HuDXfiK4-e75"
      }
    }
  ]
}